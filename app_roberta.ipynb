{
 "cells": [
  {
   "cell_type": "markdown",
   "metadata": {},
   "source": [
    "## Analysis of Public Perception of Women's Participation in Football during Euro 2024\n",
    "# Introduction\n",
    "\n",
    "The importance of equal opportunities for women in sports cannot be overstated. Historically, sports have been a male-dominated arena, with women often facing significant barriers to participation, recognition, and equal treatment. However, the landscape is gradually changing, and events like the Euro 2024 are prime examples of platforms where women athletes are increasingly showcasing their talent and dedication.\n",
    "\n",
    "# 🚩Analyzing public perception of women's participation in football during major events like Euro 2024 is crucial for several reasons:\n",
    "\n",
    "✅Understanding Public Sentiment: Gauging how the public perceives women's participation helps stakeholders understand the level of support or opposition. This can influence policies, sponsorship, and media coverage.\n",
    "\n",
    "✅Identifying Areas for Improvement: Sentiment analysis can highlight specific areas where women's participation is either praised or criticized, allowing organizations to address these issues effectively.\n",
    "\n",
    "✅Promoting Equality: By continuously monitoring and analyzing public opinion, we can promote equality in sports, ensuring that women receive the recognition and opportunities they deserve.\n",
    "\n",
    "✅Supporting Decision Making: Organizations, advertisers, and policy-makers can use these insights to make informed decisions that support and promote women's sports.\n",
    "\n",
    "# 🚩Purpose of the Analysis\n",
    "\n",
    "The purpose of this analysis is to understand how the participation of women in football during Euro 2024 is perceived. Through sentiment analysis of posts and comments on Reddit, we aim to identify positive, negative, and neutral opinions on this topic. This information can be useful for sports organizations, journalists, and analysts who wish to understand public perception and make informed decisions.\n",
    "\n",
    "1. APIs Used\n",
    "\n",
    "✅PRAW (Python Reddit API Wrapper): To access posts and comments on Reddit.\n",
    "✅Transformers by Hugging Face: To use pre-trained sentiment analysis models.\n",
    "✅NLTK (Natural Language Toolkit): For sentence tokenization.\n",
    "✅Plotly: For data visualization.\n",
    "\n",
    "2. Model Used (Pipelines)\n",
    "\n",
    "We used the cardiffnlp/twitter-roberta-base-sentiment sentiment analysis model provided by Hugging Face. This model is optimized for analyzing sentiments in short texts, such as social media posts and comments."
   ]
  },
  {
   "cell_type": "markdown",
   "metadata": {},
   "source": [
    "## 1.Import Libraries and Configure Models"
   ]
  },
  {
   "cell_type": "code",
   "execution_count": 1,
   "metadata": {},
   "outputs": [
    {
     "name": "stderr",
     "output_type": "stream",
     "text": [
      "[nltk_data] Downloading package punkt to\n",
      "[nltk_data]     C:\\Users\\Rubén\\AppData\\Roaming\\nltk_data...\n",
      "[nltk_data]   Package punkt is already up-to-date!\n"
     ]
    }
   ],
   "source": [
    "import pandas as pd\n",
    "import praw\n",
    "import nltk\n",
    "from nltk.tokenize import sent_tokenize\n",
    "from tqdm.notebook import tqdm\n",
    "from transformers import pipeline, AutoTokenizer\n",
    "import plotly.express as px\n",
    "import plotly.graph_objects as go\n",
    "import concurrent.futures\n",
    "import numpy as np\n",
    "from collections import Counter\n",
    "\n",
    "#nltk.download('punkt')\n",
    "\n",
    "model_name = \"cardiffnlp/twitter-roberta-base-sentiment\"\n",
    "tokenizer = AutoTokenizer.from_pretrained(model_name)\n",
    "sentiment_pipeline = pipeline(\"sentiment-analysis\", model=model_name, tokenizer=tokenizer)\n"
   ]
  },
  {
   "cell_type": "markdown",
   "metadata": {},
   "source": [
    "## 2.Functions for Text Processing and Sentiment Analysis"
   ]
  },
  {
   "cell_type": "code",
   "execution_count": 2,
   "metadata": {},
   "outputs": [],
   "source": [
    "def split_text_into_chunks(text, tokenizer, max_length=512):\n",
    "    sentences = sent_tokenize(text)\n",
    "    chunks, current_chunk, current_length = [], [], 0\n",
    "    for sentence in sentences:\n",
    "        sentence_tokens = tokenizer.encode(sentence, add_special_tokens=False)\n",
    "        sentence_length = len(sentence_tokens)\n",
    "        if current_length + sentence_length + 2 > max_length:\n",
    "            chunks.append(\" \".join(current_chunk))\n",
    "            current_chunk, current_length = [sentence], sentence_length\n",
    "        else:\n",
    "            current_chunk.append(sentence)\n",
    "            current_length += sentence_length\n",
    "    if current_chunk:\n",
    "        chunks.append(\" \".join(current_chunk))\n",
    "    return chunks\n",
    "\n",
    "def analyze_text_chunks(text):\n",
    "    chunks = split_text_into_chunks(text, tokenizer, max_length=tokenizer.model_max_length)\n",
    "    return [sentiment_pipeline(chunk)[0] for chunk in chunks if chunk.strip()]\n",
    "\n",
    "def aggregate_sentiments(sentiments):\n",
    "    if not sentiments:\n",
    "        return {'label': 'neutral', 'score': 0.0}\n",
    "    avg_score = np.mean([sentiment['score'] for sentiment in sentiments])\n",
    "    labels = [sentiment['label'] for sentiment in sentiments]\n",
    "    label = Counter(labels).most_common(1)[0][0]\n",
    "    return {'label': label, 'score': avg_score}\n",
    "\n",
    "label_mapping = {'LABEL_0': 'negative', 'LABEL_1': 'neutral', 'LABEL_2': 'positive'}\n"
   ]
  },
  {
   "cell_type": "markdown",
   "metadata": {},
   "source": [
    "## 3.Function to Fetch Data from Reddit"
   ]
  },
  {
   "cell_type": "code",
   "execution_count": 10,
   "metadata": {},
   "outputs": [],
   "source": [
    "def fetch_reddit_posts_and_comments():\n",
    "    reddit = praw.Reddit(\n",
    "        client_id='ZC5eI8EbdWOlcTQU1C7cCg',\n",
    "        client_secret='a1MvR2C_syEBqKPWC75HRb-li28jSQ',\n",
    "        user_agent='python:praw:example_app:v1.0 (by /u/Suspicious_Sport2182)'\n",
    "    )\n",
    "    subreddit = reddit.subreddit('euro2024')\n",
    "    query = \"women\"\n",
    "    posts_and_comments = []\n",
    "    for submission in subreddit.search(query, limit=1000):\n",
    "        try:\n",
    "            posts_and_comments.append(submission.title + \" \" + submission.selftext)\n",
    "            submission.comments.replace_more(limit=0)\n",
    "            posts_and_comments.extend([comment.body for comment in submission.comments.list()])\n",
    "        except Exception as e:\n",
    "            print(f\"Error fetching submission or comments: {e}\")\n",
    "    return posts_and_comments\n"
   ]
  },
  {
   "cell_type": "markdown",
   "metadata": {},
   "source": [
    "## 4.Processing and Sentiment Analysis"
   ]
  },
  {
   "cell_type": "code",
   "execution_count": 11,
   "metadata": {},
   "outputs": [
    {
     "data": {
      "application/vnd.jupyter.widget-view+json": {
       "model_id": "eded41dabe9f4e79a99b66bef754c4a7",
       "version_major": 2,
       "version_minor": 0
      },
      "text/plain": [
       "Analyzing sentiments:   0%|          | 0/559 [00:00<?, ?it/s]"
      ]
     },
     "metadata": {},
     "output_type": "display_data"
    },
    {
     "name": "stdout",
     "output_type": "stream",
     "text": [
      "Error processing text: The expanded size of the tensor (585) must match the existing size (514) at non-singleton dimension 1.  Target sizes: [1, 585].  Tensor sizes: [1, 514]\n",
      "Error processing text: The expanded size of the tensor (1284) must match the existing size (514) at non-singleton dimension 1.  Target sizes: [1, 1284].  Tensor sizes: [1, 514]\n"
     ]
    }
   ],
   "source": [
    "texts = fetch_reddit_posts_and_comments()\n",
    "\n",
    "texts_sentiment = []\n",
    "error_count = 0\n",
    "\n",
    "def process_text(text):\n",
    "    try:\n",
    "        sentiments = analyze_text_chunks(text)\n",
    "        aggregated_sentiment = aggregate_sentiments(sentiments)\n",
    "        return {\n",
    "            'text': text,\n",
    "            'sentiment_label': label_mapping.get(aggregated_sentiment['label'], 'neutral'),\n",
    "            'sentiment_score': aggregated_sentiment['score']\n",
    "        }\n",
    "    except Exception as e:\n",
    "        print(f\"Error processing text: {e}\")\n",
    "        return None\n",
    "\n",
    "with concurrent.futures.ThreadPoolExecutor() as executor:\n",
    "    results = list(tqdm(executor.map(process_text, texts), total=len(texts), desc=\"Analyzing sentiments\"))\n",
    "\n",
    "texts_sentiment = [result for result in results if result is not None]\n",
    "error_count = len([result for result in results if result is None])\n",
    "df = pd.DataFrame(texts_sentiment)\n"
   ]
  },
  {
   "cell_type": "markdown",
   "metadata": {},
   "source": [
    "## 6.Calculate Loss Rate and Display Results"
   ]
  },
  {
   "cell_type": "code",
   "execution_count": 12,
   "metadata": {},
   "outputs": [
    {
     "name": "stdout",
     "output_type": "stream",
     "text": [
      "Total posts and comments analyzed: 559\n",
      "Total texts processed without errors: 557\n",
      "Loss rate: 0.36%\n"
     ]
    }
   ],
   "source": [
    "total_texts = len(texts)\n",
    "processed_texts = total_texts - error_count\n",
    "loss_rate = (error_count / total_texts) * 100\n",
    "\n",
    "print(f\"Total posts and comments analyzed: {total_texts}\")\n",
    "print(f\"Total texts processed without errors: {processed_texts}\")\n",
    "print(f\"Loss rate: {loss_rate:.2f}%\")"
   ]
  },
  {
   "cell_type": "markdown",
   "metadata": {},
   "source": [
    "## 7. Data Visualization"
   ]
  },
  {
   "cell_type": "markdown",
   "metadata": {},
   "source": [
    "Bar Chart"
   ]
  },
  {
   "cell_type": "code",
   "execution_count": 15,
   "metadata": {},
   "outputs": [
    {
     "data": {
      "application/vnd.plotly.v1+json": {
       "config": {
        "plotlyServerURL": "https://plot.ly"
       },
       "data": [
        {
         "alignmentgroup": "True",
         "hovertemplate": "Sentiment=%{x}<br>Count=%{y}<extra></extra>",
         "legendgroup": "negative",
         "marker": {
          "color": "rgb(141,211,199)",
          "pattern": {
           "shape": ""
          }
         },
         "name": "negative",
         "offsetgroup": "negative",
         "orientation": "v",
         "showlegend": true,
         "textposition": "auto",
         "type": "bar",
         "x": [
          "negative"
         ],
         "xaxis": "x",
         "y": [
          242
         ],
         "yaxis": "y"
        },
        {
         "alignmentgroup": "True",
         "hovertemplate": "Sentiment=%{x}<br>Count=%{y}<extra></extra>",
         "legendgroup": "neutral",
         "marker": {
          "color": "rgb(255,255,179)",
          "pattern": {
           "shape": ""
          }
         },
         "name": "neutral",
         "offsetgroup": "neutral",
         "orientation": "v",
         "showlegend": true,
         "textposition": "auto",
         "type": "bar",
         "x": [
          "neutral"
         ],
         "xaxis": "x",
         "y": [
          206
         ],
         "yaxis": "y"
        },
        {
         "alignmentgroup": "True",
         "hovertemplate": "Sentiment=%{x}<br>Count=%{y}<extra></extra>",
         "legendgroup": "positive",
         "marker": {
          "color": "rgb(190,186,218)",
          "pattern": {
           "shape": ""
          }
         },
         "name": "positive",
         "offsetgroup": "positive",
         "orientation": "v",
         "showlegend": true,
         "textposition": "auto",
         "type": "bar",
         "x": [
          "positive"
         ],
         "xaxis": "x",
         "y": [
          109
         ],
         "yaxis": "y"
        }
       ],
       "layout": {
        "barmode": "relative",
        "legend": {
         "title": {
          "text": "Sentiment"
         },
         "tracegroupgap": 0
        },
        "template": {
         "data": {
          "bar": [
           {
            "error_x": {
             "color": "#2a3f5f"
            },
            "error_y": {
             "color": "#2a3f5f"
            },
            "marker": {
             "line": {
              "color": "#E5ECF6",
              "width": 0.5
             },
             "pattern": {
              "fillmode": "overlay",
              "size": 10,
              "solidity": 0.2
             }
            },
            "type": "bar"
           }
          ],
          "barpolar": [
           {
            "marker": {
             "line": {
              "color": "#E5ECF6",
              "width": 0.5
             },
             "pattern": {
              "fillmode": "overlay",
              "size": 10,
              "solidity": 0.2
             }
            },
            "type": "barpolar"
           }
          ],
          "carpet": [
           {
            "aaxis": {
             "endlinecolor": "#2a3f5f",
             "gridcolor": "white",
             "linecolor": "white",
             "minorgridcolor": "white",
             "startlinecolor": "#2a3f5f"
            },
            "baxis": {
             "endlinecolor": "#2a3f5f",
             "gridcolor": "white",
             "linecolor": "white",
             "minorgridcolor": "white",
             "startlinecolor": "#2a3f5f"
            },
            "type": "carpet"
           }
          ],
          "choropleth": [
           {
            "colorbar": {
             "outlinewidth": 0,
             "ticks": ""
            },
            "type": "choropleth"
           }
          ],
          "contour": [
           {
            "colorbar": {
             "outlinewidth": 0,
             "ticks": ""
            },
            "colorscale": [
             [
              0,
              "#0d0887"
             ],
             [
              0.1111111111111111,
              "#46039f"
             ],
             [
              0.2222222222222222,
              "#7201a8"
             ],
             [
              0.3333333333333333,
              "#9c179e"
             ],
             [
              0.4444444444444444,
              "#bd3786"
             ],
             [
              0.5555555555555556,
              "#d8576b"
             ],
             [
              0.6666666666666666,
              "#ed7953"
             ],
             [
              0.7777777777777778,
              "#fb9f3a"
             ],
             [
              0.8888888888888888,
              "#fdca26"
             ],
             [
              1,
              "#f0f921"
             ]
            ],
            "type": "contour"
           }
          ],
          "contourcarpet": [
           {
            "colorbar": {
             "outlinewidth": 0,
             "ticks": ""
            },
            "type": "contourcarpet"
           }
          ],
          "heatmap": [
           {
            "colorbar": {
             "outlinewidth": 0,
             "ticks": ""
            },
            "colorscale": [
             [
              0,
              "#0d0887"
             ],
             [
              0.1111111111111111,
              "#46039f"
             ],
             [
              0.2222222222222222,
              "#7201a8"
             ],
             [
              0.3333333333333333,
              "#9c179e"
             ],
             [
              0.4444444444444444,
              "#bd3786"
             ],
             [
              0.5555555555555556,
              "#d8576b"
             ],
             [
              0.6666666666666666,
              "#ed7953"
             ],
             [
              0.7777777777777778,
              "#fb9f3a"
             ],
             [
              0.8888888888888888,
              "#fdca26"
             ],
             [
              1,
              "#f0f921"
             ]
            ],
            "type": "heatmap"
           }
          ],
          "heatmapgl": [
           {
            "colorbar": {
             "outlinewidth": 0,
             "ticks": ""
            },
            "colorscale": [
             [
              0,
              "#0d0887"
             ],
             [
              0.1111111111111111,
              "#46039f"
             ],
             [
              0.2222222222222222,
              "#7201a8"
             ],
             [
              0.3333333333333333,
              "#9c179e"
             ],
             [
              0.4444444444444444,
              "#bd3786"
             ],
             [
              0.5555555555555556,
              "#d8576b"
             ],
             [
              0.6666666666666666,
              "#ed7953"
             ],
             [
              0.7777777777777778,
              "#fb9f3a"
             ],
             [
              0.8888888888888888,
              "#fdca26"
             ],
             [
              1,
              "#f0f921"
             ]
            ],
            "type": "heatmapgl"
           }
          ],
          "histogram": [
           {
            "marker": {
             "pattern": {
              "fillmode": "overlay",
              "size": 10,
              "solidity": 0.2
             }
            },
            "type": "histogram"
           }
          ],
          "histogram2d": [
           {
            "colorbar": {
             "outlinewidth": 0,
             "ticks": ""
            },
            "colorscale": [
             [
              0,
              "#0d0887"
             ],
             [
              0.1111111111111111,
              "#46039f"
             ],
             [
              0.2222222222222222,
              "#7201a8"
             ],
             [
              0.3333333333333333,
              "#9c179e"
             ],
             [
              0.4444444444444444,
              "#bd3786"
             ],
             [
              0.5555555555555556,
              "#d8576b"
             ],
             [
              0.6666666666666666,
              "#ed7953"
             ],
             [
              0.7777777777777778,
              "#fb9f3a"
             ],
             [
              0.8888888888888888,
              "#fdca26"
             ],
             [
              1,
              "#f0f921"
             ]
            ],
            "type": "histogram2d"
           }
          ],
          "histogram2dcontour": [
           {
            "colorbar": {
             "outlinewidth": 0,
             "ticks": ""
            },
            "colorscale": [
             [
              0,
              "#0d0887"
             ],
             [
              0.1111111111111111,
              "#46039f"
             ],
             [
              0.2222222222222222,
              "#7201a8"
             ],
             [
              0.3333333333333333,
              "#9c179e"
             ],
             [
              0.4444444444444444,
              "#bd3786"
             ],
             [
              0.5555555555555556,
              "#d8576b"
             ],
             [
              0.6666666666666666,
              "#ed7953"
             ],
             [
              0.7777777777777778,
              "#fb9f3a"
             ],
             [
              0.8888888888888888,
              "#fdca26"
             ],
             [
              1,
              "#f0f921"
             ]
            ],
            "type": "histogram2dcontour"
           }
          ],
          "mesh3d": [
           {
            "colorbar": {
             "outlinewidth": 0,
             "ticks": ""
            },
            "type": "mesh3d"
           }
          ],
          "parcoords": [
           {
            "line": {
             "colorbar": {
              "outlinewidth": 0,
              "ticks": ""
             }
            },
            "type": "parcoords"
           }
          ],
          "pie": [
           {
            "automargin": true,
            "type": "pie"
           }
          ],
          "scatter": [
           {
            "fillpattern": {
             "fillmode": "overlay",
             "size": 10,
             "solidity": 0.2
            },
            "type": "scatter"
           }
          ],
          "scatter3d": [
           {
            "line": {
             "colorbar": {
              "outlinewidth": 0,
              "ticks": ""
             }
            },
            "marker": {
             "colorbar": {
              "outlinewidth": 0,
              "ticks": ""
             }
            },
            "type": "scatter3d"
           }
          ],
          "scattercarpet": [
           {
            "marker": {
             "colorbar": {
              "outlinewidth": 0,
              "ticks": ""
             }
            },
            "type": "scattercarpet"
           }
          ],
          "scattergeo": [
           {
            "marker": {
             "colorbar": {
              "outlinewidth": 0,
              "ticks": ""
             }
            },
            "type": "scattergeo"
           }
          ],
          "scattergl": [
           {
            "marker": {
             "colorbar": {
              "outlinewidth": 0,
              "ticks": ""
             }
            },
            "type": "scattergl"
           }
          ],
          "scattermapbox": [
           {
            "marker": {
             "colorbar": {
              "outlinewidth": 0,
              "ticks": ""
             }
            },
            "type": "scattermapbox"
           }
          ],
          "scatterpolar": [
           {
            "marker": {
             "colorbar": {
              "outlinewidth": 0,
              "ticks": ""
             }
            },
            "type": "scatterpolar"
           }
          ],
          "scatterpolargl": [
           {
            "marker": {
             "colorbar": {
              "outlinewidth": 0,
              "ticks": ""
             }
            },
            "type": "scatterpolargl"
           }
          ],
          "scatterternary": [
           {
            "marker": {
             "colorbar": {
              "outlinewidth": 0,
              "ticks": ""
             }
            },
            "type": "scatterternary"
           }
          ],
          "surface": [
           {
            "colorbar": {
             "outlinewidth": 0,
             "ticks": ""
            },
            "colorscale": [
             [
              0,
              "#0d0887"
             ],
             [
              0.1111111111111111,
              "#46039f"
             ],
             [
              0.2222222222222222,
              "#7201a8"
             ],
             [
              0.3333333333333333,
              "#9c179e"
             ],
             [
              0.4444444444444444,
              "#bd3786"
             ],
             [
              0.5555555555555556,
              "#d8576b"
             ],
             [
              0.6666666666666666,
              "#ed7953"
             ],
             [
              0.7777777777777778,
              "#fb9f3a"
             ],
             [
              0.8888888888888888,
              "#fdca26"
             ],
             [
              1,
              "#f0f921"
             ]
            ],
            "type": "surface"
           }
          ],
          "table": [
           {
            "cells": {
             "fill": {
              "color": "#EBF0F8"
             },
             "line": {
              "color": "white"
             }
            },
            "header": {
             "fill": {
              "color": "#C8D4E3"
             },
             "line": {
              "color": "white"
             }
            },
            "type": "table"
           }
          ]
         },
         "layout": {
          "annotationdefaults": {
           "arrowcolor": "#2a3f5f",
           "arrowhead": 0,
           "arrowwidth": 1
          },
          "autotypenumbers": "strict",
          "coloraxis": {
           "colorbar": {
            "outlinewidth": 0,
            "ticks": ""
           }
          },
          "colorscale": {
           "diverging": [
            [
             0,
             "#8e0152"
            ],
            [
             0.1,
             "#c51b7d"
            ],
            [
             0.2,
             "#de77ae"
            ],
            [
             0.3,
             "#f1b6da"
            ],
            [
             0.4,
             "#fde0ef"
            ],
            [
             0.5,
             "#f7f7f7"
            ],
            [
             0.6,
             "#e6f5d0"
            ],
            [
             0.7,
             "#b8e186"
            ],
            [
             0.8,
             "#7fbc41"
            ],
            [
             0.9,
             "#4d9221"
            ],
            [
             1,
             "#276419"
            ]
           ],
           "sequential": [
            [
             0,
             "#0d0887"
            ],
            [
             0.1111111111111111,
             "#46039f"
            ],
            [
             0.2222222222222222,
             "#7201a8"
            ],
            [
             0.3333333333333333,
             "#9c179e"
            ],
            [
             0.4444444444444444,
             "#bd3786"
            ],
            [
             0.5555555555555556,
             "#d8576b"
            ],
            [
             0.6666666666666666,
             "#ed7953"
            ],
            [
             0.7777777777777778,
             "#fb9f3a"
            ],
            [
             0.8888888888888888,
             "#fdca26"
            ],
            [
             1,
             "#f0f921"
            ]
           ],
           "sequentialminus": [
            [
             0,
             "#0d0887"
            ],
            [
             0.1111111111111111,
             "#46039f"
            ],
            [
             0.2222222222222222,
             "#7201a8"
            ],
            [
             0.3333333333333333,
             "#9c179e"
            ],
            [
             0.4444444444444444,
             "#bd3786"
            ],
            [
             0.5555555555555556,
             "#d8576b"
            ],
            [
             0.6666666666666666,
             "#ed7953"
            ],
            [
             0.7777777777777778,
             "#fb9f3a"
            ],
            [
             0.8888888888888888,
             "#fdca26"
            ],
            [
             1,
             "#f0f921"
            ]
           ]
          },
          "colorway": [
           "#636efa",
           "#EF553B",
           "#00cc96",
           "#ab63fa",
           "#FFA15A",
           "#19d3f3",
           "#FF6692",
           "#B6E880",
           "#FF97FF",
           "#FECB52"
          ],
          "font": {
           "color": "#2a3f5f"
          },
          "geo": {
           "bgcolor": "white",
           "lakecolor": "white",
           "landcolor": "#E5ECF6",
           "showlakes": true,
           "showland": true,
           "subunitcolor": "white"
          },
          "hoverlabel": {
           "align": "left"
          },
          "hovermode": "closest",
          "mapbox": {
           "style": "light"
          },
          "paper_bgcolor": "white",
          "plot_bgcolor": "#E5ECF6",
          "polar": {
           "angularaxis": {
            "gridcolor": "white",
            "linecolor": "white",
            "ticks": ""
           },
           "bgcolor": "#E5ECF6",
           "radialaxis": {
            "gridcolor": "white",
            "linecolor": "white",
            "ticks": ""
           }
          },
          "scene": {
           "xaxis": {
            "backgroundcolor": "#E5ECF6",
            "gridcolor": "white",
            "gridwidth": 2,
            "linecolor": "white",
            "showbackground": true,
            "ticks": "",
            "zerolinecolor": "white"
           },
           "yaxis": {
            "backgroundcolor": "#E5ECF6",
            "gridcolor": "white",
            "gridwidth": 2,
            "linecolor": "white",
            "showbackground": true,
            "ticks": "",
            "zerolinecolor": "white"
           },
           "zaxis": {
            "backgroundcolor": "#E5ECF6",
            "gridcolor": "white",
            "gridwidth": 2,
            "linecolor": "white",
            "showbackground": true,
            "ticks": "",
            "zerolinecolor": "white"
           }
          },
          "shapedefaults": {
           "line": {
            "color": "#2a3f5f"
           }
          },
          "ternary": {
           "aaxis": {
            "gridcolor": "white",
            "linecolor": "white",
            "ticks": ""
           },
           "baxis": {
            "gridcolor": "white",
            "linecolor": "white",
            "ticks": ""
           },
           "bgcolor": "#E5ECF6",
           "caxis": {
            "gridcolor": "white",
            "linecolor": "white",
            "ticks": ""
           }
          },
          "title": {
           "x": 0.05
          },
          "xaxis": {
           "automargin": true,
           "gridcolor": "white",
           "linecolor": "white",
           "ticks": "",
           "title": {
            "standoff": 15
           },
           "zerolinecolor": "white",
           "zerolinewidth": 2
          },
          "yaxis": {
           "automargin": true,
           "gridcolor": "white",
           "linecolor": "white",
           "ticks": "",
           "title": {
            "standoff": 15
           },
           "zerolinecolor": "white",
           "zerolinewidth": 2
          }
         }
        },
        "title": {
         "text": "Distribution of Sentiments in Posts 💻"
        },
        "xaxis": {
         "anchor": "y",
         "categoryarray": [
          "negative",
          "neutral",
          "positive"
         ],
         "categoryorder": "array",
         "domain": [
          0,
          1
         ],
         "title": {
          "text": "Sentiment"
         }
        },
        "yaxis": {
         "anchor": "x",
         "domain": [
          0,
          1
         ],
         "title": {
          "text": "Count"
         }
        }
       }
      }
     },
     "metadata": {},
     "output_type": "display_data"
    }
   ],
   "source": [
    "sentiment_counts = df['sentiment_label'].value_counts().reset_index()\n",
    "sentiment_counts.columns = ['sentiment', 'count']\n",
    "fig_bar = px.bar(sentiment_counts, x='sentiment', y='count',\n",
    "                 labels={'sentiment': 'Sentiment', 'count': 'Count'},\n",
    "                 title='Distribution of Sentiments in Posts 💻',\n",
    "                 color='sentiment',\n",
    "                 color_discrete_sequence=px.colors.qualitative.Set3)\n",
    "fig_bar.show()\n"
   ]
  },
  {
   "cell_type": "markdown",
   "metadata": {},
   "source": [
    "Scatter Plot"
   ]
  },
  {
   "cell_type": "code",
   "execution_count": 20,
   "metadata": {},
   "outputs": [
    {
     "data": {
      "application/vnd.plotly.v1+json": {
       "config": {
        "plotlyServerURL": "https://plot.ly"
       },
       "data": [
        {
         "hovertemplate": "Sentiment=negative<br>Score=%{x}<br>text=%{y}<extra></extra>",
         "legendgroup": "negative",
         "marker": {
          "color": "rgb(228,26,28)",
          "size": 5,
          "symbol": "circle"
         },
         "mode": "markers",
         "name": "negative",
         "orientation": "h",
         "showlegend": true,
         "type": "scatter",
         "x": [
          0.6844116449356079,
          0.9598277807235718,
          0.8931342363357544,
          0.9660218358039856,
          0.8324123620986938,
          0.8596867918968201,
          0.624783992767334,
          0.8007044196128845,
          0.8783512115478516,
          0.6982851624488831,
          0.9508854746818542,
          0.9758205413818359,
          0.7245570421218872,
          0.533424973487854,
          0.9142981767654419,
          0.652633547782898,
          0.8896693587303162,
          0.5283809900283813,
          0.7496997714042664,
          0.8055874705314636,
          0.9516885280609131,
          0.9317435026168823,
          0.9642298817634583,
          0.7606860399246216,
          0.6161172986030579,
          0.6444586515426636,
          0.8554745316505432,
          0.5829156637191772,
          0.7767859101295471,
          0.8316371440887451,
          0.6830209493637085,
          0.8107643127441406,
          0.7363787293434143,
          0.5882992744445801,
          0.7083826065063477,
          0.8561697006225586,
          0.6812360882759094,
          0.4949074983596802,
          0.8452256917953491,
          0.5442541837692261,
          0.5768190026283264,
          0.7472358345985413,
          0.923923671245575,
          0.3987583816051483,
          0.9568700790405273,
          0.7122962474822998,
          0.6905547380447388,
          0.5372357368469238,
          0.3647318482398987,
          0.8344703316688538,
          0.5065611600875854,
          0.9766518473625183,
          0.47808223962783813,
          0.5473706722259521,
          0.7847577929496765,
          0.9228966236114502,
          0.9299363493919373,
          0.7100430727005005,
          0.8075113296508789,
          0.7015340924263,
          0.4922817051410675,
          0.894903302192688,
          0.6957449316978455,
          0.4599994122982025,
          0.5622287392616272,
          0.9567261934280396,
          0.9061763882637024,
          0.8019732236862183,
          0.9464092254638672,
          0.9381622672080994,
          0.9358811378479004,
          0.9311062693595886,
          0.9342103004455566,
          0.6504009366035461,
          0.955229640007019,
          0.9604970812797546,
          0.953597366809845,
          0.9418027400970459,
          0.7613087296485901,
          0.4701424539089203,
          0.8782426118850708,
          0.8318565487861633,
          0.7573547959327698,
          0.5158636569976807,
          0.5144802927970886,
          0.8629124164581299,
          0.9618808627128601,
          0.7559502124786377,
          0.5421459674835205,
          0.877926230430603,
          0.9217843413352966,
          0.8206207752227783,
          0.6940975189208984,
          0.5650840997695923,
          0.7344152927398682,
          0.5859012007713318,
          0.8647587895393372,
          0.8179652094841003,
          0.9507485032081604,
          0.5330899357795715,
          0.9369074106216431,
          0.6564491391181946,
          0.620660126209259,
          0.5919985175132751,
          0.8484643697738647,
          0.9697064757347107,
          0.9546512365341187,
          0.6387255191802979,
          0.5910643339157104,
          0.876249372959137,
          0.524512767791748,
          0.9664314985275269,
          0.7415056228637695,
          0.9192972183227539,
          0.5436335802078247,
          0.9001787304878235,
          0.7054468989372253,
          0.4732016921043396,
          0.7662620544433594,
          0.6899420619010925,
          0.8621405959129333,
          0.7098166942596436,
          0.6652089357376099,
          0.9376557469367981,
          0.8815626502037048,
          0.7171617746353149,
          0.881220817565918,
          0.9488491415977478,
          0.4734457731246948,
          0.9472197890281677,
          0.6760053634643555,
          0.6021092534065247,
          0.49856510758399963,
          0.545840859413147,
          0.6306787729263306,
          0.8357648849487305,
          0.8727406859397888,
          0.9112987518310547,
          0.864264726638794,
          0.923032820224762,
          0.640688419342041,
          0.8861351609230042,
          0.8576114177703857,
          0.48093318939208984,
          0.547768235206604,
          0.7204831838607788,
          0.7751073241233826,
          0.6289926767349243,
          0.6461223363876343,
          0.7336935997009277,
          0.49075764417648315,
          0.5521669387817383,
          0.8906427621841431,
          0.6450778841972351,
          0.4787907302379608,
          0.737764298915863,
          0.974699079990387,
          0.8744116425514221,
          0.962681233882904,
          0.859684944152832,
          0.7018630504608154,
          0.943649172782898,
          0.5384820699691772,
          0.6506232023239136,
          0.58909672498703,
          0.8464059233665466,
          0.7314615845680237,
          0.7631508111953735,
          0.6972702145576477,
          0.5031427145004272,
          0.9657853841781616,
          0.8476840257644653,
          0.83249431848526,
          0.8941887021064758,
          0.5022851228713989,
          0.7317686676979065,
          0.5627927184104919,
          0.7773147821426392,
          0.8076682686805725,
          0.7742295265197754,
          0.6529457569122314,
          0.9218814969062805,
          0.8619846701622009,
          0.9636470079421997,
          0.9704118967056274,
          0.956058919429779,
          0.9432874321937561,
          0.7002882957458496,
          0.9344775676727295,
          0.811246395111084,
          0.48991328477859497,
          0.6574026942253113,
          0.9402020573616028,
          0.7985897064208984,
          0.5604499578475952,
          0.965655505657196,
          0.49017077684402466,
          0.8446922302246094,
          0.8671103119850159,
          0.749474287033081,
          0.8816601037979126,
          0.6266695261001587,
          0.8546184301376343,
          0.8016890287399292,
          0.9352507591247559,
          0.7386693358421326,
          0.7496957778930664,
          0.8765495419502258,
          0.8081269860267639,
          0.7994849681854248,
          0.5545473098754883,
          0.8716006278991699,
          0.5545406341552734,
          0.51345294713974,
          0.554601788520813,
          0.5654162168502808,
          0.7235667705535889,
          0.860733151435852,
          0.8112511038780212,
          0.6657131910324097,
          0.9484803676605225,
          0.8157756328582764,
          0.7274236679077148,
          0.8974123597145081,
          0.7480308413505554,
          0.8008264899253845,
          0.5131685733795166,
          0.6031818389892578,
          0.8096835017204285,
          0.7791486978530884,
          0.5227713584899902,
          0.608397364616394,
          0.9189318418502808,
          0.9123508334159851,
          0.7341286540031433,
          0.8878822922706604,
          0.5553810000419617,
          0.8891512751579285,
          0.6011866331100464,
          0.6018556356430054,
          0.5583208203315735,
          0.6119132041931152
         ],
         "xaxis": "x",
         "y": [
          "Women commentary Why can’t we have men commenting on men’s football? No disrespect but ffs it’s every match ",
          "Who’s the woman doing tsn in game commentary? I’m literally watching the games on mute, she’s absolutely terrible",
          "There is no need whatsoever to interfere with the traditions of men's football. Women's commentary is brrrrrutal and it doesn't belong in MEN'S football. It exists at the pleasure of weak men and to complement the DEI mind virus. Men's football is being ruined by pink boots, political virtue signalling, hairspray, feminine beta men and chip on the shoulder feminists. It reminds me of an under the thumb dude bringing his missus to a lads' night out. ",
          "Agreed, stick to ladies games please. I have no problem with woman being pundits or doing interviews at halftime or from the sidelines but during actual coverage of the game whilst in play??! The american woman commenting during Switzerland v Germany is a disgrace her choice of words and her accent makes me cringe, no more please. Mute; I watched the game in silence from 20 minutes onwards she was that bad.",
          "In theory, I have no problem with women commentators. But the current ones are pretty bad, unfortunately. They need to select better candidates",
          "Im not particularly fond of their commentary style, but for me, it's the tone. \n\nMale voices can be heard easily over the crowd noise, but most female voices seem to be lost in it. If they want to be heard then they end up sounding shrill and irritating, detracting from the game.",
          "Kindly stfu",
          "Actually what counts is whether they are great at commentary, and that goes beyond knowing the sport. its about having the right voice, cadence, knowing how to add excitement, emotion,  and color to the game. The women don't have that they are damn awful. Its happening in all sports and its just terrible.",
          "No to me the female voice is way too shrill and harsh on the ears. Also, its a men's sport not a female sport. They should commentate female games.",
          "Because the commentary from the women isn’t as good. Simple as that, maybe people don’t want to say it. Everyone who I know thinks the same.\nWhat about men commentators with women’s sports .. that’s very different",
          "The British one that sounds like a teenage boy undergoing puberty? Agreed.\nI can't take her seriously",
          "Exactly. Can't seem to agree with her on most things she says during the game and it gets really annoying to watch",
          "Karen Cairney I think, zero ball knowledge",
          "There’s an American women doing the Portugal vs Slovenia game now and I also want to mute it 😂 Anyone know her name ??",
          "2nd this.. I got nothing against women commentators (some are quite good even) but this Karen Carney lady who is covering the Euros on TSN is awful to listen to.. She never has a positive thing to say.. Every set piece is poor from her. Every shot that comes off someones foot is poor.. She provides nothing but a viewer mute button experience to the broadcasts.",
          "Says the guy completely generalising all male commentators lol. I'd rather listen to people who care for the game than some a bot who gets paid to read off a script.",
          "Women commentators ruin commentary for all male sports. Period. ",
          "I love how your OP says “no disrespect” but now you say “commentary with women isn’t as good.”",
          "Men speak over women’s sport. Turn on the tennis right now on the BBC and you can listen to a woman. Have you not heard Jenas talk over a game. I can’t stand Gary Neville either and would take any woman over them. Also don’t stop it at commentary I want Rio off analysis.",
          "If a man was saying the exact same thing I doubt you'd be complaining, we hear much worse",
          "The one in Portugal vs Turkey was terrible as well can't find her name anywhere",
          "deadass same, been trying to find her name everywhere, its really bad",
          "Don't know her name but she's awful . I find most of the men annoying but I've had to mute the females",
          "There is a British (?) lady commenting Romania vs. Netherlands for the American TV right now. Not a fan, to put it mildly.",
          "That’s a fair comment, I’d throw linekker into that pool of cess",
          "Quick Google search could have prevented this braindead post",
          "What??? Next you will say they should have the right to vote or to work. ridiculous /s",
          "I think it's a way to get attention and look at her profile.\n\nUser name doesn't check out... not everything is petite",
          "Sad stories from the fan zone in Berlin ",
          "I really have a hard time imagining anyone getting away with that.\n\nIf its really true, and he did it to quite a few women, im pretty sure he got reported and fired + sued already.",
          "Could Well be Russian disinfo/ minor Psyop.. trying to sow doubt and undermine trust everywhere.. just my 2 cents",
          "Why do they have males searching females in the first place? They couldn't hire female security?",
          "Don't know why people have to malign every tournament. They came up with stories like this every day in Qatar and turned out they were all false and it was a highly well organized successful tournament.",
          "Report it to police",
          "Yeah, that really doesn't sound true at all. First of all, I'm sure they can hire women security for that. If it's a man, he would usually only look in the purse/bags and never touch the women. \n\nIf a man actually did that, there would already bit a shitstorm on social medias and in the news. With hundreds if not thousands of people around, you're going to tell me no one saw it? No one intervened? \n\nNah. Rage bait.",
          "Im lost on the optics of this. If the person writing this said this, one report, fuck even call the police and its stopped immediately. Even if it is real how did this guy feasibly see an angle where he doesnt become a sex offender registree.",
          "obv fake story, with thousands of women entering this would be filmed and complained about by many.",
          "In Germany they would never do that. It is always men searching men and women searching women.",
          "It's obviously fake my man...",
          "“I did not do it” <- Proof 😮. Maybe actually say where you saw the email/who sent it instead of just showing a bit of text on a white background and saying it’s something",
          "Qatar tried so hard to be a host and Germany didnt need to. \n\nIn germany We are discussing things like alcohol prices, fans making noise and political signs. \n\nNot like in Qatar where topic was on human rights, slave workers, womens rights, being able to drink, gay rights etc. \n\nSo yeah cant even compare Germany to Qatar. Germany is just ready anytime for an organization like this. Except the climate lol",
          "Morally, ethically, cultural, environmentally it's easy Germany.\n\nBut just on the football? Definitely Qatar - World Cups bring that variety in styles and statures which Euros just can't replicate, and the three from most groups qualification structure makes the group games (outside of round 1) boring.",
          "Qatar is a slave dictator country. Don’t even compare to Germany",
          "This has been one of the most boring football tournaments on the pitch (off it it’s been great)\n\nWorld Cup being in winter meant the players were fresher and the football was better. It was a better tournament all round",
          "I don’t think this is a fair comparison. Qatar was awarded through bribery and nepotism, killed >10,000 slave workers, has an abysmal climate impact, the host country murders homosexuals or imprisons them, women have no equal rights, no football tradition or whatsoever exists. Honestly, ever European country would win this comparison against Qatar.",
          "Everyone seems to be looking at it from a fans and organisational standpoint, but, watching from home, the matches this year have been utterly lacking in quality (bar a few). 2022 was much better from a footballing standpoint, it’s just a shame it was played in an unethical, non-footballing nation.",
          "The games at the wc were just better. At this euros i only watched 2 good games in the whole ko stage. Actually the quality is dog shit since the last round in group stage",
          "Can’t compare. The Euro is only for Europeans and Turks but the World Cup is for the whole world. \nSo far the Euros have been lacking special moments. Let’s see what the last few games have in store.",
          "Qatar by a country mile. EURO 2024 has legitimately been the worst major tournament (World Cup or EURO) in living memory, since I started following football religiously starting from EURO 2004. Never have I been so mind-numbingly bored by so many matches as I have during EURO 2024. The only reason that I somewhat enjoy this is that I have had the month of July off as I am starting a new job in August, so I have been able to watch a decent amount of matches.",
          "Ofc WC. Matches in this cup was a disgrace, other than spain there is no team that actually tries to play football. France made it to semis without scoring once, not to mention Mr Southgate",
          "Qatar by a country mile. But I was there and had first hand experience of the fan parks where there was plenty of alcohol and generally  the football was leagues ahead. I'm sure had I gone to Germany I would have enjoyed that too, but the football has been miserable.",
          "The Qatar. This tournament has been bloody boring.",
          "Ofc wc in qatar, please don’t compare what we saw in this euro with wc games, there is no comparison, the games in wc were better, the image quality, the organization… please don’t let your hate for other countries blinds you eyes.",
          "why are you comparing?",
          "Been a great tournament overall, the only negative I have to point out was the state of the pitch in Frankfurt stadium, I think its embarrassing that you don’t plan to have a quality pitch, just one of basics for a football tournament. All matches in that stadium were miserable quality due to how crap the pitch was.\n\nWith Qatar WC, I was hoping we had nothing like that again, but we have another one in 10 years.",
          "This tournament is nothing but shitshow compared to world cup. Where are the exciting matches? Where are the dark horses? The French team reaches Semi's only 2 gol, england and Belgium is awfully bad. Romania eliminated against Netherlands. Except for Turkey and Georgia, this tournament isn't good besides the atmosphere.",
          "Sorry, but anyone saying Qatar is completely delusional and has fallen for their sports-washing. It's crazy to even ask this question and shows the state of football and sports-washing right now",
          "bro, euro 2024 isn't even better than the last afcon 24 , comparing it to one of the best world cups in history shows how lack of football knowledge you have",
          "I’m going with this Euro. Too many VAR penalties in the 2022 WC. Ruined the tournament for me.",
          "2022 will be forever known as the VAR cup. It was ridiculous.",
          "Euros in germany ist one of the best tournaments of the past decades. Worlds 22 was the worst. So that comparison ist incredible disbalanced.",
          "There’s some very selective activism going on in these debates, how come there was no where near as much pushback when Russia hosted the World Cup? US foreign policy has killed hundreds of thousands of people in the Middle East, yet no one cares that they’re hosting the next World Cup.",
          "I didnt watch Qatar and neither should you have",
          "World Cup by far. You can’t compare the competitions, the WC is THE competition, the Euro is far less important. ",
          "This constant comparing. You want to watch football or compare the organizers? JFC",
          "Euro 2024 is horrible, fights, chaos and racism, Germany should've learned from Qatar",
          "Lol what? Should have seen them in their last match then.Brutes as always and that fecking old Toni the kraut is a good riddance to football! That's all they know, now a young 21 Ur old star might never get a chance again to play a final for his country. Reminds me of that nazi keeper Neuer's attack on the Argentine ...on the street it would be a year or two in jail for grievous bodily harm...no doubt his idol was that other criminal Schumann or Schumacher or whatever his name was. Hopefully won't see them much in championships!",
          "lol, why did you post this? To use this as another opportunity to bash the Arabs of Qatar? Hasn't last 2 years of bashing Qatar been enough? Does football only belong to western Europeans?",
          "Qatar. These euros have no soul",
          "Football World Cup in winter was dog shit. Drinking mulled wine to your football machtes :(. There was no real excitement or atmosphere what makes international cups so appealing to me. Also the atmosphere in the stadiums, that was cringe to watch with strangly cheering paid fans, stadiums being half empty, nothing in the streets, for me it was lacking all over.\n\nNot even mentioning the bribing, human rights. I did not even watch half the matches, was just not up for it with that host in that time of the year.\n\nWtf, why did I get flagged as a dutch?\\^\\^",
          "I haven't watched 2022. Can't support Catar as a host.",
          "The World Cup should never have been held in Qatar and it should never have been held in November/December.",
          "Both have been poor tournaments. International football is dieing in front of us...",
          "I am german and I think Qatar was a disrespectful decision as they have nothing in common with football, though atleast the referee work seemed OK?",
          "Fuck Qatar.",
          "The Qatar World Cup was a joke. Everything about it was terrible. From having to play in winter and air conditioning the streets, to the fact that hundreds of people died building the stadiums that didn’t exist prior to the tournament.\n\nIt was all about money. I know FIFA has been corrupt since the start but that World Cup was a bit too much on the nose.",
          "Night and day. Qatar was so forgettable.",
          "Lol observe the coping on this thread.\n\nThis tournament has been an absolute disaster. Like watching sunday league games.",
          "So much better having a country actually interested in football hosting. Qatar was a joke, FIFA corruption at its finest.  WC 2034 will be the same pile of garbage.",
          "Even the English fans were kind of behaved for their standards! This was thought to be impossible by modern science!",
          "And its like ... Democratic... and Freedom of Speech and freedom of religions.. \n\nSounds terrible for Quataris :D",
          "sure they don't, they just tries to take over the world and kill millions\n\nyou know, cause history is just 10 years old",
          "The pitches have been pretty poor at the euros. Bit weird because they play a lot of games at these grounds. I think I read they were using pure grass instead of the typical hybrid surfaces",
          "No chance Scotland would be able to keep a clean sheet even against a 5-a-side team.",
          "Thats only true if you visit the stadium. I can imagine Qatar being way more boring than Germany. They don't have a football culture like in Europe.\n\nFor most people who watch every game on TV, the games in Qatar were much more entertaining to watch. \n\nAlso, there's a significant number of Muslim football fans who prefer not to drink and smell alcohol everywhere. These people probably prefer tournaments like Qatar. \n\nThe semi-finals this year are just bad and not comparable to 2022. The group stage of 2024 was much better than 2022.",
          "This summer the weather in Germany is exceptionally bad 😅",
          "Not actually true. Man you guys just go with a narrative and don't care about what shit you are saying at all. I hate having to defend Qatar in threads like this but when people say bullshit like 10k slave workers dead, which is just straight up false, I can't help but jump into defending them. The only thousands of slave deaths reports were based on the information of every migrant death in Qatar in the last 10 years. Just death, not even work related ones. Which tells you absolutely nothing and is embarrassing, and honestly xenophobic at this point, how people just keep repeating it.",
          "Did you enjoy all the worker Slaves dying so much?",
          "Yeah agree with you. But for me it's mostly because wc are faaar more entertaining than euros, simply because there are other continents involved. South americans just bring a lot more passion and heat. This year it's only turkey so far. And maybe germany against spain. But all in all the playstyle is just too robotic and calculated. \n\nThe opening song has been shit since 2014 both for wc and euros though.",
          "We dont hate other countries. We hate slaves dying for building a plastic World Cup.",
          "I know who it doesn't belong to: an autocratic regime built upon slavery and the lack of human rights.",
          "Instead of water, workers fell from the sky in Qatar.",
          "Wait to get called a bot and told what the atmosphere was like by someone who’s never even stepped into the Middle East.",
          "Better in what sense? Putting 10 guys behind the ball and watching the opponent pass sideways? I love the euros but watching every team play the same way is getting annoying. WC you see teams actually go for it  ",
          "Kind of.\n\nYesterday ridiculing Germans for their loss and provoking leading to a fight.\n\nReally hope everything goes as expected and they get knocked out, which is way over due.",
          "To be fair this summer in Germany it’s a little bit weird, it’s unusually cold and this wet this summer",
          "no drunk brits is a downside",
          "Im not sure the brits as a whole have been that bad",
          "Instead there was a backwards, nearly militant police presence.  I'd rather drunk Brits in my goddamn living room.",
          "Well not so much freedom if someone talks about Palestine but anyway.",
          "Qatar sucks, but, lets not pretend Germany is a bastion of free speech.\n\nA player has been banned for making a hand gesture in support of his political party (from another country) and people are being criminally charged with the crime of criticising isreal.",
          "Downvotes are a sign of truth lmfao anyone who says the truth gets downvoted here",
          "If Germans want to stop it they are called moral police etc. and if they don't they are fine with slave labor?",
          "How stupid are you, chocolate isn't harvested?😂😂😂\n\nCocoa beans are main ingredient for production of chocolate. The chocolate production process consists of fermentation, drying, roasting, grinding of cocoa beans, mixing of all ingredients (cocoa mass, sugar, cocoa butter, emulsifiers, aroma, and milk components if needed), conching, and tempering",
          "This is weird to us Germans aswell, these are not the normal conditions of the pitch while Bundesliga is active",
          "Qatar was a sh**show.\n\nHope it's never repeated.\n\nSoulless corporate dump of a tournament,zero atmosphere.",
          "The worst thing that they did is take bribes and bribe others, they don't kill people or build stadiums with slaves.",
          "They were lol, dunno why people are making stuff up when there’s so much to actually criticise Qatar for",
          "How would they? They're not allowed to drive, and when the husband comes home dinner neads to be ready.",
          "People just make random shit up about Qatar and cause islamophobia is not looked down upon here they just get upvoted.",
          "For some nations maybe definitely not for England though or alot of countries in Europe most brought very low numbers",
          "Man I don't like Qatar as a political system but people just need to stop spreading misinformation regarding people dying to host the world cup. It's just not true and I hate how people can just say any bullshit. That Guardian article was embarrassing journalism and yet people still keep parroting this.",
          "I think we talk here about football, other things we don’t know what actually happened, just media trying to spread hate, we all know every country has its dark side.",
          "WC is even worse for teams sitting back. Just the gulf in quality is bigger. Agree it’s not entertaining when that happens but definitely don’t think in the WC teams go for it more.",
          "I couldn’t care less. ",
          "The World Cup? No, I didn't. BECAUSE I didn't stand behind it, morally. Just like plenty of others. We *didn't* watch it. So many boycotted it. - But I'm sure you really thought you did something there. 🤡\n\n> Greatest final ever\n\nYeah, because who cares about all the dead people, corruption, blatant disrespect of women's or queer people's rights and lack of general human decency, right? Imagine being the type of person who proudly says he doesn't give a shit about any of that.\n\nAlso Germany lost the group phase in Qatar lol, so what are you even on about.",
          "This is an English-speaking sub. There's also no reason to attack me like that. I'm very much against the sponsorships by Visit Qatar, I'm not the one who picked them.",
          "It’s not really cold personally, but really rainy. I think that makes it bearable, it’s way worse when it rains and the temperature is below 10°",
          "Also Turkey participating is a downside, but after tonight they will be out.",
          "You haven’t been, don’t listen to him",
          "Yeah you talk at backwards qatar. Did you seee what almost happened 2021 in front of wembley,one of maybe the biggest football disasters that could have happened...drunk and agressive mobs of english fans...and then you come with this entitlement \"backwards qatar\" middle east whatever...",
          "How are Germany helping Palestine? The German government clearly supports Israel",
          "and here it is again. \n\nGermany did not suspend him. Germany Said \"we dont want this here\" and UEFA suspended him.  IF UEFA would have said \"fuyk you germany\" than nothing would have happened.",
          "You are telling bullshit.",
          "Still butthurt",
          "You didn't get downvoted, seems you don't speak the truth?",
          "I would rather be moral police and have consistent values than point with fingers at others while benefiting from the same thing. Qatar‘s working conditions are horrid, but Western people always fail to consider that horrid working conditions and cheap labor in developing countries are the reason why WE can live in a world of overconsumption and luxury. You can’t throw with stones while living in a glass house.",
          "Omfg. you know exactly what I meant and you are choosing to focus on one language error i made while typing out a comment instead of the point i am trying to make, which proves how stupid YOU are. Cocoa beans, coffee beans, doesn’t fucking matter, as long as you’re not actively checking the sources of the things you consume you’re a hypocrite.",
          "Only with Eyepatch Arrr... Ah shit this was Olaf Scholz.",
          "That's just not true at all though. The narratives are getting ridiculous.",
          "I mean if people like it than yeah, they can do whatever they want. \n\nBut seeing drinking culture as a worldwide culture that belongs to football is just arrogant and ignorant. \n\nEurope is just a small part of the world.",
          "Well but they don’t care about host countries doing that",
          "No they do not.",
          "It's usually progressives complaining about Conservative Middle East countries.",
          "lol of course it’s only relevant if you cry about it, stupid!",
          "0. But I have no idea how many of if any workers died cause people spread wrong information.",
          ">other things we don't know what actually happened.\n\nOh please. The slave labour and countless deaths are well documented.",
          "You can and you should speak up against the abuse of human rights. Qatar was a very blatant mistake.",
          "He asked about what was the better tournament. How can you say it was a better tournament when literally over 6000 people died to build the stadiums? You must be an absolutely cold blooded person if you have no problem with people suffering and dying for your amusement. OP didn't ask what the quality of the game was like, then you might have a point. OP asked what the better tournament was and then you can't separate the game from the organizers, the bribery or the human rights violation. If you do, you're a proper scumbag.",
          "Didn't have to be there to watch the news you nonce",
          "Oh sorry you started it though. I’ll say it in english then.\nStop acting like you care",
          "We were also quite low on the list of countries ordered by the highest fines! If i remember correctly only two places above Scotland! Croatia were apparently the worst.",
          "You're telling me you don't think grown men drinking out  of a beer river that went though other men's asses and letting off fireworks out their ass was not the peak of society?",
          "Thats the irony, they call themselves democratic and peaceful while helping israel",
          "It will be added to the growing list of banned hand gestures in Germany soon. Watch.",
          "If you praise Germany about its freedom of speech, you know nothing about the world or how much cencorship your country has. Don't get me wrong, I love Germany a lot and I live my dream life as a student here. Also, most of its cencorship, if not all, is to my benefit. But Germany is no beacon of freedom of speech. It shocked me to see how one sided the whole media is here. Most people aren't even aware how distopic it is, just because it is dressed with virtuous words and a \"war against fascism\". But governments always have justification for lack or freedom of speech and they almost never are right on it imo. \n\nYou can even see it on broadcasting of EM which is bizarre. They lower the sound of the stadium so much, in comparison to other countries, you would think the stadium is empty/emotionless. Just to avoid any unwanted chants etc. They also avoid showing any fans in fear of any unwanted message. I can give many other football related or unrelated examples too but no need. It's difficult to realise when you are born into it.",
          "So we are supposed to be a moral police but if we complain and point fingers that's also not good? Exactly what are we supposed to do then? Get other countries to do as we please by force?",
          "Qatar employed slaves to build the stadiums and venues.",
          "For a number of games the stands were half empty ffs.",
          "you're right, talking about slavery being used in other countries is actually xenophobia",
          "I am by most people considered \"progressive\", not sure what point you are trying to make but I'm not part of it.",
          "OP asked what we think about WC and EC. He didn't asked what we think about Qatar as a state. It's a post about sports not about politics. What i think about Qatar and human rights doesn't belong here.",
          "6000 people who died are the total aggregate sum of people of all nationality who died in Qatar from 2012 - 2022 regardless of career, it didn’t disclose the cause of death so that sum of 6000 people include people who died in car accidents, cancer/ organ failure, or getting murdered.",
          "I'm not here to educate you history. I'm not your school teacher. Go to library and read history.",
          "One of the least fined fans by uefa tho. Less than Belgium and Germany.",
          "Prepare for the avalanche of downvotes bro, they won’t enjoy that",
          "The fans are fucking awful, zero respect and unsportsmanlike. Merih Demiral and his behaviour.\nThrowing things at the opposing teams. How long of a list do you want?\n\nOnly will be fun to watch turkey tonight when Nederland fuck em over!",
          "It's not xenophobic to dislike fans that have no fucking respect for other opposing fans or teams. But yeah Merih Demiral  is full of fucking respect?\n\nI wouldn't have a problem if Turkish fans behaved normally or Turkish players didn't make ultra-nationalist salutes.\n\nNot very fucking bright are you if you think I am xenophobic for disliking unsportsmanlike behaviour.",
          "Supporting someone who got attacked in the first place - again.\n\nPeaceful Hamas taking hostages and attacking a music festival. \n\nYes, very undemocratic.",
          "As it fucking should",
          "Do we need to remind you of Germany’s shameful stand of the genocide going on in Gaza right now? \nGermany is better than Qatar , no doubt , it’s just not the human rights shelter it tries to paint itself as",
          "Wtf has  the Volume of the Stadium in a Broadcast to do with  censorship?! \n\nHoly Fuck \n\nYeah comm on give me some examples of \"CeNsOrShIp\" i can tell that at 90% its just antidemocratic or antisemits shit that you are talking about.",
          "Be a moral police for yourself first before you start pointing fingers at others. Did you not read the second half of my comment",
          "Okay now you’re just making shit up because besides Europe and NA, fans showed out from all around the world. The city was dominated by saudis, Moroccans, Argentines, and Mexicans.",
          "Sounds more like you have an issue with change. I had a great time watching Qatar wc. This tournament, for all the videos of walls of Dutch fans jumping from side to side in their columns,  has been utterly drab in terms of the football played.",
          "We’ve all seen it on TV, yet they wanna deny. Embarrassing",
          "Is that what happened here? Ah my bad. I thought we were making stuff up about brown people.",
          "Wow. I don't know why I expected anything of substance.",
          "That would be for behavior in stadiums so it's totally irrelevant.\n\nThey do their rioting and vandalism outside where there's less police or control.",
          "Nah it implies, that the friendly Brits are in fact Scottish and not English… so they probably accept the skirt insult as low effort banter. May the votes decide!",
          "Go touch some grass, your team was awful and they should get some football lessons from Turkey at this point.",
          "Oh sweet child, who hurt you",
          "Quite an ignorant comment. If you'd bothered to speak to someone from Turkey, rather than just unquestioningly swallow the overly simplified narrative you've been fed by western sources, you'd know that that gesture does not belong to fascists. It's used across the political spectrum in Turkey, including by leftists and liberals. So your asinine comment about being right-wing extremists is really quite silly. ",
          "Yes sure Israel defending himself by bombing Hospitals (where a few thousand innocent people live)",
          "And what you describe is not free speech. Embrace it.",
          "This Genocide Stuff is hilarious. Check the facts outside of some social Media Bubble.",
          "That's a completely different question. He said there's no freedom of speech here. Both sides in that conflict can articulate their views and opinions here. If the stand the German government takes is shameful or not can be discussed. It's a complicated situation down there in the Middle East that has been going on forever. Each side is guilty to some extent. There are protests going on by both sides in Germany. Most of them peaceful, some violent. And you want to tell me there is no freedom of speech?",
          "yep whenever someone cries about censorship in western europe you can assume its about some racist/hatespeech stuff.",
          "Can you calm down? You are talking to a random ass person on Reddit. It ain't that deep.\n\nI gave the broadcasting as an absurd extreme example. But also, giving spesific examples also doesn't really work because if you are indeed fed with that propaganda, you will call me names for being \"extremist\".\n\nIt's not about which side I am on in any of the discussions but Germany, to my experience, always chooses one agenda and in every organ of its body, follows the same rhetoric without leaving any space for questions. It's the same in tv, social media, and universities. Even in a country like a turkey, led by a corrupt dictator, you have a much wider pluralism when it comes to ideas spoken. The state media produces propaganda, but contrary opinions are just as popular even if not more. No matter what the subject is in Germany, I only see the repetation of the same opinion because disagreeing parties are too afraid to speak up.\n\nLike the whole country was on fire because some randoms singed Foreigners Out. I AM A FOREIGNER, and the level of craziness produced by that video is crazy. And not a single media figure had the balls to defend those people. I am not even saying they are right but I am sure there are so many people who want to defend them but are too afraid.\n\nNow turn to Israel-Palestine conflict. Calling people terrorists for supporting Palestine? Firing professors for supporting Palestine? Calling people anti-semites for questioning if Israel is committing a genocide? Accusation of genocide/war crimes is not something you can mute, man. It doesn't matter what excuse you use for it. \"they hate jews so they make it up\" okay, you are willing to take the chance of ignoring a genocide in fear of being anti-semite? That's moral laziness. Nothing should be closed for discussion and questioning, especially such horrific claims.\n\nBut these are small things I just think of without properly argumentize and articulate. It is simply the way of living. I don't think you can nicely reflect on it without living in different countries and actively participate in political circles of them. Germany definetely has big issues on this part and I am concerned about its future.",
          "I said except freedom of religion. So, what I say is that Germany is far from being the beacon of freedom of speech.",
          "well you referenced the thread \"making it clear that it's about xenophobia\", while it's actually about qatar being a ridiculous host for so many reasons, none of which are made up. see slavery, human rights, corruption, lgbt and women's rights in qatar....\n\nedit: interesting downvotes. i would suggest googling human rights situation in qatar.",
          "So the article I just called embarrassing journalism.  And I mean do you people even read the actual article. It takes every \"worker\" death across 10 years and it doesn't even count work related deaths. Just deaths. Most numbers point out that 6k across 10 years in that demographic is actually completely normal. This is not even world cup related workers either, just straight up workers. It's a shameful article and the fact that you share it when I explicitly mentioned it in my comment and the fact that all I'm saying is also mentioned in the article show how stupid this whole thing is. \n\nIt's like if I said \"2 million Germans have died since they won the world cup was won\".  Which is true and it means absolutely nothing.\n\n\nThe second source admits to 3 work related deaths in the construction of the stadiums in 12 years. Which again, means literally nothing. You guys hear death and panic, but shocking news, across 12 years people die.",
          "lol if you really don’t know how the west was built on the suffering and abusing other countries, notable the Middle East and Africa. Then you really are ignorant",
          "Feeding hate with more hate is only making it worse. I know it's the internet and all but literally no need for all this",
          "Turkish fans should touch some grass.\n\nTheir behavior makes them seem very uncivilized, that's all.",
          "Yes the Belgian team is shit but they don't make ultra nationalist gestures either. Belgian fans don't throw coins and shit at the opposing team or boo at every opportunity or constantly blowing whistles or setting of fireworks outside the opposing team hotel the night before a match.",
          "And you sure Hamas doesn't use the tunnels below a Hospital like a \"get out of jail card\" in a game of Monopoly?\n\nNo one wants to harm the innocent, but how else would you deal with that?\n\nLike \"oh, thats unfortnate, let's ignore the rockets that blow our innocent people up in order to avoid hitting the structure over their tunnel\"?\n\nNo sir, thats bullshit.",
          "Every building, used to deploy rockets or missiles, loses its saftey status",
          "It's not free speech if it comes to the cost of others. Threatening to kill someone is also just words and yet punishable. What is your point or are you just stupid?",
          "Sure , who knows more about genocide other than the experts of the field. Too bad the US didn’t execute the Morgenthau plan, if they did, I wouldn’t have seen comments from genocide deniers",
          "Thanks for your comment, so far it’s the only respectful one I got, I agree with you to a certain extent, still the Palestinian side is very much oppressed and many people I know lost their jobs because they expressed their support for Gaza against the ongoing slaughtering. The german government is complicit unfortunately, but again I’m not comparing it to Qatar. There is no doubt of the Slavery, the abuses and corruption around WC 2022, or even WC 2018 in Russia",
          "You're completely confused about the concepts, it seems?  Because it's quite interesting how you live in Germany, go on with a rant like this, and then say there's no free speech here. You may go to a public area, read your post out loud, and nothing bad will happen to you. That's free speech. People may tell you that you're talking bs and ask you to shut up. That's free speech as well. But nothing or noone will force you to shut up. \nIf the majority thinks otherwise than you, well, you won't get what you want. That's democracy. And I believe that there were elections here recently, and there will be again in fall? \nFree speech doesn't mean everybody has to applaud about what you say. Everybody else may disagree, and thus won't share or further distribute your opinions, which may feel like censorship. Has any of those racist dorks in Sylt been arrested? Some may have lost their job, but that was a decision by their employers not the state. Have you ever criticized a sheikh in public in Qatar or kissed as a homosexual in public there? Before you haven't done that and come back alice, don't give me that nonsense in your post.",
          "So you went from no freedom of religion to no freedom of speech, just to give an example of Sylt and to complain, that no public figure defended them??? Like, bro, nobody should defend such behavior. What's wrong with you?",
          "So no. As i already thought: \n You are not understanding how a liberal  Discussion works. \n\nThe Palestine thing: Have anyone because of supporting Palestine been arrested? No. There even was a protest because a university was shutting down a pro palestine Camp. \n\nAnd here is hiw it works, You say \"Israel has to be deleting\" (or antisemits stuff like \"from the river to the sea\") and i can  say that you are a fucking donkey for thinking this. \n\nFreedom of Speech doesnt mean that your opinions are protected against other opinions!\n\nI mean A Country with a History of almost elimating a whol religion is going crazy cause people sing Naziparoles. Okay. Yeah why not. I mean its not like this is how it kinda started in the 1920s..  Just some weird Austrian talking in a beercellar.. \n\nYou say Shit and i wi say shit and there is nothing you can do. Thats Freedom of speech at its best. \n\nJust go to Katar or Russia and say something againt their politics. Pretty shure you wont be able to go on Reddit after that and cry about Turned down TV Volumes of Stadiums",
          "Ah i misread. So how is there no freedom of speech?",
          "And why is that? Because people are being criticized for using symbols of banned extremist groupings? How terrible. /s",
          "I don't doubt Africa, but that wasn't the question. And the Middle East belonged to the Ottomans and the various other Muslim empires for most of their existence, how are their current problems the West's fault?",
          "They're in the stadium only a few hours max and they know they are watched and risk big fines or worse.\n\nIt's a petty excuse.\n\nLike a little brat making trouble everywhere and then  acts like an angel when he's with his parents.",
          "Hating would imply I care about the Belgian team, which I don't, but objectively they were worse than any team that is still left in the competition. No one needs to listen to their superiority complex and bitterness, so they could be better by shutting up.",
          "Notice you all ignore the comedian jailed for criticising isreals government. Care to justify that on behalf of the fatherland?",
          "So elections means freedom of speech? They were in Turkey and Russia too but I wouldn't say they have it either. I can also shout any opinion in Turkey, I spent my entire life actively opposing Erdogan and nothing happened to me. But it isn't the beacon of Freedom of Speech there either, is it? I think you guys  are so far deep in your propaganda that you don't even read and try to understand other opinions. Calling me Alice? I am fucking TURKISH. I already said it's not about me agreeing with any of those opinions. It's about there being no platform allowed for those who think so. But anyway man I couldn't care less.",
          "If you are referring to greywolf, it isn't banned and it isn't a extremist symbol. That's the thing, your media creates a story and everyone who doesn't agree are supporters of extremists.",
          "The brits didn't loot the sub continent? They didn't play the great game with Russia which destroyed Afghanistan? They and the US didn't meddle in Iran until he Islamic revolution came to the power?\n\n\nThey also installed Israel in Palestine to keep an eternal problem in the middle east. They and the French also broke apart the Osmani empire in such a way that they knew that would absolutely keep the entire region destabilised. They and the US broke apart the Arab nations in tiny countries and installed puppet governments so that arab nations are always divided and stay mostly poor.\n\n\nThe moments when Saddam or Gaddafi did something that is not according to the wishes of the US, US absolutely massacred these countries and left millions dead and the countries absolutely desolate. Libya used to have the best economy of Africa, but the US destroyed it because Gaddafi wanted to sell oil in exchange of gold instead of dollars. \n\n\nThe west have been trying to destroy Iran, running all sorts of propaganda, despite it having a democracy, albeit imperfect, because Iran does not follow whatever the West demands off it. \n\n\nHow much else should I describe?",
          "So why cant Belgium fans behave during that time? It’s funny that you give a petty excuse for your prejudice and then complain about petty excuses.",
          "To be fair the continue whistling, honking until 3am after a Turkey win, is annoying. I live in the Netherlands and am Turkish. I get most things people say about the Turkish fan. I just hate the generalizing of it. And him talking the way he is, also no need for. But if you approach it the way you do, you'll only make it worse. I'm trying my best to apologies for those by letting them know, there are \"normal\" fans aswell that get to read all those hate messages. Some maybe don't give a fuck, but to me, it makes me feel a bit sad after reading all of it. And I'm pretty sure there are more people that feel like this",
          "What Comedian in Germany got to jail for critc against Israel? Show me the report",
          "I get your point but Israel reaction is asymetrical, totally , for the palestinian. \n\nWe had a terrorist org at spain, what defeated em wasnt the goverment military power.\n\nWas their own people, realizing there was a politic solution, that leaded to a loss of support. \n\nThat and a response with the laws we had . On the worst scenario the gov. had a group called GRAPO that killed people considered terrorist. That was clearly not the way to go.\n\nI respect that Israel was attacked in a brutal manner, but for Isarael and Usa and many others having innestable countries is their chosen scenario. That way you can control the zone, you can use people and lives as your will.\n\nOn the other hand HAMAS clearly does the same.\n\nSo who are in the middle? You all know the answer.",
          "A Nazi Will always be a Nazi",
          "You said there is no democracy, I said there are elections which are not rigged like in Russia. Or are you suggesting they are in Germany? Then, some proof, please.\nI gave you an example what free speech means. That has nothing to do with elections. But with the fact that you can say whatever you want here. It does NOT mean that racist chants in a stadium must be broadcasted. Ever heard about the very democratic and liberal concept if no tolerance for intolerance? \nRacists in the stands may show their gestures or yell their racist bs, but that's where tolerance for that ends. Are you seriously claiming it's censorship when piblic broadcast stations decide not to broadcast that crap? \nGrow up, dude",
          "I would honestly agree however the level of competition would drastically decline. Third place qualification is terrible...",
          "the more teams you add, the more lower quality teams you let in.\n\nIf big teams miss out then they should've played better in the qualifiers. Just because you're big, you don't have the right to be there.",
          "16 > 32> 24 imo.\n\n\nThe whole, 4 out of 6 3rd place teams going through, the weird way the round of 16 is allocated is frustrating.",
          "32 makes the whole qualifying campaign a waste of time then.There needs to be a level of competition in qualification for most sides. I'm a Scottish fan, who has spent most of my life missing out on tournaments, but if there was 32.. we would almost always qualify and the 2 year qualification period would lack any excitement",
          "No - too many anyway. Sack Iceland off and England can stop losing to them. 😂😉",
          "32 isn't ideal but better than 24. The group stages arent worth watching.",
          "The best 3rd placed teams spoils 24 teams. Problem is there isn't any better way. If you just have group winners and best 2 runners up going through to QF that would be better from a competitive point of view but would result in more dead rubber games.\n\nThe only other way is to have a 2nd group stage. Top 2 from each group forming 2 groups of six with the top 2 in each going through to semis. But again, more dead rubbers and also a lot more group games which are less appealing to fans and broadcasters.\n\n32 teams solves those problems but produces weak and uninteresting qualifying with little jeopardy. Perhaps the solution to that is scrap qualifying and have an \"all-in\" Euros. Top division of 32 with 6 teams relegated and second division of 23 teams in 6 groups with group winners promoted. That creates the problem of loss of revenue from qualifiers. That can be partly plugged by having Euros every 2 years instead of 4. Stupid, but this is the issue they've created for themselves with these constant \"quantity instead of quality\" expansions.",
          "If anything we should be going back to a 16 team tournament. The qualifiers would be completely pointless if it were a 32 team tournament. It's the finals for a reason and should only be the elite sides. For example Scotland completely stunk out Euro 2024 and shouldn't be anywhere near the tournament but it's too easy to qualify as it is.",
          "STUPID",
          "I think the qualification needs looking at anyway. There's far too many matches in football as it is and it ruins the quality of the matches. Then there's the nations league which I'm not really sure anyone has taken to, but I could be wrong.",
          "Savage , very savage; good idea, but I very much doubt that EUFA or FIFA would agree with it.",
          "That is not a good thing.",
          "That is not a good thing at all. It degrades the value of each group game. For example Germany could lose their first match to Scotland and still know they have an excellent chance of qualification. Whereas it used to be that if you lose your first game you are right up against it to qualify. That means that the matches hold less value and is bad for the competition and excitement.",
          "This is exactly why it won't be done. 39 games compared to 51. 12 games less which are essentially useless and which lower the spectacle (what football fans are interested in), but which certainly bring in less money (what UEFA is interested in).\n\nFurthermore, with the current format there are matches involving 1vs3, other matches between 1vs2 and finally the 2vs2 combination. This gives rise to unbalanced and unfair eighth notes. Why does a team that finished first have to find a better third place and another first place have to find a second place in the round of 16?",
          "My wife is polish so I have them as my 2nd team but I find them a tough frustrating watch. I can’t see them doing much unfortunately",
          "why are you falling for Poland?",
          "I have a feeling you will end up losing all games :)",
          "You mean the same Poland that beat Turkey yesterday? I’m only joking, I don’t think they’ll qualify either as a pole (sort of) so I can’t really say anything!",
          "Similar situation for me and my god it's painful to watch them. Lewandowski only ever getting to score from pens and if they didn't have Szczęsny they wouldn't even be qualifying. Have a glimmer of hope in the young players like Zalewski and Urbański.",
          "If their last several games are anything to go by, he'll be lucky to get 5 touches of the ball each game. It's so frustrating watching this team try to get the ball to him, he deserves better.",
          "Yeh he ends up dropping to deep and they become completely impotent",
          "perhaps. although my friends arent the best examples",
          "Must have fell and hit your head",
          "Now I am ashamed 😩😭",
          "A total disaster. 7 players were reserves in their own team. What was Montella thinking?",
          "Greenwood will never wear the shirt again.",
          "Dogshit team but I wouldn't put it past Southgate. Who could beat it? Germany, Spain, Croatia, Italy, Denmark, Netherlands, France, or Portugal. How? England are the second biggest choke artists in Europe after Belgium. It can happen in any number of ways, each more humiliating to consider than the last.",
          "France, Sorry England",
          "They haven’t won a tournament in 50 years and haven’t won a tournament without cheating in their entire history. I’m sure they’ll lose to someone. Overrated.",
          "Some players on this lineup are not going to get called up",
          "Bro is an Attacker on and off the field",
          "He’s certainly a threat…",
          "Thought the same thing. Not even close to our best starting XI."
         ],
         "yaxis": "y"
        },
        {
         "hovertemplate": "Sentiment=neutral<br>Score=%{x}<br>text=%{y}<extra></extra>",
         "legendgroup": "neutral",
         "marker": {
          "color": "rgb(55,126,184)",
          "size": 5,
          "symbol": "circle"
         },
         "mode": "markers",
         "name": "neutral",
         "orientation": "h",
         "showlegend": true,
         "type": "scatter",
         "x": [
          0.7179846167564392,
          0.617206871509552,
          0.49606582522392273,
          0.4628812074661255,
          0.5821076035499573,
          0.7179846167564392,
          0.6375588178634644,
          0.7146637439727783,
          0.7200583815574646,
          0.8843174576759338,
          0.8569942712783813,
          0.6560844779014587,
          0.6376821398735046,
          0.5865886807441711,
          0.5976676344871521,
          0.5157402157783508,
          0.5904871225357056,
          0.6524252891540527,
          0.6251445412635803,
          0.680598795413971,
          0.7556318044662476,
          0.5534645915031433,
          0.7179846167564392,
          0.6873845458030701,
          0.6356114149093628,
          0.8337731957435608,
          0.5061480402946472,
          0.46466317772865295,
          0.37908998131752014,
          0.5644172430038452,
          0.4178158640861511,
          0.5355404615402222,
          0.7897912859916687,
          0.85957270860672,
          0.5376807451248169,
          0.5848074555397034,
          0.5848074555397034,
          0.5199788212776184,
          0.472319096326828,
          0.4301602244377136,
          0.4412163496017456,
          0.6691535115242004,
          0.6873845458030701,
          0.7003114223480225,
          0.5292626619338989,
          0.6136468052864075,
          0.5355404615402222,
          0.5355404615402222,
          0.5355404615402222,
          0.5355404615402222,
          0.5355404615402222,
          0.6118325591087341,
          0.4279479682445526,
          0.45820578932762146,
          0.5062838792800903,
          0.5044612288475037,
          0.5420368909835815,
          0.524988055229187,
          0.6524252891540527,
          0.7345539331436157,
          0.5519094467163086,
          0.6482115387916565,
          0.7622127532958984,
          0.7046082615852356,
          0.47189655900001526,
          0.4630317986011505,
          0.589188277721405,
          0.7531073689460754,
          0.6777364611625671,
          0.6873845458030701,
          0.5277237296104431,
          0.4858567416667938,
          0.6524252891540527,
          0.7166142463684082,
          0.6120045185089111,
          0.6878088712692261,
          0.6628777980804443,
          0.3852735757827759,
          0.8919557332992554,
          0.49115118384361267,
          0.8564165830612183,
          0.48970285058021545,
          0.591742753982544,
          0.4502313435077667,
          0.5353407859802246,
          0.4825415313243866,
          0.8374768495559692,
          0.5558218359947205,
          0.6524252891540527,
          0.6524252891540527,
          0.7147600650787354,
          0.5297521352767944,
          0.8413976430892944,
          0.8020595908164978,
          0.6836705207824707,
          0.7576717734336853,
          0.506439208984375,
          0.7630353569984436,
          0.5505381226539612,
          0.5533933043479919,
          0.46612483263015747,
          0.39135095477104187,
          0.5762755274772644,
          0.4726131856441498,
          0.6794530749320984,
          0.508201539516449,
          0.7964975833892822,
          0.7096047401428223,
          0.8269128799438477,
          0.5982199311256409,
          0.6873845458030701,
          0.6714370250701904,
          0.5583219528198242,
          0.6558164358139038,
          0.9349809288978577,
          0.49787020683288574,
          0.5116484761238098,
          0.6799202561378479,
          0.5984899997711182,
          0.7300089001655579,
          0.5409563183784485,
          0.5109647512435913,
          0.4828430414199829,
          0.6058938503265381,
          0.5359719395637512,
          0.6873845458030701,
          0.6340882182121277,
          0.6873845458030701,
          0.5020470023155212,
          0.6577389240264893,
          0.7974138855934143,
          0.7179846167564392,
          0.45988571643829346,
          0.4476530849933624,
          0.4223460555076599,
          0.6687411069869995,
          0.46372273564338684,
          0.7887800335884094,
          0.881022036075592,
          0.5402682423591614,
          0.7779128551483154,
          0.49969881772994995,
          0.7441346645355225,
          0.9236313104629517,
          0.5745928883552551,
          0.48306092619895935,
          0.6657504439353943,
          0.6128664016723633,
          0.4908283054828644,
          0.5123002529144287,
          0.6651883721351624,
          0.553091287612915,
          0.6345592141151428,
          0.7179846167564392,
          0.8079931735992432,
          0.794682502746582,
          0.7690029144287109,
          0.5186768770217896,
          0.5750545859336853,
          0.8482438325881958,
          0.7727441787719727,
          0.8482438325881958,
          0.6206620335578918,
          0.5854923725128174,
          0.8379157185554504,
          0.7370213270187378,
          0.49046915769577026,
          0.6089794039726257,
          0.5416869521141052,
          0.4667467176914215,
          0.7292271256446838,
          0.8238406777381897,
          0.6320850849151611,
          0.8684043288230896,
          0.6725043654441833,
          0.4430140256881714,
          0.46735286712646484,
          0.6035988926887512,
          0.536824643611908,
          0.5308230519294739,
          0.6048275828361511,
          0.5340164303779602,
          0.7179846167564392,
          0.4964338541030884,
          0.6478812098503113,
          0.9096367955207825,
          0.5697371959686279,
          0.6779630184173584,
          0.5234728455543518,
          0.6576163172721863,
          0.6132804155349731,
          0.6254653334617615,
          0.6472862958908081,
          0.6239140629768372,
          0.9210731387138367,
          0.5286943316459656,
          0.4997921884059906,
          0.5875022411346436,
          0.657341718673706,
          0.5333262085914612,
          0.45529088377952576,
          0.6677724719047546,
          0.7906332015991211,
          0.5055935978889465,
          0.7369478940963745,
          0.8083170652389526
         ],
         "xaxis": "x",
         "y": [
          "Fellow fans, this is a friendly reminder to please follow the [Rules](https://www.reddit.com/r/euro2024/about/rules) and [Reddiquette](https://support.reddithelp.com/hc/en-us/articles/205926439-Reddiquette). \n\nPlease also make sure to [Join us on Discord](https://discord.gg/football)\n\n\n*I am a bot, and this action was performed automatically. Please [contact the moderators of this subreddit](/message/compose/?to=/r/euro2024) if you have any questions or concerns.*",
          "Why does it matter?",
          "But if the commentary was good there’d be no complaints… you miss the point",
          "I want to enjoy a game with the mates for the banter- not a commentator having to carry some guy's little sister just because Woke is now the rule.",
          "Sometimes they are more insightful then the dudes who can get a bit too emotional or romantic about how to play, where the woman, especially if they are ex players or current players, tend to be a bit more sober and realistic.",
          "Fellow fans, this is a friendly reminder to please follow the [Rules](https://www.reddit.com/r/euro2024/about/rules) and [Reddiquette](https://support.reddithelp.com/hc/en-us/articles/205926439-Reddiquette). \n\nPlease also make sure to [Join us on Discord](https://discord.gg/football)\n\n\n*I am a bot, and this action was performed automatically. Please [contact the moderators of this subreddit](/message/compose/?to=/r/euro2024) if you have any questions or concerns.*",
          "We have had it since 1984.",
          "Bruh there is one. Next year in Switzerland",
          "There is one",
          "Luis Rubiales? Is that you?",
          "https://en.m.wikipedia.org/wiki/UEFA_Women's_Championship",
          "I'm sorry, but are you serious? There is a euro for women. The next one will be next year in Switzerland.",
          "I dont, mate. Maybe we should talk about giving them the vote first...",
          "Bruh lives in the mines of moria or something 💀",
          "Hi /u/Ok_Ferret_1020, this submission is waiting for moderator approval, before it can appear on the subreddit. All image submissions are manually checked for low-content submissions. If your submission is removed and you believe your post was removed as a mistake, please [contact the Mod Team via Modmail](https://www.reddit.com/message/compose?to=/r/Euro2024). Thank you!\n\n*I am a bot, and this action was performed automatically. Please [contact the moderators of this subreddit](/message/compose/?to=/r/euro2024) if you have any questions or concerns.*",
          "Fake story\n\nNo proof? Trust me bro",
          "Hi /u/Vourinen22, this submission is waiting for moderator approval, before it can appear on the subreddit. All image submissions are manually checked for low-content submissions. If your submission is removed and you believe your post was removed as a mistake, please [contact the Mod Team via Modmail](https://www.reddit.com/message/compose?to=/r/Euro2024). Thank you!\n\n*I am a bot, and this action was performed automatically. Please [contact the moderators of this subreddit](/message/compose/?to=/r/euro2024) if you have any questions or concerns.*",
          "[deleted]",
          "proof, that was the email sent as an actual complain to the organisation by one of tge girls affected 🤌🏼🤌🏼",
          "Police can be authoritarian towards both males and females, what are you on about?",
          "It's called security for a reason",
          "Yeah and his collegues would have to be at least somewhat involved, its impossible for nobody to see that at the entrance to the fan zones, there are a lot of people and guards and everything is super public.\n\nSomeone would record it 100% with a phone easily",
          "Fellow fans, this is a friendly reminder to please follow the [Rules](https://www.reddit.com/r/euro2024/about/rules) and [Reddiquette](https://support.reddithelp.com/hc/en-us/articles/205926439-Reddiquette). \n\nPlease also make sure to [Join us on Discord](https://discord.gg/football)\n\n\n*I am a bot, and this action was performed automatically. Please [contact the moderators of this subreddit](/message/compose/?to=/r/euro2024) if you have any questions or concerns.*",
          "[removed]",
          "Germans don’t employ and abuse slaves so Euros for sure 👌",
          "matches - wc\n\n\neverything else (wgaf) - euro",
          "Matches side ofc Qatar because it was hosted during winter due to their terrible weather, so players were at the top of their physical condition and could stage better performances, while euros are being played during summer after 60 matches played",
          "Qatar had better matches but for atmosphere obviously Germany it's actually a proper football country Qatar had to pay fake fans to make it look like there was a good atmosphere that tournament 😂.",
          "Euros are always better than the World Cup, I’m not even European. The vibes are actual football, none of this sports-washing shit from the Middle East or Russia",
          "Euros",
          "Qatar was much better. Japan finishing first against Spain and Germany, Qatar losing all their games, Morroco unexpected run, South Korea watching the other game on phones, Ghana being happy while losing because Uruguay was eliminated too. Cameroon beating Brazil, and an amazing final between Mbappe and Messi. Now compare that to England boring games, France reaching semi finals without even scoring from an open play, pointless games because 3 out of 4 team qualify anyways, terrible refs, frustrating VAR, racism, no dark horse story, maybe Turkey, but they did not defeated some powerhouse yet. The only good thing was Georgia win against second team of Portugal and matchday 1 goals, those were really good. But overall, a bad tournament, even the opening song...",
          "At least in qatar the referees wasnt that bad. Overall in Germany are more \"real\" football fans than in Qatar",
          "I guess it depends if we are gonna win it or not",
          "Is Water wet?",
          "Euro",
          "The pitches in Qatar were better, but that's about it.",
          "The pitches in Qatar were better, but that's about it.",
          "I think the country killing less people did a better job. Was it Germany? Or how did they build and organise everything?",
          "I only like Euro games",
          "Football wise, Qatar was better. Players were fresher as they only played half a season. I think there has been some stinking games at the euros so far as players are knackered",
          "yall just like the euro vibes more... anything related to the actual games played qatar easily takes it. Its not even close. The games this euro ESPECIALLY the knockouts have been a bore.",
          "The matches at the euros have been a snoozefest.",
          "[removed]",
          "European or World cup competitions should be hosted by European countries.. Case Closed..",
          "Qatar World Cup had some insane matches like Saudi vs Argentina, Iran vs US, Portugal vs Morocco, and then the finals which was France vs Argentina.",
          "I agree with the critique to Qatar but let's not pretend the workers in Brasil didn't have to go through similar work conditions back in the time",
          "At least in qatar the referees wasnt that bad. Overall in Germany are more \"real\" football fans than in Qatar",
          "At least in qatar the referees wasnt that bad. Overall in Germany are more \"real\" football fans than in Qatar",
          "At least in qatar the referees wasnt that bad. Overall in Germany are more \"real\" football fans than in Qatar",
          "At least in qatar the referees wasnt that bad. Overall in Germany are more \"real\" football fans than in Qatar",
          "At least in qatar the referees wasnt that bad. Overall in Germany are more \"real\" football fans than in Qatar",
          "Euro 2024 Germany obviously. Not build by slave labour and is a country with Football history.",
          "Call me biased but I liked the tournament where hundreds of workers didn't die in blistering heat having to build stadiums first for the tournament to happen",
          "Nice joke, the euro is filled with fights and chaos, Germany souls have learned from Qatar on how to organize better. Qatar hosted the best and safest world cup",
          "At least there were no drunk brits...",
          "*germans don‘t employ and abuse slaves IN Germany but as long as it‘s in another country in the South or East to make cheap garments and harvest cheap chocolate and bananas it‘s fine 😍",
          "We do but we call it minimum wage and it’s not as ethnically charged anymore",
          "Frank-Walter Steinmeier is certainly not going to gift a blanket to squeeze into the worlds picture when the trophy is handed.",
          "[deleted]",
          "True, but FIFA and UEFA are not angel organizations either.",
          "Were women not allowed to attend in Qatar?",
          "I barely have to turn the history book pages to see Germanys history…",
          "Did you just reply to yourself?",
          "Yes. There are no special moments except Turkey matches and Spain-Germany matches.",
          "I think fan wise Germany is ahead, football wise Var has been a disgrace/ it was better in Qatar.",
          "Yeah who cares about human rights if the footie's good?",
          "I think everything you said was fair, not sure why down voted especially when no disrespect intended",
          "Yeah, they even organized the fans.",
          "That’s strong whataboutism",
          "[removed]",
          "It’s coming home",
          "What makes it better?",
          "[deleted]",
          "we call it 'DUALE AUSBILDUNG\" 😂",
          "He should, though. For the memes.",
          "Expert talking....😂😂",
          "Unnecessary but probably true.",
          "Yeah football culture of drinking and hooliganism is sooo much better in Europe.",
          "There were women in Qatar.",
          "ye they were 😭😭",
          "Qatari women need permission from their legal guardian ( father/brother/husband)",
          "LOL. \n\nThen how many deaths and what is an acceptable non-zero amount für you?",
          "He forgot to switch accounts",
          "It sure had ethical issues and the games should never have been there but I was just thinking about the matches and how exciting they were.",
          "I think it’s rich for a German to talk like that, considering your history.",
          "I am talking about football, quality of football and organisation which was very good. I can't talk about human rights in Qatar and I can't say that WC in Qatar was bad because of human rights. For me, someone who was watching it on TV, what I saw in my opinion quality of the game was better. And that's the only relevant thing here. We are not talking about human rights.",
          "You were there?",
          "Germany and Europe was built on the wealth and blood of the eastern world countries.",
          "[deleted]",
          "[deleted]",
          "Apart from freedom of religion?",
          "Well, they knew about the fact that qatar had no stadiums and still gave them the WC ...",
          "It's a tradition of Reddit.",
          "r/lefttheburneron",
          "There were plenty of South American, Asian and African fans there. It was only the Europeans who didn’t really travel.",
          "It’s well documented.",
          "sure, it’s the media.",
          "How so?",
          "I may not care in 20 minutes either tbh",
          "That was not online, was filmed in Dusseldorf where the English are.\n\nIt is as you say: \"kind of behaved for their standards\"\n\nNothing to be proud of or deserving praise.",
          "Bigger gap between good and bad teams in Africa. I thought you were going to say the atmosphere is better and I’ve never been so wondered what makes it better.",
          "Get used to us, mate! Our population continues to grow while yours continues to decrease 😊\n\n\nThank God most Belgians aren't obnoxious xenophobes like yourself.",
          "yeah you cant say we dont got freedom of religion if you have a lot of mosques and are allowed to call for khalifats at open petitions.  Thats why he cant deny it.",
          "\"All the fans in the middle east\" you mean all 3 of them?? The stadiums had no atmosphere and you could clearly see how many were bought and just put there. Don't get me wrong there are some fans probably there. But compare that to South America, Europe or Africa. Even Japan, Korea, China and Australia have a waaay higher football-fan-density.",
          "The LBGTQ community might disagree.",
          "Here's a sneak peek of /r/LeftTheBurnerOn using the [top posts](https://np.reddit.com/r/LeftTheBurnerOn/top/?sort=top&t=year) of the year!\n\n\\#1: [Whoopsee](https://i.redd.it/fr5kmsx7t3sc1.jpeg) | [66 comments](https://np.reddit.com/r/LeftTheBurnerOn/comments/1bu532x/whoopsee/)  \n\\#2: [Sneako forgot to switch to his fan account](https://i.redd.it/vm5w94pon2nc1.jpeg) | [67 comments](https://np.reddit.com/r/LeftTheBurnerOn/comments/1b9jdgr/sneako_forgot_to_switch_to_his_fan_account/)  \n\\#3: [No way people are this retarded](https://www.reddit.com/gallery/1alrfeb) | [299 comments](https://np.reddit.com/r/LeftTheBurnerOn/comments/1alrfeb/no_way_people_are_this_retarded/)\n\n----\n^^I'm ^^a ^^bot, ^^beep ^^boop ^^| ^^Downvote ^^to ^^remove ^^| ^^[Contact](https://www.reddit.com/message/compose/?to=sneakpeekbot) ^^| ^^[Info](https://np.reddit.com/r/sneakpeekbot/) ^^| ^^[Opt-out](https://np.reddit.com/r/sneakpeekbot/comments/o8wk1r/blacklist_ix/) ^^| ^^[GitHub](https://github.com/ghnr/sneakpeekbot)",
          "Do you wqtch the euros then?",
          "Where?",
          "You know me personally?",
          "at least they are not right-wing extremist or at least they dont show it publicly",
          "[removed]",
          "Long due",
          "I see",
          "Could you elaborate on your point then? How is there no freedom of religion?",
          "Can you name some of these matches so I can see for myself?",
          "it’s pretty easy to google. \n\nhttps://www.theguardian.com/global-development/2021/feb/23/revealed-migrant-worker-deaths-qatar-fifa-world-cup-2022\n\nhttps://www.hrw.org/news/2022/11/30/qatar-world-cup-chief-publicly-admits-high-migrant-death-tolls",
          "Sorry. These two cannot be separated. Politics is always present.",
          "When did I say that? I'm just able to read your comments.",
          "I'll already extend my apologies for when we inevitably fumble",
          "Pot kettle",
          "Bc its not a genocide.",
          "Getting a result against the Swiss isn’t for everyone….they’re a good team, but England have the quality to beat them. Hoping it isn’t a snoozefest.",
          "You insulting me like you know me personally. I just said that tournament in Qatar was better for me in terms of football quality,it was more entertaining for me. That's just my opinion and nothing more.",
          "Hardly irrelevant is it. Behaviour is behaviour. Regardless of where it is.",
          "Sometimes it's difficult with symbols. They can change their meaning over time. For Erdogan this is an opportunity for a populistic moment he can't miss.",
          "[removed]",
          "Tony Blair. I don’t need to say anything else",
          "[removed]",
          "You're right it's only considered a danger for democracy by the highest organ in Germany responsible for that, the Verfassungsschutz. So it's all fine then.",
          "Tony Blair built the West?",
          "You could start with how any of this is related to EURO 2024.",
          "Fellow fans, this is a friendly reminder to please follow the [Rules](https://www.reddit.com/r/euro2024/about/rules) and [Reddiquette](https://support.reddithelp.com/hc/en-us/articles/205926439-Reddiquette). \n\nPlease also make sure to [Join us on Discord](https://discord.gg/football)\n\n\n*I am a bot, and this action was performed automatically. Please [contact the moderators of this subreddit](/message/compose/?to=/r/euro2024) if you have any questions or concerns.*",
          "Nah, too many weak teams and uninteresting matches at that point.\n\n16 was the golden number, simple format, and high level of competition.\n\n24 is still okay, it’s quite nice to see smaller teams make their debut/return, but the quality has been noticeably diluted, plus it has made the format very ugly.\n\n32 teams with the old WC format would fix the issue with the “best 3rd in a group of 4”, but yea, the overall quality would take a massive dip.",
          "24 is fine. Maybe expand to 28 to minimize ‘third place team’ issue. 32 out of 55 will mean more crap teams qualifying.",
          "More teams -> more excitement - not true; won't make things worse to make Euros with 32 teams - also not true; group stages will be way more exciting - you're wrong",
          "There’s pros and cons to having 16, 24 or 32 teams, which have all been covered here. But for me, the third-place qualification is the killer-con by a country mile, like everyone has said it removes any feeling of jeopardy, so imo it needs to be either 16 or 32 teams to get a proper tournament process. \n\nAlso with the whole process of narrowing down 24 teams to 16 you can’t split the winner/runner-up from each group on either side of the knockout process, i.e. preventing them from meeting again unless they both reach the final.",
          "That would make qualifiers somewhat pointless exhibition games for the top teams. Expanding to 24 teams already made it more certain that the top teams will be present at the final tournament. Still, Europe has a lot of quality and multitude of football fanatic nations. I don't think the quality would drop drastically from the current 24 if changed to 32 teams. It's Europe after all, the home continent of football. Would the likes missing from EURO 2024 really make the quality worse? I highly doubt adding Sweden, Norway, Ireland, Wales, Greece and Russia (yes, I know) make  the standard plummet. After all, it's only 6 spots more.\n\nUEFA has 55 members. Organizing a EURO of 32 teams would improve the chances of smaller football nations like Finland, Iceland, Azerbaijan, Luxembourg or Lithuania of reaching the finals more regularly or even once. Football is the biggest sport in the world and the more can enjoy it, the better, imo (with certain limit ofc). For a smaller country, the significance of reaching a final tournament is beyond describing. I'm a Finn. We reached our first Euros in 2020, partially/plausibly thanks to the enlargement of the tournament.",
          "I would make 24 teams divided into 8 groups of 3. The top 2 pass and then we start with the round of 16, without repechages for the best third-placed teams. First against second in the round of 16. With the current format, 36 matches are played in the group stage to eliminate only 8 teams. With my formula, 24 group stage matches would be played, 12 useless matches less to always eliminate 8 teams. With my format the total matches would be 39 (6 matches for the teams reaching the final) compared to the current 51 total matches (7 matches for the teams reaching the final). If I had to choose between the current 24-team format versus a 32-team format I would prefer the 32-team format. With the 32-team tournament, I would automatically qualify the host country, the reigning champion and the best 13 in the ranking. The remaining 40 UEFA teams would be divided into 10 groups of 4 for the qualifiers.",
          "I think in the future we will have 32 teams and it will use a Nations League system to qualify to have a shorter qualification",
          "4 groups of 6 teams. Top 2 advance. Means more guarenteed games for every country but not more games overall for those going to the final. 2 out of 6 means every game is extra important.",
          "There are only 55 countries in UEFA\n\nJust do away with qualifiers and have a preliminary round at the start and have a random draw. Top 9 in Fifa rankings go into the main draw. Remaining 46 play a one off knockout game.\n\nThere's your 32.\n\n\nOr.........just go back to 16.",
          "naaah 24 is ok\n\nif anything. UEFA needs more places for the expanded WC",
          "why dont they do 24 -> 12 teams advance to knockouts, best 4 group winners get a bye",
          "Keep 24 teams but 8 groups of 3 with only group winners going through to quarter finals or top 2 with a round of 16?",
          "If you look at the 8 closest teams who missed out they were Norway, Sweden, Greece, Israel, Wales, Luxembourg, Montenegro and Iceland. I don't think the quality would massively drop with those teams in. (Though you're right that it was better with 16 teams.)",
          "Qualifications should feel pointless to the stronger teams, non of us cares or watches the qualifiers, get as many teams in the tournament as possible",
          "55 member teams , means at least 40 or 42 teams should qualify for future EURO tournaments to make it fair for every European team.",
          "Agree",
          "Probably better than the current format in theory but UEFA would never accept a tournament with less matches. Less matches = Less money for Uefa, and football is all about money these days.",
          "If you get out the group stage, you should automatically qualify for the next Euros.",
          "42 teams?!! So only 13 teams wouldn't qualify?! It would remove any jeopardy from qualifying for most teams",
          "Oh I agree with that. Different competitions running side by side... It's just confusing. I like the IDEA of nations League, matches against similar standard opposition but friendlies allow you to do this, or choose your own level. If there are consequences to these games in the nations League, are teams less likely to experiment, try new players...",
          "poland will finish second i fell i don’t know why but i feel like they will shock the netherlands",
          "Fellow fans, this is a friendly reminder to please follow the [Rules](https://www.reddit.com/r/euro2024/about/rules) and [Reddiquette](https://support.reddithelp.com/hc/en-us/articles/205926439-Reddiquette). \n\nPlease also make sure to [Join us on Discord](https://discord.gg/football)\n\n\n*I am a bot, and this action was performed automatically. Please [contact the moderators of this subreddit](/message/compose/?to=/r/euro2024) if you have any questions or concerns.*",
          "Can you get up?",
          "Want an ambulance?",
          "Co Kurwa?",
          "Poland will finish with 0 points and over -10 unfortunately is my feeling. All 3 opponents are really strong",
          "They miss Lewa for the first game i dont think so",
          "In thw group?",
          "Lewandowski will score 5 goals in 9 minutes in every game.",
          "In thw group?",
          "I think Austria are more likely to pull an upset",
          "Isn’t Lewandowski missing the first game already ?",
          "Ja pierdole, jakie bydle",
          "♫ If I fell in love with you,\n\nWould you promise to be true\n\nAnd help me understand? ♫",
          "It's OK if France is still 1",
          "wdym",
          "He’s also potentially ruled out of game against Austria so yeap.",
          "He's not even in the top 3 most important players of this team",
          "You’ll be lucky if he plays 9 minutes",
          "lol from Italian in group with Spain and Croatia.",
          "You said you fell",
          "Matty Cash?",
          "men too",
          "lmao",
          "oh never mind i see the mistake 💀",
          "i said i *feel* not fell",
          "And rightfully so.",
          "I’m going back",
          "If you mean watching like this in Tbilisi, then you don’t need tickets. The entrance is free. And if you mean watching it live in Germany, then the official ticket sales are long over. You might try some ticketing sites like viagogo.",
          "After that goal for Portugal I am no longer ashamed to be Polish What was that 🤭",
          "Fellow fans, this is a friendly reminder to please follow the [Rules](https://www.reddit.com/r/euro2024/about/rules) and [Reddiquette](https://support.reddithelp.com/hc/en-us/articles/205926439-Reddiquette). \n\nPlease also make sure to [Join us on Discord](https://discord.gg/football)\n\n\n*I am a bot, and this action was performed automatically. Please [contact the moderators of this subreddit](/message/compose/?to=/r/euro2024) if you have any questions or concerns.*",
          "True 😂",
          "I am a woman 😭",
          "With Güler on for the last five mins xd",
          "Fr the guy scored a game winning banger only to get benched in the next game against a much stronger opponent",
          "You single?. 😆",
          "Sorry 🤪",
          "Downvote 😜",
          "If only we could have told our grandchildren some day 🤷🏼‍♂️😭",
          "Chill lol she’s just a stranger on the internet for you",
          "Who in Euro 2024 could beat this England team? And how? ",
          "Greenwood is certainly a threat from an attacking point of view",
          "Albania decide to pull an Iceland in the ro16",
          "If I do bets with friends & family I'll probably yolo it on Germany, but my brain tells me that this might be Englands year.\n\nBellingham + Kane alone will be brutal.",
          "Pickford lol 😂",
          "Hi /u/marxistopportunist, this submission is waiting for moderator approval, before it can appear on the subreddit. All image submissions are manually checked for low-content submissions. If your submission is removed and you believe your post was removed as a mistake, please [contact the Mod Team via Modmail](https://www.reddit.com/message/compose?to=/r/Euro2024). Thank you!\n\n*I am a bot, and this action was performed automatically. Please [contact the moderators of this subreddit](/message/compose/?to=/r/euro2024) if you have any questions or concerns.*",
          "iceland apparently",
          "England is almost everytime the strongest on the paper but they never win. I doubt they will win this time, Portugal has a strong squad too, France and Germany won’t give up easily",
          "France, Portugal, Croatia, and Belgium, the players are good but Southgate has a way of losing",
          "highly doubt livramento , greenwood , colwill and palmer will be called up",
          "Especially to women",
          "Imagine him and Saka pairing up next to Bellingham and Kane\n\nWould be ridiculous.\n\nIf not Greenwood, expect Saka pushed higher and AA behind",
          "It's been true once or twice before, but never as much as now.",
          "What would having 5 kids have to do with a redemption?"
         ],
         "yaxis": "y"
        },
        {
         "hovertemplate": "Sentiment=positive<br>Score=%{x}<br>text=%{y}<extra></extra>",
         "legendgroup": "positive",
         "marker": {
          "color": "rgb(77,175,74)",
          "size": 5,
          "symbol": "circle"
         },
         "mode": "markers",
         "name": "positive",
         "orientation": "h",
         "showlegend": true,
         "type": "scatter",
         "x": [
          0.7126445770263672,
          0.7970508337020874,
          0.5616422891616821,
          0.7190050482749939,
          0.6825491786003113,
          0.6069917678833008,
          0.8073827028274536,
          0.5759267210960388,
          0.9835790991783142,
          0.4085959494113922,
          0.9423792958259583,
          0.7410125136375427,
          0.9755422472953796,
          0.8805779218673706,
          0.6121122241020203,
          0.4074569642543793,
          0.9881653785705566,
          0.9848917722702026,
          0.9161284565925598,
          0.8123098015785217,
          0.9435496926307678,
          0.6011018753051758,
          0.7176352143287659,
          0.7204111218452454,
          0.8398739695549011,
          0.970109224319458,
          0.5853933095932007,
          0.6723042130470276,
          0.8223745822906494,
          0.6071087718009949,
          0.7747795581817627,
          0.8674283623695374,
          0.5131353735923767,
          0.7651985883712769,
          0.9537034630775452,
          0.4158061444759369,
          0.9149767160415649,
          0.8832119107246399,
          0.61221843957901,
          0.9614098072052002,
          0.835707426071167,
          0.6807044148445129,
          0.8204089999198914,
          0.4990926682949066,
          0.6145867109298706,
          0.8236538171768188,
          0.9698197245597839,
          0.9499812722206116,
          0.822176456451416,
          0.9861704111099243,
          0.7383741140365601,
          0.8592991232872009,
          0.6211875081062317,
          0.6244659423828125,
          0.9851299524307251,
          0.49863454699516296,
          0.9492291808128357,
          0.9856363534927368,
          0.9250152111053467,
          0.6375539898872375,
          0.699093222618103,
          0.49880844354629517,
          0.9307765960693359,
          0.5708892345428467,
          0.5065920352935791,
          0.9642719030380249,
          0.9422461986541748,
          0.9746725559234619,
          0.7870718836784363,
          0.76100754737854,
          0.977959394454956,
          0.9750886559486389,
          0.8595654964447021,
          0.508327305316925,
          0.7996280193328857,
          0.6182499527931213,
          0.7039937973022461,
          0.9852361679077148,
          0.9656917452812195,
          0.8469957113265991,
          0.7956006526947021,
          0.4780867099761963,
          0.894588828086853,
          0.6070952415466309,
          0.811403214931488,
          0.9230154156684875,
          0.8612871766090393,
          0.9785789847373962,
          0.7505537867546082,
          0.441286563873291,
          0.48421284556388855,
          0.656626284122467,
          0.6642724871635437,
          0.8242693543434143,
          0.9287870526313782,
          0.4473317861557007,
          0.97850501537323,
          0.5360020995140076,
          0.7552233338356018,
          0.8117825984954834,
          0.5342994332313538,
          0.6343538761138916,
          0.9282984733581543,
          0.9843475818634033,
          0.9855663776397705,
          0.9611293077468872,
          0.8401072025299072,
          0.6219742894172668,
          0.5843008756637573
         ],
         "xaxis": "x",
         "y": [
          "What counts its whether they know what they're talking about, not their gender. The German TV channels have been using male and female experts and commentators and I found them all equally insightful",
          "I absolutely love and cherish ladies as well as their voices - except for this one.\n\nRight now -> Portugal vs Slovenia - the assistant lady commentary has nothing to contribute to this exciting game except repeating / screaming the same thing the guy already said a few seconds earlier.",
          "It’s the way women commentary is\n\nPersonally I want footballers who are men and who had good careers (regardless of their skin)",
          "yall think we should have euro for women? i think it would be good especially for women",
          "The women brought it home btw 🏴󠁧󠁢󠁥󠁮󠁧󠁿 ",
          "\"Skirt is for women\" sign but blank for memes. Do with it what you will. Have fun.",
          "😂😂😂 of course. Nice try",
          "Euro 2024 Germany vs World Cup 2022 Qatar Honest opinion on which you think has been better and why?\n\nI know we still haven't finished with the Euros however in my honest opinion the euros have been far far better!",
          "Germany wasn’t just better than Qatar. They’ve had the best competition for YEARS. \n\nThe fans have been amazing and gotten along well and the German fans have been great but the people loving their lives in the host cities have just been… amazing. \n\nThey’ve been a vibe and mostly very welcoming, not sure how much saxophone guy helped but he’s been everywhere",
          "Euro 2024 is much more fun than the Qatar PR spectacle in 2022. First, being hosted in a European country allows fans to actually celebrate and party in the stadiums and fan zones. Second, we're spared all the annoying FIFA & Qatar PR nonsense and the unbearablely disgusting Gianni Infantino. Everyone felt that the 2022 FIFA World Cup was just a gigantic whitewashing PR stunt for Qatar.",
          "Euros 2024 ofc, for me this euros is more enjoyable than 2022 world Cup bcz of the Summer. And so i can watch all the game",
          "Even if Southgate coached all teams and every single game ended 0:0, It would still beat Qatar simply because there are Fans and Germany is a great host country",
          "Women being able to attend is pretty neat.",
          "Well you can quibble about what has the higher standard of football, but I always like setting the teams from other continents. I don't have enough time to follow them so it's nice when they show up.\n\nIn terms of excitement they're pretty similar.",
          "The World cup matches were much more exciting so far. So as a spectator from the couch 2022 wins vs 2024. If you're a fan that bought tickets to the game then 2022 probably is much less fun",
          "World Cup was full of exciting games. The final was probably the most exciting game I’ve watched in a while. The Euros have had some extremely boring games. England, France, and Portugal have basically put me to sleep every time I watched them. That never happened during the World Cup.",
          "Euros for me too, the fans have been amazing (apart from a few issues), happiness all around the place, drinks, sun, way less strict rules to be followed. The whole vibe itself has been much better in my opinion!",
          "Euros times billion.\n\nI went with the tartan army and had one of the best experiences of my entire life... And I'm 38 lol.",
          "Honestly the group stage of the EC this years was better but the semifinals of WC in Qatar were better so far.",
          "Better matches Qatar. Better fan culture and overall mood Germany.",
          "I been to both wc2022 and euro2024. Overall Qatar was far far better. Better organised (fans going & leaving the stadiums), better transportation, entertainment before & after the matches, more variety of merchandising. Games were better too. \n\nMetro this way.",
          "Wolrd cup 2022 and its not even close the entertainment from the games was far higher.",
          "Qatar was a 100x times better, literally no exciting games this euros except for Turkey",
          "Tournament as a whole including the atmosphere etc then the euros by far\n\nBut quality and enjoyment of the matches then the world cup was much better",
          "The vibes are probably better in Germany but I have to say the World Cup games were more entertaining ",
          "The vibes. I’m not there physically but I can feel the energy from fans around. \n\nSummer time tournament is 100% better too",
          "Although the 2022 World Cup created unforgettable moments but Euro 2024 is better in terms of fans and atmosphere. (Yeah, I know some fans are toxic, but I'm talking about those other than them.)",
          "Euro. Reason: We made it past the group stages...",
          "Germany may have not won the cup, but they have definitely won best host for the euro cups",
          "Football wise maybe Qatar, but the better tournament Germany",
          "football wise Qatar was better. everything besides the football, Germany is better",
          "World Cup by far. However, instead of focusing on shortcomings I do my best to enjoy both to the fullest.",
          "Are people really saying this Euros is better than the previous World Cup, which is arguably one of the best in decades…what am I reading",
          "Much better games in Qatar.",
          "Literally the best competition since 2014 overall",
          "Ur telling me an amazing final, arg vs netherlands, a beautiful bycicle kick, japan and moroccos masterclass,  isnt enough to prove you jow shit the euros is?",
          "Quality of football was higher in Qatar and that's the only important thing for me.",
          "Weather was better in Qatar",
          "Qatar. One of the best World Cups IMO and the greatest final in my lifetime. \n\nNot sure why you're comparing a Euro to a World Cup, other than to fish for certain comments regarding Qatar.",
          "Qatar was comfortably better \n\nIt was so easy to get it around the place and the games were so well organised. No fan issues\n\nAtmospheres were brilliant too",
          "Qatar World Cup was the best World Cup ever, whether you guys like it or not, if anything it shows how double-standard the west is !!",
          "Qatar world cup was way more exciting. Euros have been drab - so many 0-0. Only team worth watching has been Spain.",
          "The game quality was far superior in Qatar the Organization and structure also. Germany had ofc the better Atmosphere and Fan Support",
          "I enjoyed watching the games more in Qatar (on TV obviously), the standard has been poor so far this euros.\n\nPolitically, it’s been much better in Germany. Too many human rights issues associated with the Qatar event.",
          "In terms of football it is much the same. Argentina v France final was great and seeing Messi win the World Cup will be a moment in football history. \n\nIn terms of host nation, a lot of people were against Qatar on both footballing and political reasons.",
          "respectfully f. wc 2k22 qatar, no soul. germany and most european countries are perfect choice of venues and accessability for fans",
          "I enjoyed both Qatar and Germany",
          "Germany > Qatar but at the same time, the World Cup was more exciting to watch",
          "The Euros are always better just cause there’s a lot of deadwood teams in the World Cup who qualify because of their location not on skill.\n\nThe worse European teams at the Euros usually have players you recognise or more familiarity.\n\nWhen it gets to the later stages and it’s the good African teams as South Americans teams against the top European teams it gets more interesting.\n\nAlso generally the Euros are held in closer and better places which allows more fans to attend and build the atmosphere",
          "Loved so far the vibe of the Euro, a wonderfull fest around the sport",
          "Afcon was way better",
          "also independent on countries: (alltough quite rainy) summer >>>>december\n\njust more fun going out to the town in a tshirt enjoy some beers than in cold winter",
          "Yeah let's be clear the matches were much better in 22, this has been a very underwhelming euros in that sense. But I don't care, overall is still far far better in Germany.",
          "Neither does the ivory coast which gave us a great Afcon",
          "But let's be clear, the matches were definitely more entertaining in Qatar.\n\n\nAlso, for me, having a wc begin just after my birthday and run up to just before Xmas was awesome. My gf had to put up with all the Xmas decorations being wc themed. Our Christmas tree had all the competing teams flags on it. I had a great time.",
          "The fake fans was basically the local workers when teams arrived\n\nFan support was fantastic when the actual tournament began.",
          "Yeah, it's always sunny in the desert - perfect footy weather.",
          "In terms of football the Qatar world cup was much better. There were so many close and exciting games. Honestly the best international Football tournament I've seen (watched since 2006).  \n\nIn terms of fans and overall vibe then this Euro wins by a mile. In Qatar there were only a couple countries with good fans (Argentina, Saudi Arabia and Morocco come to mind) while in Germany there were so many and the vibes were amazing.",
          "Makes it a little more enjoyable bro I’m not gonna lie",
          "Call me biased but I find the more important competition with the greatest final ever a bit better than watching Germany lose at home. Also congrats on being virtuous and better than everyone, still watched it though didn’t you?",
          "Yeah, they are truly coming around.",
          "Germany very fair and democratic for using Qatari Sponsors and Chinese sponsors. Also very democratic for helpikg to palestine",
          "Well nothing is perfect, I loved the tournament so far.",
          "Congrats, but irrelevant.",
          "Qatar doesn’t have slaves. And hardly anyone died. That’s what conditions are like in every developing country in the world - actually probably better than most",
          "Euro 2024 as a tournament vibe overall has been the best since euro 96.\n\nSo ignore the cretins claiming the soulless Qatar tournament was better because the games were good. \n\nThere was ZERO vibe at Qatar. \n\nThere has been peak drama in the games at this tournament, some of the knockout games have been boring but a lot of the group games were awesome.\n\nGermany as a whole have put on an absolutely incredible tournament, amazing vibes, hardly any trouble at all.\n\nAbsolutely wonderful.",
          "Exactly\n\nIt was phenomenal. People said they never felt so safe. As long as you behave, it's literally one of the safest places in the world",
          "Best tournament ever for me was the Brazil World Cup except the semi final and final.",
          "Honestly, it feels good getting along. There is always national embarrassment when it happens. Whenever I’ve been at the football I always try to be extra nice to break the stigma 😭",
          "More entertaining more upsets more goals better matches overall",
          "Great for the Brits, they get to enjoy their classic summer even abroad",
          "Also our fans have actually been, dare I say, good? The Cologne(?) police even praised them!",
          "I mean, it was nice for all the fans in the middle east to be able to go watch some high quality football. As an armchair tournament watcher, I had a great time watching a festive world cup at home. Quality of the football was consistently high across every game. \n\nI get that isn't the way most fans like to watch football, and that things being raucous is part of the fun for most, but I'm more interested in how some dudes move the ball around a pitch. Qatar wc was great for that.",
          "Just a bit of banter ☺️\n\nWas hoping you'd have made it out of group but was always gonna a tough one.",
          "I’m so glad for this thread making it clear that it was always about xenophobia. Educate yourself.",
          "I know  lol\n\nJust doing it to see what he says\n\nIt was the safest it has ever been at a major tournament in qatar",
          "Got you! I had a hard time enjoying the matches but I agree they were more exciting",
          "Good on you! I’ve met a couple of really nice British fans like you before… they had funny accents, were talking a lot about “freedom” and had beautiful skirts on!",
          "Frankfurt here. English fans were just fun, without the bad bits. Great guests in our city all around.",
          "Because of the honking or the whistles in the stadium? Or anything you have to add? Might be biased but surely as a neutral, the matches from Turkiye were one of the most fun to watch no?",
          "You can understand from my other reply that it is no bad feelings. I love Germany. Almost more than Turkey even though I only lived here for such a short time as a student lol. Also what would I be butthurt about exactly?",
          "You do what you want.\n\nMy country invented football a long time ago. (Yes scotland alongside England)\n\nCrowds used to be up to 100,000 plus. This is the way football has always been watched, with a great vibrant atmosphere. \n\nThat's the heritage of the game. \n\nIf you don't respect heritage that's your issue.",
          "Yep, no problem, it was sore but funny.",
          "I can agree with that",
          "Atmposphere on africa is great only in north african countries when there is two north african clubs playing eacother or in these countries derbies (these matches do compete atmosphere wise) but at the NT level there is no comparison in atmosphere.",
          "As is known by everyone, everywhere. \n\nAll I am trying to point out is that the quality of football was excellent. Highest I've seen at an international tournament, likely because it was mid season.",
          "You'll be able to have a good laugh at England in a few hours.",
          "Have a nice weekend 👍",
          "The Euros should be expanded to 32 teams In my opinion, the current Euros format is fine yet somewhat flawed through the fact that some big teams miss out, while the group stage lacks danger (e.g. 2/3 of teams make it through to the Last 16). This can be fixed by expanding the competition to 32 teams, which is beneficial for a number of reasons:\n\n1)More teams means more excitement. More teams/games at the Euros would make the tournament very exciting, particularly if teams that have never qualified before get in. Additionally, it’s worth pointing out that the standard of football in Europe is incredible. Wales, for instance, reached the 2016 semis but won’t be at this Euros, so expanding the competition won’t devalue the final product.\n\n2)It won’t make things any worse. 24 to 32 won’t really change the format too much, as instead of it being 6 groups of 4 followed by the Last 16, it will now be 8 groups of 4 followed by the Last 16, which brings me on to my 3rd and final point…\n\n3)The group stages will be way more exciting. There is little jeopardy currently as so many of the 3rd place teams go through, but having 32->16 would mean only the top 2 go through, making things much more exciting in the groups, whilst still allowing the knockouts to function as they currently do.\n\nOverall, the Euros was great when it was 16 teams, but if you’re expanding the competition to 24, you might as well expand it a bit further and make it 32, for the reasons I’ve listed (as well as given that with FIFA increasing the World Cup teams it makes sense to increase the Euro teams). I think 32 teams will become a reality, maybe at Euro 2032. What are your thoughts?",
          "32 teams works better as a tournament, number splits nicely into the knockouts.  I agree that 24 just doesn't work, the 'best 3rd place' thing does, as you say, remove any jeopardy. It means there are no more 'group of death' as all the big teams can still go through. For example, at euro 2020 France, Germany and Portugal were all in the same group and all went through.\n\n\nProblem with 32 teams is that there are 55 uefa members.....so over half the teams would be qualifying for the euros. It would make qualification quite easy and feel pointless for stronger nations, and would mean there are a lot of weaker teams in the tournament.\n\n\nImo 16 is perfect. Gave us a really high quality tournament.",
          "24 is better than 32",
          "Just to throw this in the discussion: everyone saying that having 32 teams would reduce the level of quality, yes of course, but that's a given for whenever you increase the number. And if you look at the expanded 2026 World Cup with 48 teams, the average ELO rating across the hypothetical best selection would be almost exactly equal to the average rating of the best 32 Euro teams. \n\nSo, a 32-team Euro competition would pretty much marry the 48-team World Cup in terms of group-stage quality. And it'd be more *inclusive*, which I think is a good thing, I'd love to see more countries get a chance to get a piece of the action. The World Cup cuts out most Euro nations, so this would give more of a balance to that. Think about it this way: The Copa America is *completely* inclusive to the organising body, CONMEBOL. \n\n32 UEFA teams out of 55 feels right, because that way *most* nations are there.",
          "As you said, for me 16 teams was the perfect format.\n\nAs downsizing the euros it's not possible as UEFA members won't allow it....I think the best solution to get rid of the best third teams nonsense is to increase it to 32 teams.\n\nAnd instead of having long qualifications....I would do the nations league every year and use it as a qualification system for the Euros. It's what they use right now in women's Euros and it works pretty well.",
          "Why? It’s perfect the way it is. Gives every team a chance to qualify. Even if you lose first to games 1-0, if you get a big result the 3ed game you will most likely qualify.",
          "The Women’s Euros effectively has this at the moment and it seems to be working well",
          "This is the best fix. I was begging for the coming World Cup to do the same with 48 teams, but alas...",
          "yes this is best",
          "Hope u ok",
          "My dog is Polish so I hope so",
          "Poland is not bad but in a tough group. I m still considering a polish defender. U are welcome to join my mini league: hEjR4L",
          "I think Netherlands will finish 3rd too but imo Austria has bigger chances of taking the 2nd place",
          "Am Polish 🇵🇱, can confirm 👌",
          "idk, the women there are beautiful",
          "Football is the greatest sport in the world.",
          "The atmosphere looks fantastic for watching the match. The energy and excitement of the fans 🔥.\nI also want to watch, can you guide how to book tickets.",
          "Never be ashamed to be Polish. Your women are absolutely superb 👌🏽💯",
          "Oh 😂well then in that case well done!",
          "Well this has to be one of the weirdest and funniest interactions I’ve seen on reddit",
          "Even if he has 5 kids with his missus and becomes the most valuable player on the planet?"
         ],
         "yaxis": "y"
        }
       ],
       "layout": {
        "legend": {
         "title": {
          "text": "Sentiment"
         },
         "tracegroupgap": 0
        },
        "template": {
         "data": {
          "bar": [
           {
            "error_x": {
             "color": "#2a3f5f"
            },
            "error_y": {
             "color": "#2a3f5f"
            },
            "marker": {
             "line": {
              "color": "#E5ECF6",
              "width": 0.5
             },
             "pattern": {
              "fillmode": "overlay",
              "size": 10,
              "solidity": 0.2
             }
            },
            "type": "bar"
           }
          ],
          "barpolar": [
           {
            "marker": {
             "line": {
              "color": "#E5ECF6",
              "width": 0.5
             },
             "pattern": {
              "fillmode": "overlay",
              "size": 10,
              "solidity": 0.2
             }
            },
            "type": "barpolar"
           }
          ],
          "carpet": [
           {
            "aaxis": {
             "endlinecolor": "#2a3f5f",
             "gridcolor": "white",
             "linecolor": "white",
             "minorgridcolor": "white",
             "startlinecolor": "#2a3f5f"
            },
            "baxis": {
             "endlinecolor": "#2a3f5f",
             "gridcolor": "white",
             "linecolor": "white",
             "minorgridcolor": "white",
             "startlinecolor": "#2a3f5f"
            },
            "type": "carpet"
           }
          ],
          "choropleth": [
           {
            "colorbar": {
             "outlinewidth": 0,
             "ticks": ""
            },
            "type": "choropleth"
           }
          ],
          "contour": [
           {
            "colorbar": {
             "outlinewidth": 0,
             "ticks": ""
            },
            "colorscale": [
             [
              0,
              "#0d0887"
             ],
             [
              0.1111111111111111,
              "#46039f"
             ],
             [
              0.2222222222222222,
              "#7201a8"
             ],
             [
              0.3333333333333333,
              "#9c179e"
             ],
             [
              0.4444444444444444,
              "#bd3786"
             ],
             [
              0.5555555555555556,
              "#d8576b"
             ],
             [
              0.6666666666666666,
              "#ed7953"
             ],
             [
              0.7777777777777778,
              "#fb9f3a"
             ],
             [
              0.8888888888888888,
              "#fdca26"
             ],
             [
              1,
              "#f0f921"
             ]
            ],
            "type": "contour"
           }
          ],
          "contourcarpet": [
           {
            "colorbar": {
             "outlinewidth": 0,
             "ticks": ""
            },
            "type": "contourcarpet"
           }
          ],
          "heatmap": [
           {
            "colorbar": {
             "outlinewidth": 0,
             "ticks": ""
            },
            "colorscale": [
             [
              0,
              "#0d0887"
             ],
             [
              0.1111111111111111,
              "#46039f"
             ],
             [
              0.2222222222222222,
              "#7201a8"
             ],
             [
              0.3333333333333333,
              "#9c179e"
             ],
             [
              0.4444444444444444,
              "#bd3786"
             ],
             [
              0.5555555555555556,
              "#d8576b"
             ],
             [
              0.6666666666666666,
              "#ed7953"
             ],
             [
              0.7777777777777778,
              "#fb9f3a"
             ],
             [
              0.8888888888888888,
              "#fdca26"
             ],
             [
              1,
              "#f0f921"
             ]
            ],
            "type": "heatmap"
           }
          ],
          "heatmapgl": [
           {
            "colorbar": {
             "outlinewidth": 0,
             "ticks": ""
            },
            "colorscale": [
             [
              0,
              "#0d0887"
             ],
             [
              0.1111111111111111,
              "#46039f"
             ],
             [
              0.2222222222222222,
              "#7201a8"
             ],
             [
              0.3333333333333333,
              "#9c179e"
             ],
             [
              0.4444444444444444,
              "#bd3786"
             ],
             [
              0.5555555555555556,
              "#d8576b"
             ],
             [
              0.6666666666666666,
              "#ed7953"
             ],
             [
              0.7777777777777778,
              "#fb9f3a"
             ],
             [
              0.8888888888888888,
              "#fdca26"
             ],
             [
              1,
              "#f0f921"
             ]
            ],
            "type": "heatmapgl"
           }
          ],
          "histogram": [
           {
            "marker": {
             "pattern": {
              "fillmode": "overlay",
              "size": 10,
              "solidity": 0.2
             }
            },
            "type": "histogram"
           }
          ],
          "histogram2d": [
           {
            "colorbar": {
             "outlinewidth": 0,
             "ticks": ""
            },
            "colorscale": [
             [
              0,
              "#0d0887"
             ],
             [
              0.1111111111111111,
              "#46039f"
             ],
             [
              0.2222222222222222,
              "#7201a8"
             ],
             [
              0.3333333333333333,
              "#9c179e"
             ],
             [
              0.4444444444444444,
              "#bd3786"
             ],
             [
              0.5555555555555556,
              "#d8576b"
             ],
             [
              0.6666666666666666,
              "#ed7953"
             ],
             [
              0.7777777777777778,
              "#fb9f3a"
             ],
             [
              0.8888888888888888,
              "#fdca26"
             ],
             [
              1,
              "#f0f921"
             ]
            ],
            "type": "histogram2d"
           }
          ],
          "histogram2dcontour": [
           {
            "colorbar": {
             "outlinewidth": 0,
             "ticks": ""
            },
            "colorscale": [
             [
              0,
              "#0d0887"
             ],
             [
              0.1111111111111111,
              "#46039f"
             ],
             [
              0.2222222222222222,
              "#7201a8"
             ],
             [
              0.3333333333333333,
              "#9c179e"
             ],
             [
              0.4444444444444444,
              "#bd3786"
             ],
             [
              0.5555555555555556,
              "#d8576b"
             ],
             [
              0.6666666666666666,
              "#ed7953"
             ],
             [
              0.7777777777777778,
              "#fb9f3a"
             ],
             [
              0.8888888888888888,
              "#fdca26"
             ],
             [
              1,
              "#f0f921"
             ]
            ],
            "type": "histogram2dcontour"
           }
          ],
          "mesh3d": [
           {
            "colorbar": {
             "outlinewidth": 0,
             "ticks": ""
            },
            "type": "mesh3d"
           }
          ],
          "parcoords": [
           {
            "line": {
             "colorbar": {
              "outlinewidth": 0,
              "ticks": ""
             }
            },
            "type": "parcoords"
           }
          ],
          "pie": [
           {
            "automargin": true,
            "type": "pie"
           }
          ],
          "scatter": [
           {
            "fillpattern": {
             "fillmode": "overlay",
             "size": 10,
             "solidity": 0.2
            },
            "type": "scatter"
           }
          ],
          "scatter3d": [
           {
            "line": {
             "colorbar": {
              "outlinewidth": 0,
              "ticks": ""
             }
            },
            "marker": {
             "colorbar": {
              "outlinewidth": 0,
              "ticks": ""
             }
            },
            "type": "scatter3d"
           }
          ],
          "scattercarpet": [
           {
            "marker": {
             "colorbar": {
              "outlinewidth": 0,
              "ticks": ""
             }
            },
            "type": "scattercarpet"
           }
          ],
          "scattergeo": [
           {
            "marker": {
             "colorbar": {
              "outlinewidth": 0,
              "ticks": ""
             }
            },
            "type": "scattergeo"
           }
          ],
          "scattergl": [
           {
            "marker": {
             "colorbar": {
              "outlinewidth": 0,
              "ticks": ""
             }
            },
            "type": "scattergl"
           }
          ],
          "scattermapbox": [
           {
            "marker": {
             "colorbar": {
              "outlinewidth": 0,
              "ticks": ""
             }
            },
            "type": "scattermapbox"
           }
          ],
          "scatterpolar": [
           {
            "marker": {
             "colorbar": {
              "outlinewidth": 0,
              "ticks": ""
             }
            },
            "type": "scatterpolar"
           }
          ],
          "scatterpolargl": [
           {
            "marker": {
             "colorbar": {
              "outlinewidth": 0,
              "ticks": ""
             }
            },
            "type": "scatterpolargl"
           }
          ],
          "scatterternary": [
           {
            "marker": {
             "colorbar": {
              "outlinewidth": 0,
              "ticks": ""
             }
            },
            "type": "scatterternary"
           }
          ],
          "surface": [
           {
            "colorbar": {
             "outlinewidth": 0,
             "ticks": ""
            },
            "colorscale": [
             [
              0,
              "#0d0887"
             ],
             [
              0.1111111111111111,
              "#46039f"
             ],
             [
              0.2222222222222222,
              "#7201a8"
             ],
             [
              0.3333333333333333,
              "#9c179e"
             ],
             [
              0.4444444444444444,
              "#bd3786"
             ],
             [
              0.5555555555555556,
              "#d8576b"
             ],
             [
              0.6666666666666666,
              "#ed7953"
             ],
             [
              0.7777777777777778,
              "#fb9f3a"
             ],
             [
              0.8888888888888888,
              "#fdca26"
             ],
             [
              1,
              "#f0f921"
             ]
            ],
            "type": "surface"
           }
          ],
          "table": [
           {
            "cells": {
             "fill": {
              "color": "#EBF0F8"
             },
             "line": {
              "color": "white"
             }
            },
            "header": {
             "fill": {
              "color": "#C8D4E3"
             },
             "line": {
              "color": "white"
             }
            },
            "type": "table"
           }
          ]
         },
         "layout": {
          "annotationdefaults": {
           "arrowcolor": "#2a3f5f",
           "arrowhead": 0,
           "arrowwidth": 1
          },
          "autotypenumbers": "strict",
          "coloraxis": {
           "colorbar": {
            "outlinewidth": 0,
            "ticks": ""
           }
          },
          "colorscale": {
           "diverging": [
            [
             0,
             "#8e0152"
            ],
            [
             0.1,
             "#c51b7d"
            ],
            [
             0.2,
             "#de77ae"
            ],
            [
             0.3,
             "#f1b6da"
            ],
            [
             0.4,
             "#fde0ef"
            ],
            [
             0.5,
             "#f7f7f7"
            ],
            [
             0.6,
             "#e6f5d0"
            ],
            [
             0.7,
             "#b8e186"
            ],
            [
             0.8,
             "#7fbc41"
            ],
            [
             0.9,
             "#4d9221"
            ],
            [
             1,
             "#276419"
            ]
           ],
           "sequential": [
            [
             0,
             "#0d0887"
            ],
            [
             0.1111111111111111,
             "#46039f"
            ],
            [
             0.2222222222222222,
             "#7201a8"
            ],
            [
             0.3333333333333333,
             "#9c179e"
            ],
            [
             0.4444444444444444,
             "#bd3786"
            ],
            [
             0.5555555555555556,
             "#d8576b"
            ],
            [
             0.6666666666666666,
             "#ed7953"
            ],
            [
             0.7777777777777778,
             "#fb9f3a"
            ],
            [
             0.8888888888888888,
             "#fdca26"
            ],
            [
             1,
             "#f0f921"
            ]
           ],
           "sequentialminus": [
            [
             0,
             "#0d0887"
            ],
            [
             0.1111111111111111,
             "#46039f"
            ],
            [
             0.2222222222222222,
             "#7201a8"
            ],
            [
             0.3333333333333333,
             "#9c179e"
            ],
            [
             0.4444444444444444,
             "#bd3786"
            ],
            [
             0.5555555555555556,
             "#d8576b"
            ],
            [
             0.6666666666666666,
             "#ed7953"
            ],
            [
             0.7777777777777778,
             "#fb9f3a"
            ],
            [
             0.8888888888888888,
             "#fdca26"
            ],
            [
             1,
             "#f0f921"
            ]
           ]
          },
          "colorway": [
           "#636efa",
           "#EF553B",
           "#00cc96",
           "#ab63fa",
           "#FFA15A",
           "#19d3f3",
           "#FF6692",
           "#B6E880",
           "#FF97FF",
           "#FECB52"
          ],
          "font": {
           "color": "#2a3f5f"
          },
          "geo": {
           "bgcolor": "white",
           "lakecolor": "white",
           "landcolor": "#E5ECF6",
           "showlakes": true,
           "showland": true,
           "subunitcolor": "white"
          },
          "hoverlabel": {
           "align": "left"
          },
          "hovermode": "closest",
          "mapbox": {
           "style": "light"
          },
          "paper_bgcolor": "white",
          "plot_bgcolor": "#E5ECF6",
          "polar": {
           "angularaxis": {
            "gridcolor": "white",
            "linecolor": "white",
            "ticks": ""
           },
           "bgcolor": "#E5ECF6",
           "radialaxis": {
            "gridcolor": "white",
            "linecolor": "white",
            "ticks": ""
           }
          },
          "scene": {
           "xaxis": {
            "backgroundcolor": "#E5ECF6",
            "gridcolor": "white",
            "gridwidth": 2,
            "linecolor": "white",
            "showbackground": true,
            "ticks": "",
            "zerolinecolor": "white"
           },
           "yaxis": {
            "backgroundcolor": "#E5ECF6",
            "gridcolor": "white",
            "gridwidth": 2,
            "linecolor": "white",
            "showbackground": true,
            "ticks": "",
            "zerolinecolor": "white"
           },
           "zaxis": {
            "backgroundcolor": "#E5ECF6",
            "gridcolor": "white",
            "gridwidth": 2,
            "linecolor": "white",
            "showbackground": true,
            "ticks": "",
            "zerolinecolor": "white"
           }
          },
          "shapedefaults": {
           "line": {
            "color": "#2a3f5f"
           }
          },
          "ternary": {
           "aaxis": {
            "gridcolor": "white",
            "linecolor": "white",
            "ticks": ""
           },
           "baxis": {
            "gridcolor": "white",
            "linecolor": "white",
            "ticks": ""
           },
           "bgcolor": "#E5ECF6",
           "caxis": {
            "gridcolor": "white",
            "linecolor": "white",
            "ticks": ""
           }
          },
          "title": {
           "x": 0.05
          },
          "xaxis": {
           "automargin": true,
           "gridcolor": "white",
           "linecolor": "white",
           "ticks": "",
           "title": {
            "standoff": 15
           },
           "zerolinecolor": "white",
           "zerolinewidth": 2
          },
          "yaxis": {
           "automargin": true,
           "gridcolor": "white",
           "linecolor": "white",
           "ticks": "",
           "title": {
            "standoff": 15
           },
           "zerolinecolor": "white",
           "zerolinewidth": 2
          }
         }
        },
        "title": {
         "text": "Sentiment Scores by Text"
        },
        "xaxis": {
         "anchor": "y",
         "domain": [
          0,
          1
         ],
         "title": {
          "text": "Score"
         }
        },
        "yaxis": {
         "anchor": "x",
         "domain": [
          0,
          1
         ],
         "title": {
          "text": "text"
         }
        }
       }
      }
     },
     "metadata": {},
     "output_type": "display_data"
    },
    {
     "data": {
      "application/vnd.plotly.v1+json": {
       "config": {
        "plotlyServerURL": "https://plot.ly"
       },
       "data": [
        {
         "customdata": [
          [
           "Women commentary Why can’t we have men commenting on men’s football? No disrespect but ffs it’s every match "
          ],
          [
           "Who’s the woman doing tsn in game commentary? I’m literally watching the games on mute, she’s absolutely terrible"
          ],
          [
           "There is no need whatsoever to interfere with the traditions of men's football. Women's commentary is brrrrrutal and it doesn't belong in MEN'S football. It exists at the pleasure of weak men and to complement the DEI mind virus. Men's football is being ruined by pink boots, political virtue signalling, hairspray, feminine beta men and chip on the shoulder feminists. It reminds me of an under the thumb dude bringing his missus to a lads' night out. "
          ],
          [
           "Agreed, stick to ladies games please. I have no problem with woman being pundits or doing interviews at halftime or from the sidelines but during actual coverage of the game whilst in play??! The american woman commenting during Switzerland v Germany is a disgrace her choice of words and her accent makes me cringe, no more please. Mute; I watched the game in silence from 20 minutes onwards she was that bad."
          ],
          [
           "In theory, I have no problem with women commentators. But the current ones are pretty bad, unfortunately. They need to select better candidates"
          ],
          [
           "Im not particularly fond of their commentary style, but for me, it's the tone. \n\nMale voices can be heard easily over the crowd noise, but most female voices seem to be lost in it. If they want to be heard then they end up sounding shrill and irritating, detracting from the game."
          ],
          [
           "Kindly stfu"
          ],
          [
           "Actually what counts is whether they are great at commentary, and that goes beyond knowing the sport. its about having the right voice, cadence, knowing how to add excitement, emotion,  and color to the game. The women don't have that they are damn awful. Its happening in all sports and its just terrible."
          ],
          [
           "No to me the female voice is way too shrill and harsh on the ears. Also, its a men's sport not a female sport. They should commentate female games."
          ],
          [
           "Because the commentary from the women isn’t as good. Simple as that, maybe people don’t want to say it. Everyone who I know thinks the same.\nWhat about men commentators with women’s sports .. that’s very different"
          ],
          [
           "The British one that sounds like a teenage boy undergoing puberty? Agreed.\nI can't take her seriously"
          ],
          [
           "Exactly. Can't seem to agree with her on most things she says during the game and it gets really annoying to watch"
          ],
          [
           "Karen Cairney I think, zero ball knowledge"
          ],
          [
           "There’s an American women doing the Portugal vs Slovenia game now and I also want to mute it 😂 Anyone know her name ??"
          ],
          [
           "2nd this.. I got nothing against women commentators (some are quite good even) but this Karen Carney lady who is covering the Euros on TSN is awful to listen to.. She never has a positive thing to say.. Every set piece is poor from her. Every shot that comes off someones foot is poor.. She provides nothing but a viewer mute button experience to the broadcasts."
          ],
          [
           "Says the guy completely generalising all male commentators lol. I'd rather listen to people who care for the game than some a bot who gets paid to read off a script."
          ],
          [
           "Women commentators ruin commentary for all male sports. Period. "
          ],
          [
           "I love how your OP says “no disrespect” but now you say “commentary with women isn’t as good.”"
          ],
          [
           "Men speak over women’s sport. Turn on the tennis right now on the BBC and you can listen to a woman. Have you not heard Jenas talk over a game. I can’t stand Gary Neville either and would take any woman over them. Also don’t stop it at commentary I want Rio off analysis."
          ],
          [
           "If a man was saying the exact same thing I doubt you'd be complaining, we hear much worse"
          ],
          [
           "The one in Portugal vs Turkey was terrible as well can't find her name anywhere"
          ],
          [
           "deadass same, been trying to find her name everywhere, its really bad"
          ],
          [
           "Don't know her name but she's awful . I find most of the men annoying but I've had to mute the females"
          ],
          [
           "There is a British (?) lady commenting Romania vs. Netherlands for the American TV right now. Not a fan, to put it mildly."
          ],
          [
           "That’s a fair comment, I’d throw linekker into that pool of cess"
          ],
          [
           "Quick Google search could have prevented this braindead post"
          ],
          [
           "What??? Next you will say they should have the right to vote or to work. ridiculous /s"
          ],
          [
           "I think it's a way to get attention and look at her profile.\n\nUser name doesn't check out... not everything is petite"
          ],
          [
           "Sad stories from the fan zone in Berlin "
          ],
          [
           "I really have a hard time imagining anyone getting away with that.\n\nIf its really true, and he did it to quite a few women, im pretty sure he got reported and fired + sued already."
          ],
          [
           "Could Well be Russian disinfo/ minor Psyop.. trying to sow doubt and undermine trust everywhere.. just my 2 cents"
          ],
          [
           "Why do they have males searching females in the first place? They couldn't hire female security?"
          ],
          [
           "Don't know why people have to malign every tournament. They came up with stories like this every day in Qatar and turned out they were all false and it was a highly well organized successful tournament."
          ],
          [
           "Report it to police"
          ],
          [
           "Yeah, that really doesn't sound true at all. First of all, I'm sure they can hire women security for that. If it's a man, he would usually only look in the purse/bags and never touch the women. \n\nIf a man actually did that, there would already bit a shitstorm on social medias and in the news. With hundreds if not thousands of people around, you're going to tell me no one saw it? No one intervened? \n\nNah. Rage bait."
          ],
          [
           "Im lost on the optics of this. If the person writing this said this, one report, fuck even call the police and its stopped immediately. Even if it is real how did this guy feasibly see an angle where he doesnt become a sex offender registree."
          ],
          [
           "obv fake story, with thousands of women entering this would be filmed and complained about by many."
          ],
          [
           "In Germany they would never do that. It is always men searching men and women searching women."
          ],
          [
           "It's obviously fake my man..."
          ],
          [
           "“I did not do it” <- Proof 😮. Maybe actually say where you saw the email/who sent it instead of just showing a bit of text on a white background and saying it’s something"
          ],
          [
           "Qatar tried so hard to be a host and Germany didnt need to. \n\nIn germany We are discussing things like alcohol prices, fans making noise and political signs. \n\nNot like in Qatar where topic was on human rights, slave workers, womens rights, being able to drink, gay rights etc. \n\nSo yeah cant even compare Germany to Qatar. Germany is just ready anytime for an organization like this. Except the climate lol"
          ],
          [
           "Morally, ethically, cultural, environmentally it's easy Germany.\n\nBut just on the football? Definitely Qatar - World Cups bring that variety in styles and statures which Euros just can't replicate, and the three from most groups qualification structure makes the group games (outside of round 1) boring."
          ],
          [
           "Qatar is a slave dictator country. Don’t even compare to Germany"
          ],
          [
           "This has been one of the most boring football tournaments on the pitch (off it it’s been great)\n\nWorld Cup being in winter meant the players were fresher and the football was better. It was a better tournament all round"
          ],
          [
           "I don’t think this is a fair comparison. Qatar was awarded through bribery and nepotism, killed >10,000 slave workers, has an abysmal climate impact, the host country murders homosexuals or imprisons them, women have no equal rights, no football tradition or whatsoever exists. Honestly, ever European country would win this comparison against Qatar."
          ],
          [
           "Everyone seems to be looking at it from a fans and organisational standpoint, but, watching from home, the matches this year have been utterly lacking in quality (bar a few). 2022 was much better from a footballing standpoint, it’s just a shame it was played in an unethical, non-footballing nation."
          ],
          [
           "The games at the wc were just better. At this euros i only watched 2 good games in the whole ko stage. Actually the quality is dog shit since the last round in group stage"
          ],
          [
           "Can’t compare. The Euro is only for Europeans and Turks but the World Cup is for the whole world. \nSo far the Euros have been lacking special moments. Let’s see what the last few games have in store."
          ],
          [
           "Qatar by a country mile. EURO 2024 has legitimately been the worst major tournament (World Cup or EURO) in living memory, since I started following football religiously starting from EURO 2004. Never have I been so mind-numbingly bored by so many matches as I have during EURO 2024. The only reason that I somewhat enjoy this is that I have had the month of July off as I am starting a new job in August, so I have been able to watch a decent amount of matches."
          ],
          [
           "Ofc WC. Matches in this cup was a disgrace, other than spain there is no team that actually tries to play football. France made it to semis without scoring once, not to mention Mr Southgate"
          ],
          [
           "Qatar by a country mile. But I was there and had first hand experience of the fan parks where there was plenty of alcohol and generally  the football was leagues ahead. I'm sure had I gone to Germany I would have enjoyed that too, but the football has been miserable."
          ],
          [
           "The Qatar. This tournament has been bloody boring."
          ],
          [
           "Ofc wc in qatar, please don’t compare what we saw in this euro with wc games, there is no comparison, the games in wc were better, the image quality, the organization… please don’t let your hate for other countries blinds you eyes."
          ],
          [
           "why are you comparing?"
          ],
          [
           "Been a great tournament overall, the only negative I have to point out was the state of the pitch in Frankfurt stadium, I think its embarrassing that you don’t plan to have a quality pitch, just one of basics for a football tournament. All matches in that stadium were miserable quality due to how crap the pitch was.\n\nWith Qatar WC, I was hoping we had nothing like that again, but we have another one in 10 years."
          ],
          [
           "This tournament is nothing but shitshow compared to world cup. Where are the exciting matches? Where are the dark horses? The French team reaches Semi's only 2 gol, england and Belgium is awfully bad. Romania eliminated against Netherlands. Except for Turkey and Georgia, this tournament isn't good besides the atmosphere."
          ],
          [
           "Sorry, but anyone saying Qatar is completely delusional and has fallen for their sports-washing. It's crazy to even ask this question and shows the state of football and sports-washing right now"
          ],
          [
           "bro, euro 2024 isn't even better than the last afcon 24 , comparing it to one of the best world cups in history shows how lack of football knowledge you have"
          ],
          [
           "I’m going with this Euro. Too many VAR penalties in the 2022 WC. Ruined the tournament for me."
          ],
          [
           "2022 will be forever known as the VAR cup. It was ridiculous."
          ],
          [
           "Euros in germany ist one of the best tournaments of the past decades. Worlds 22 was the worst. So that comparison ist incredible disbalanced."
          ],
          [
           "There’s some very selective activism going on in these debates, how come there was no where near as much pushback when Russia hosted the World Cup? US foreign policy has killed hundreds of thousands of people in the Middle East, yet no one cares that they’re hosting the next World Cup."
          ],
          [
           "I didnt watch Qatar and neither should you have"
          ],
          [
           "World Cup by far. You can’t compare the competitions, the WC is THE competition, the Euro is far less important. "
          ],
          [
           "This constant comparing. You want to watch football or compare the organizers? JFC"
          ],
          [
           "Euro 2024 is horrible, fights, chaos and racism, Germany should've learned from Qatar"
          ],
          [
           "Lol what? Should have seen them in their last match then.Brutes as always and that fecking old Toni the kraut is a good riddance to football! That's all they know, now a young 21 Ur old star might never get a chance again to play a final for his country. Reminds me of that nazi keeper Neuer's attack on the Argentine ...on the street it would be a year or two in jail for grievous bodily harm...no doubt his idol was that other criminal Schumann or Schumacher or whatever his name was. Hopefully won't see them much in championships!"
          ],
          [
           "lol, why did you post this? To use this as another opportunity to bash the Arabs of Qatar? Hasn't last 2 years of bashing Qatar been enough? Does football only belong to western Europeans?"
          ],
          [
           "Qatar. These euros have no soul"
          ],
          [
           "Football World Cup in winter was dog shit. Drinking mulled wine to your football machtes :(. There was no real excitement or atmosphere what makes international cups so appealing to me. Also the atmosphere in the stadiums, that was cringe to watch with strangly cheering paid fans, stadiums being half empty, nothing in the streets, for me it was lacking all over.\n\nNot even mentioning the bribing, human rights. I did not even watch half the matches, was just not up for it with that host in that time of the year.\n\nWtf, why did I get flagged as a dutch?\\^\\^"
          ],
          [
           "I haven't watched 2022. Can't support Catar as a host."
          ],
          [
           "The World Cup should never have been held in Qatar and it should never have been held in November/December."
          ],
          [
           "Both have been poor tournaments. International football is dieing in front of us..."
          ],
          [
           "I am german and I think Qatar was a disrespectful decision as they have nothing in common with football, though atleast the referee work seemed OK?"
          ],
          [
           "Fuck Qatar."
          ],
          [
           "The Qatar World Cup was a joke. Everything about it was terrible. From having to play in winter and air conditioning the streets, to the fact that hundreds of people died building the stadiums that didn’t exist prior to the tournament.\n\nIt was all about money. I know FIFA has been corrupt since the start but that World Cup was a bit too much on the nose."
          ],
          [
           "Night and day. Qatar was so forgettable."
          ],
          [
           "Lol observe the coping on this thread.\n\nThis tournament has been an absolute disaster. Like watching sunday league games."
          ],
          [
           "So much better having a country actually interested in football hosting. Qatar was a joke, FIFA corruption at its finest.  WC 2034 will be the same pile of garbage."
          ],
          [
           "Even the English fans were kind of behaved for their standards! This was thought to be impossible by modern science!"
          ],
          [
           "And its like ... Democratic... and Freedom of Speech and freedom of religions.. \n\nSounds terrible for Quataris :D"
          ],
          [
           "sure they don't, they just tries to take over the world and kill millions\n\nyou know, cause history is just 10 years old"
          ],
          [
           "The pitches have been pretty poor at the euros. Bit weird because they play a lot of games at these grounds. I think I read they were using pure grass instead of the typical hybrid surfaces"
          ],
          [
           "No chance Scotland would be able to keep a clean sheet even against a 5-a-side team."
          ],
          [
           "Thats only true if you visit the stadium. I can imagine Qatar being way more boring than Germany. They don't have a football culture like in Europe.\n\nFor most people who watch every game on TV, the games in Qatar were much more entertaining to watch. \n\nAlso, there's a significant number of Muslim football fans who prefer not to drink and smell alcohol everywhere. These people probably prefer tournaments like Qatar. \n\nThe semi-finals this year are just bad and not comparable to 2022. The group stage of 2024 was much better than 2022."
          ],
          [
           "This summer the weather in Germany is exceptionally bad 😅"
          ],
          [
           "Not actually true. Man you guys just go with a narrative and don't care about what shit you are saying at all. I hate having to defend Qatar in threads like this but when people say bullshit like 10k slave workers dead, which is just straight up false, I can't help but jump into defending them. The only thousands of slave deaths reports were based on the information of every migrant death in Qatar in the last 10 years. Just death, not even work related ones. Which tells you absolutely nothing and is embarrassing, and honestly xenophobic at this point, how people just keep repeating it."
          ],
          [
           "Did you enjoy all the worker Slaves dying so much?"
          ],
          [
           "Yeah agree with you. But for me it's mostly because wc are faaar more entertaining than euros, simply because there are other continents involved. South americans just bring a lot more passion and heat. This year it's only turkey so far. And maybe germany against spain. But all in all the playstyle is just too robotic and calculated. \n\nThe opening song has been shit since 2014 both for wc and euros though."
          ],
          [
           "We dont hate other countries. We hate slaves dying for building a plastic World Cup."
          ],
          [
           "I know who it doesn't belong to: an autocratic regime built upon slavery and the lack of human rights."
          ],
          [
           "Instead of water, workers fell from the sky in Qatar."
          ],
          [
           "Wait to get called a bot and told what the atmosphere was like by someone who’s never even stepped into the Middle East."
          ],
          [
           "Better in what sense? Putting 10 guys behind the ball and watching the opponent pass sideways? I love the euros but watching every team play the same way is getting annoying. WC you see teams actually go for it  "
          ],
          [
           "Kind of.\n\nYesterday ridiculing Germans for their loss and provoking leading to a fight.\n\nReally hope everything goes as expected and they get knocked out, which is way over due."
          ],
          [
           "To be fair this summer in Germany it’s a little bit weird, it’s unusually cold and this wet this summer"
          ],
          [
           "no drunk brits is a downside"
          ],
          [
           "Im not sure the brits as a whole have been that bad"
          ],
          [
           "Instead there was a backwards, nearly militant police presence.  I'd rather drunk Brits in my goddamn living room."
          ],
          [
           "Well not so much freedom if someone talks about Palestine but anyway."
          ],
          [
           "Qatar sucks, but, lets not pretend Germany is a bastion of free speech.\n\nA player has been banned for making a hand gesture in support of his political party (from another country) and people are being criminally charged with the crime of criticising isreal."
          ],
          [
           "Downvotes are a sign of truth lmfao anyone who says the truth gets downvoted here"
          ],
          [
           "If Germans want to stop it they are called moral police etc. and if they don't they are fine with slave labor?"
          ],
          [
           "How stupid are you, chocolate isn't harvested?😂😂😂\n\nCocoa beans are main ingredient for production of chocolate. The chocolate production process consists of fermentation, drying, roasting, grinding of cocoa beans, mixing of all ingredients (cocoa mass, sugar, cocoa butter, emulsifiers, aroma, and milk components if needed), conching, and tempering"
          ],
          [
           "This is weird to us Germans aswell, these are not the normal conditions of the pitch while Bundesliga is active"
          ],
          [
           "Qatar was a sh**show.\n\nHope it's never repeated.\n\nSoulless corporate dump of a tournament,zero atmosphere."
          ],
          [
           "The worst thing that they did is take bribes and bribe others, they don't kill people or build stadiums with slaves."
          ],
          [
           "They were lol, dunno why people are making stuff up when there’s so much to actually criticise Qatar for"
          ],
          [
           "How would they? They're not allowed to drive, and when the husband comes home dinner neads to be ready."
          ],
          [
           "People just make random shit up about Qatar and cause islamophobia is not looked down upon here they just get upvoted."
          ],
          [
           "For some nations maybe definitely not for England though or alot of countries in Europe most brought very low numbers"
          ],
          [
           "Man I don't like Qatar as a political system but people just need to stop spreading misinformation regarding people dying to host the world cup. It's just not true and I hate how people can just say any bullshit. That Guardian article was embarrassing journalism and yet people still keep parroting this."
          ],
          [
           "I think we talk here about football, other things we don’t know what actually happened, just media trying to spread hate, we all know every country has its dark side."
          ],
          [
           "WC is even worse for teams sitting back. Just the gulf in quality is bigger. Agree it’s not entertaining when that happens but definitely don’t think in the WC teams go for it more."
          ],
          [
           "I couldn’t care less. "
          ],
          [
           "The World Cup? No, I didn't. BECAUSE I didn't stand behind it, morally. Just like plenty of others. We *didn't* watch it. So many boycotted it. - But I'm sure you really thought you did something there. 🤡\n\n> Greatest final ever\n\nYeah, because who cares about all the dead people, corruption, blatant disrespect of women's or queer people's rights and lack of general human decency, right? Imagine being the type of person who proudly says he doesn't give a shit about any of that.\n\nAlso Germany lost the group phase in Qatar lol, so what are you even on about."
          ],
          [
           "This is an English-speaking sub. There's also no reason to attack me like that. I'm very much against the sponsorships by Visit Qatar, I'm not the one who picked them."
          ],
          [
           "It’s not really cold personally, but really rainy. I think that makes it bearable, it’s way worse when it rains and the temperature is below 10°"
          ],
          [
           "Also Turkey participating is a downside, but after tonight they will be out."
          ],
          [
           "You haven’t been, don’t listen to him"
          ],
          [
           "Yeah you talk at backwards qatar. Did you seee what almost happened 2021 in front of wembley,one of maybe the biggest football disasters that could have happened...drunk and agressive mobs of english fans...and then you come with this entitlement \"backwards qatar\" middle east whatever..."
          ],
          [
           "How are Germany helping Palestine? The German government clearly supports Israel"
          ],
          [
           "and here it is again. \n\nGermany did not suspend him. Germany Said \"we dont want this here\" and UEFA suspended him.  IF UEFA would have said \"fuyk you germany\" than nothing would have happened."
          ],
          [
           "You are telling bullshit."
          ],
          [
           "Still butthurt"
          ],
          [
           "You didn't get downvoted, seems you don't speak the truth?"
          ],
          [
           "I would rather be moral police and have consistent values than point with fingers at others while benefiting from the same thing. Qatar‘s working conditions are horrid, but Western people always fail to consider that horrid working conditions and cheap labor in developing countries are the reason why WE can live in a world of overconsumption and luxury. You can’t throw with stones while living in a glass house."
          ],
          [
           "Omfg. you know exactly what I meant and you are choosing to focus on one language error i made while typing out a comment instead of the point i am trying to make, which proves how stupid YOU are. Cocoa beans, coffee beans, doesn’t fucking matter, as long as you’re not actively checking the sources of the things you consume you’re a hypocrite."
          ],
          [
           "Only with Eyepatch Arrr... Ah shit this was Olaf Scholz."
          ],
          [
           "That's just not true at all though. The narratives are getting ridiculous."
          ],
          [
           "I mean if people like it than yeah, they can do whatever they want. \n\nBut seeing drinking culture as a worldwide culture that belongs to football is just arrogant and ignorant. \n\nEurope is just a small part of the world."
          ],
          [
           "Well but they don’t care about host countries doing that"
          ],
          [
           "No they do not."
          ],
          [
           "It's usually progressives complaining about Conservative Middle East countries."
          ],
          [
           "lol of course it’s only relevant if you cry about it, stupid!"
          ],
          [
           "0. But I have no idea how many of if any workers died cause people spread wrong information."
          ],
          [
           ">other things we don't know what actually happened.\n\nOh please. The slave labour and countless deaths are well documented."
          ],
          [
           "You can and you should speak up against the abuse of human rights. Qatar was a very blatant mistake."
          ],
          [
           "He asked about what was the better tournament. How can you say it was a better tournament when literally over 6000 people died to build the stadiums? You must be an absolutely cold blooded person if you have no problem with people suffering and dying for your amusement. OP didn't ask what the quality of the game was like, then you might have a point. OP asked what the better tournament was and then you can't separate the game from the organizers, the bribery or the human rights violation. If you do, you're a proper scumbag."
          ],
          [
           "Didn't have to be there to watch the news you nonce"
          ],
          [
           "Oh sorry you started it though. I’ll say it in english then.\nStop acting like you care"
          ],
          [
           "We were also quite low on the list of countries ordered by the highest fines! If i remember correctly only two places above Scotland! Croatia were apparently the worst."
          ],
          [
           "You're telling me you don't think grown men drinking out  of a beer river that went though other men's asses and letting off fireworks out their ass was not the peak of society?"
          ],
          [
           "Thats the irony, they call themselves democratic and peaceful while helping israel"
          ],
          [
           "It will be added to the growing list of banned hand gestures in Germany soon. Watch."
          ],
          [
           "If you praise Germany about its freedom of speech, you know nothing about the world or how much cencorship your country has. Don't get me wrong, I love Germany a lot and I live my dream life as a student here. Also, most of its cencorship, if not all, is to my benefit. But Germany is no beacon of freedom of speech. It shocked me to see how one sided the whole media is here. Most people aren't even aware how distopic it is, just because it is dressed with virtuous words and a \"war against fascism\". But governments always have justification for lack or freedom of speech and they almost never are right on it imo. \n\nYou can even see it on broadcasting of EM which is bizarre. They lower the sound of the stadium so much, in comparison to other countries, you would think the stadium is empty/emotionless. Just to avoid any unwanted chants etc. They also avoid showing any fans in fear of any unwanted message. I can give many other football related or unrelated examples too but no need. It's difficult to realise when you are born into it."
          ],
          [
           "So we are supposed to be a moral police but if we complain and point fingers that's also not good? Exactly what are we supposed to do then? Get other countries to do as we please by force?"
          ],
          [
           "Qatar employed slaves to build the stadiums and venues."
          ],
          [
           "For a number of games the stands were half empty ffs."
          ],
          [
           "you're right, talking about slavery being used in other countries is actually xenophobia"
          ],
          [
           "I am by most people considered \"progressive\", not sure what point you are trying to make but I'm not part of it."
          ],
          [
           "OP asked what we think about WC and EC. He didn't asked what we think about Qatar as a state. It's a post about sports not about politics. What i think about Qatar and human rights doesn't belong here."
          ],
          [
           "6000 people who died are the total aggregate sum of people of all nationality who died in Qatar from 2012 - 2022 regardless of career, it didn’t disclose the cause of death so that sum of 6000 people include people who died in car accidents, cancer/ organ failure, or getting murdered."
          ],
          [
           "I'm not here to educate you history. I'm not your school teacher. Go to library and read history."
          ],
          [
           "One of the least fined fans by uefa tho. Less than Belgium and Germany."
          ],
          [
           "Prepare for the avalanche of downvotes bro, they won’t enjoy that"
          ],
          [
           "The fans are fucking awful, zero respect and unsportsmanlike. Merih Demiral and his behaviour.\nThrowing things at the opposing teams. How long of a list do you want?\n\nOnly will be fun to watch turkey tonight when Nederland fuck em over!"
          ],
          [
           "It's not xenophobic to dislike fans that have no fucking respect for other opposing fans or teams. But yeah Merih Demiral  is full of fucking respect?\n\nI wouldn't have a problem if Turkish fans behaved normally or Turkish players didn't make ultra-nationalist salutes.\n\nNot very fucking bright are you if you think I am xenophobic for disliking unsportsmanlike behaviour."
          ],
          [
           "Supporting someone who got attacked in the first place - again.\n\nPeaceful Hamas taking hostages and attacking a music festival. \n\nYes, very undemocratic."
          ],
          [
           "As it fucking should"
          ],
          [
           "Do we need to remind you of Germany’s shameful stand of the genocide going on in Gaza right now? \nGermany is better than Qatar , no doubt , it’s just not the human rights shelter it tries to paint itself as"
          ],
          [
           "Wtf has  the Volume of the Stadium in a Broadcast to do with  censorship?! \n\nHoly Fuck \n\nYeah comm on give me some examples of \"CeNsOrShIp\" i can tell that at 90% its just antidemocratic or antisemits shit that you are talking about."
          ],
          [
           "Be a moral police for yourself first before you start pointing fingers at others. Did you not read the second half of my comment"
          ],
          [
           "Okay now you’re just making shit up because besides Europe and NA, fans showed out from all around the world. The city was dominated by saudis, Moroccans, Argentines, and Mexicans."
          ],
          [
           "Sounds more like you have an issue with change. I had a great time watching Qatar wc. This tournament, for all the videos of walls of Dutch fans jumping from side to side in their columns,  has been utterly drab in terms of the football played."
          ],
          [
           "We’ve all seen it on TV, yet they wanna deny. Embarrassing"
          ],
          [
           "Is that what happened here? Ah my bad. I thought we were making stuff up about brown people."
          ],
          [
           "Wow. I don't know why I expected anything of substance."
          ],
          [
           "That would be for behavior in stadiums so it's totally irrelevant.\n\nThey do their rioting and vandalism outside where there's less police or control."
          ],
          [
           "Nah it implies, that the friendly Brits are in fact Scottish and not English… so they probably accept the skirt insult as low effort banter. May the votes decide!"
          ],
          [
           "Go touch some grass, your team was awful and they should get some football lessons from Turkey at this point."
          ],
          [
           "Oh sweet child, who hurt you"
          ],
          [
           "Quite an ignorant comment. If you'd bothered to speak to someone from Turkey, rather than just unquestioningly swallow the overly simplified narrative you've been fed by western sources, you'd know that that gesture does not belong to fascists. It's used across the political spectrum in Turkey, including by leftists and liberals. So your asinine comment about being right-wing extremists is really quite silly. "
          ],
          [
           "Yes sure Israel defending himself by bombing Hospitals (where a few thousand innocent people live)"
          ],
          [
           "And what you describe is not free speech. Embrace it."
          ],
          [
           "This Genocide Stuff is hilarious. Check the facts outside of some social Media Bubble."
          ],
          [
           "That's a completely different question. He said there's no freedom of speech here. Both sides in that conflict can articulate their views and opinions here. If the stand the German government takes is shameful or not can be discussed. It's a complicated situation down there in the Middle East that has been going on forever. Each side is guilty to some extent. There are protests going on by both sides in Germany. Most of them peaceful, some violent. And you want to tell me there is no freedom of speech?"
          ],
          [
           "yep whenever someone cries about censorship in western europe you can assume its about some racist/hatespeech stuff."
          ],
          [
           "Can you calm down? You are talking to a random ass person on Reddit. It ain't that deep.\n\nI gave the broadcasting as an absurd extreme example. But also, giving spesific examples also doesn't really work because if you are indeed fed with that propaganda, you will call me names for being \"extremist\".\n\nIt's not about which side I am on in any of the discussions but Germany, to my experience, always chooses one agenda and in every organ of its body, follows the same rhetoric without leaving any space for questions. It's the same in tv, social media, and universities. Even in a country like a turkey, led by a corrupt dictator, you have a much wider pluralism when it comes to ideas spoken. The state media produces propaganda, but contrary opinions are just as popular even if not more. No matter what the subject is in Germany, I only see the repetation of the same opinion because disagreeing parties are too afraid to speak up.\n\nLike the whole country was on fire because some randoms singed Foreigners Out. I AM A FOREIGNER, and the level of craziness produced by that video is crazy. And not a single media figure had the balls to defend those people. I am not even saying they are right but I am sure there are so many people who want to defend them but are too afraid.\n\nNow turn to Israel-Palestine conflict. Calling people terrorists for supporting Palestine? Firing professors for supporting Palestine? Calling people anti-semites for questioning if Israel is committing a genocide? Accusation of genocide/war crimes is not something you can mute, man. It doesn't matter what excuse you use for it. \"they hate jews so they make it up\" okay, you are willing to take the chance of ignoring a genocide in fear of being anti-semite? That's moral laziness. Nothing should be closed for discussion and questioning, especially such horrific claims.\n\nBut these are small things I just think of without properly argumentize and articulate. It is simply the way of living. I don't think you can nicely reflect on it without living in different countries and actively participate in political circles of them. Germany definetely has big issues on this part and I am concerned about its future."
          ],
          [
           "I said except freedom of religion. So, what I say is that Germany is far from being the beacon of freedom of speech."
          ],
          [
           "well you referenced the thread \"making it clear that it's about xenophobia\", while it's actually about qatar being a ridiculous host for so many reasons, none of which are made up. see slavery, human rights, corruption, lgbt and women's rights in qatar....\n\nedit: interesting downvotes. i would suggest googling human rights situation in qatar."
          ],
          [
           "So the article I just called embarrassing journalism.  And I mean do you people even read the actual article. It takes every \"worker\" death across 10 years and it doesn't even count work related deaths. Just deaths. Most numbers point out that 6k across 10 years in that demographic is actually completely normal. This is not even world cup related workers either, just straight up workers. It's a shameful article and the fact that you share it when I explicitly mentioned it in my comment and the fact that all I'm saying is also mentioned in the article show how stupid this whole thing is. \n\nIt's like if I said \"2 million Germans have died since they won the world cup was won\".  Which is true and it means absolutely nothing.\n\n\nThe second source admits to 3 work related deaths in the construction of the stadiums in 12 years. Which again, means literally nothing. You guys hear death and panic, but shocking news, across 12 years people die."
          ],
          [
           "lol if you really don’t know how the west was built on the suffering and abusing other countries, notable the Middle East and Africa. Then you really are ignorant"
          ],
          [
           "Feeding hate with more hate is only making it worse. I know it's the internet and all but literally no need for all this"
          ],
          [
           "Turkish fans should touch some grass.\n\nTheir behavior makes them seem very uncivilized, that's all."
          ],
          [
           "Yes the Belgian team is shit but they don't make ultra nationalist gestures either. Belgian fans don't throw coins and shit at the opposing team or boo at every opportunity or constantly blowing whistles or setting of fireworks outside the opposing team hotel the night before a match."
          ],
          [
           "And you sure Hamas doesn't use the tunnels below a Hospital like a \"get out of jail card\" in a game of Monopoly?\n\nNo one wants to harm the innocent, but how else would you deal with that?\n\nLike \"oh, thats unfortnate, let's ignore the rockets that blow our innocent people up in order to avoid hitting the structure over their tunnel\"?\n\nNo sir, thats bullshit."
          ],
          [
           "Every building, used to deploy rockets or missiles, loses its saftey status"
          ],
          [
           "It's not free speech if it comes to the cost of others. Threatening to kill someone is also just words and yet punishable. What is your point or are you just stupid?"
          ],
          [
           "Sure , who knows more about genocide other than the experts of the field. Too bad the US didn’t execute the Morgenthau plan, if they did, I wouldn’t have seen comments from genocide deniers"
          ],
          [
           "Thanks for your comment, so far it’s the only respectful one I got, I agree with you to a certain extent, still the Palestinian side is very much oppressed and many people I know lost their jobs because they expressed their support for Gaza against the ongoing slaughtering. The german government is complicit unfortunately, but again I’m not comparing it to Qatar. There is no doubt of the Slavery, the abuses and corruption around WC 2022, or even WC 2018 in Russia"
          ],
          [
           "You're completely confused about the concepts, it seems?  Because it's quite interesting how you live in Germany, go on with a rant like this, and then say there's no free speech here. You may go to a public area, read your post out loud, and nothing bad will happen to you. That's free speech. People may tell you that you're talking bs and ask you to shut up. That's free speech as well. But nothing or noone will force you to shut up. \nIf the majority thinks otherwise than you, well, you won't get what you want. That's democracy. And I believe that there were elections here recently, and there will be again in fall? \nFree speech doesn't mean everybody has to applaud about what you say. Everybody else may disagree, and thus won't share or further distribute your opinions, which may feel like censorship. Has any of those racist dorks in Sylt been arrested? Some may have lost their job, but that was a decision by their employers not the state. Have you ever criticized a sheikh in public in Qatar or kissed as a homosexual in public there? Before you haven't done that and come back alice, don't give me that nonsense in your post."
          ],
          [
           "So you went from no freedom of religion to no freedom of speech, just to give an example of Sylt and to complain, that no public figure defended them??? Like, bro, nobody should defend such behavior. What's wrong with you?"
          ],
          [
           "So no. As i already thought: \n You are not understanding how a liberal  Discussion works. \n\nThe Palestine thing: Have anyone because of supporting Palestine been arrested? No. There even was a protest because a university was shutting down a pro palestine Camp. \n\nAnd here is hiw it works, You say \"Israel has to be deleting\" (or antisemits stuff like \"from the river to the sea\") and i can  say that you are a fucking donkey for thinking this. \n\nFreedom of Speech doesnt mean that your opinions are protected against other opinions!\n\nI mean A Country with a History of almost elimating a whol religion is going crazy cause people sing Naziparoles. Okay. Yeah why not. I mean its not like this is how it kinda started in the 1920s..  Just some weird Austrian talking in a beercellar.. \n\nYou say Shit and i wi say shit and there is nothing you can do. Thats Freedom of speech at its best. \n\nJust go to Katar or Russia and say something againt their politics. Pretty shure you wont be able to go on Reddit after that and cry about Turned down TV Volumes of Stadiums"
          ],
          [
           "Ah i misread. So how is there no freedom of speech?"
          ],
          [
           "And why is that? Because people are being criticized for using symbols of banned extremist groupings? How terrible. /s"
          ],
          [
           "I don't doubt Africa, but that wasn't the question. And the Middle East belonged to the Ottomans and the various other Muslim empires for most of their existence, how are their current problems the West's fault?"
          ],
          [
           "They're in the stadium only a few hours max and they know they are watched and risk big fines or worse.\n\nIt's a petty excuse.\n\nLike a little brat making trouble everywhere and then  acts like an angel when he's with his parents."
          ],
          [
           "Hating would imply I care about the Belgian team, which I don't, but objectively they were worse than any team that is still left in the competition. No one needs to listen to their superiority complex and bitterness, so they could be better by shutting up."
          ],
          [
           "Notice you all ignore the comedian jailed for criticising isreals government. Care to justify that on behalf of the fatherland?"
          ],
          [
           "So elections means freedom of speech? They were in Turkey and Russia too but I wouldn't say they have it either. I can also shout any opinion in Turkey, I spent my entire life actively opposing Erdogan and nothing happened to me. But it isn't the beacon of Freedom of Speech there either, is it? I think you guys  are so far deep in your propaganda that you don't even read and try to understand other opinions. Calling me Alice? I am fucking TURKISH. I already said it's not about me agreeing with any of those opinions. It's about there being no platform allowed for those who think so. But anyway man I couldn't care less."
          ],
          [
           "If you are referring to greywolf, it isn't banned and it isn't a extremist symbol. That's the thing, your media creates a story and everyone who doesn't agree are supporters of extremists."
          ],
          [
           "The brits didn't loot the sub continent? They didn't play the great game with Russia which destroyed Afghanistan? They and the US didn't meddle in Iran until he Islamic revolution came to the power?\n\n\nThey also installed Israel in Palestine to keep an eternal problem in the middle east. They and the French also broke apart the Osmani empire in such a way that they knew that would absolutely keep the entire region destabilised. They and the US broke apart the Arab nations in tiny countries and installed puppet governments so that arab nations are always divided and stay mostly poor.\n\n\nThe moments when Saddam or Gaddafi did something that is not according to the wishes of the US, US absolutely massacred these countries and left millions dead and the countries absolutely desolate. Libya used to have the best economy of Africa, but the US destroyed it because Gaddafi wanted to sell oil in exchange of gold instead of dollars. \n\n\nThe west have been trying to destroy Iran, running all sorts of propaganda, despite it having a democracy, albeit imperfect, because Iran does not follow whatever the West demands off it. \n\n\nHow much else should I describe?"
          ],
          [
           "So why cant Belgium fans behave during that time? It’s funny that you give a petty excuse for your prejudice and then complain about petty excuses."
          ],
          [
           "To be fair the continue whistling, honking until 3am after a Turkey win, is annoying. I live in the Netherlands and am Turkish. I get most things people say about the Turkish fan. I just hate the generalizing of it. And him talking the way he is, also no need for. But if you approach it the way you do, you'll only make it worse. I'm trying my best to apologies for those by letting them know, there are \"normal\" fans aswell that get to read all those hate messages. Some maybe don't give a fuck, but to me, it makes me feel a bit sad after reading all of it. And I'm pretty sure there are more people that feel like this"
          ],
          [
           "What Comedian in Germany got to jail for critc against Israel? Show me the report"
          ],
          [
           "I get your point but Israel reaction is asymetrical, totally , for the palestinian. \n\nWe had a terrorist org at spain, what defeated em wasnt the goverment military power.\n\nWas their own people, realizing there was a politic solution, that leaded to a loss of support. \n\nThat and a response with the laws we had . On the worst scenario the gov. had a group called GRAPO that killed people considered terrorist. That was clearly not the way to go.\n\nI respect that Israel was attacked in a brutal manner, but for Isarael and Usa and many others having innestable countries is their chosen scenario. That way you can control the zone, you can use people and lives as your will.\n\nOn the other hand HAMAS clearly does the same.\n\nSo who are in the middle? You all know the answer."
          ],
          [
           "A Nazi Will always be a Nazi"
          ],
          [
           "You said there is no democracy, I said there are elections which are not rigged like in Russia. Or are you suggesting they are in Germany? Then, some proof, please.\nI gave you an example what free speech means. That has nothing to do with elections. But with the fact that you can say whatever you want here. It does NOT mean that racist chants in a stadium must be broadcasted. Ever heard about the very democratic and liberal concept if no tolerance for intolerance? \nRacists in the stands may show their gestures or yell their racist bs, but that's where tolerance for that ends. Are you seriously claiming it's censorship when piblic broadcast stations decide not to broadcast that crap? \nGrow up, dude"
          ],
          [
           "I would honestly agree however the level of competition would drastically decline. Third place qualification is terrible..."
          ],
          [
           "the more teams you add, the more lower quality teams you let in.\n\nIf big teams miss out then they should've played better in the qualifiers. Just because you're big, you don't have the right to be there."
          ],
          [
           "16 > 32> 24 imo.\n\n\nThe whole, 4 out of 6 3rd place teams going through, the weird way the round of 16 is allocated is frustrating."
          ],
          [
           "32 makes the whole qualifying campaign a waste of time then.There needs to be a level of competition in qualification for most sides. I'm a Scottish fan, who has spent most of my life missing out on tournaments, but if there was 32.. we would almost always qualify and the 2 year qualification period would lack any excitement"
          ],
          [
           "No - too many anyway. Sack Iceland off and England can stop losing to them. 😂😉"
          ],
          [
           "32 isn't ideal but better than 24. The group stages arent worth watching."
          ],
          [
           "The best 3rd placed teams spoils 24 teams. Problem is there isn't any better way. If you just have group winners and best 2 runners up going through to QF that would be better from a competitive point of view but would result in more dead rubber games.\n\nThe only other way is to have a 2nd group stage. Top 2 from each group forming 2 groups of six with the top 2 in each going through to semis. But again, more dead rubbers and also a lot more group games which are less appealing to fans and broadcasters.\n\n32 teams solves those problems but produces weak and uninteresting qualifying with little jeopardy. Perhaps the solution to that is scrap qualifying and have an \"all-in\" Euros. Top division of 32 with 6 teams relegated and second division of 23 teams in 6 groups with group winners promoted. That creates the problem of loss of revenue from qualifiers. That can be partly plugged by having Euros every 2 years instead of 4. Stupid, but this is the issue they've created for themselves with these constant \"quantity instead of quality\" expansions."
          ],
          [
           "If anything we should be going back to a 16 team tournament. The qualifiers would be completely pointless if it were a 32 team tournament. It's the finals for a reason and should only be the elite sides. For example Scotland completely stunk out Euro 2024 and shouldn't be anywhere near the tournament but it's too easy to qualify as it is."
          ],
          [
           "STUPID"
          ],
          [
           "I think the qualification needs looking at anyway. There's far too many matches in football as it is and it ruins the quality of the matches. Then there's the nations league which I'm not really sure anyone has taken to, but I could be wrong."
          ],
          [
           "Savage , very savage; good idea, but I very much doubt that EUFA or FIFA would agree with it."
          ],
          [
           "That is not a good thing."
          ],
          [
           "That is not a good thing at all. It degrades the value of each group game. For example Germany could lose their first match to Scotland and still know they have an excellent chance of qualification. Whereas it used to be that if you lose your first game you are right up against it to qualify. That means that the matches hold less value and is bad for the competition and excitement."
          ],
          [
           "This is exactly why it won't be done. 39 games compared to 51. 12 games less which are essentially useless and which lower the spectacle (what football fans are interested in), but which certainly bring in less money (what UEFA is interested in).\n\nFurthermore, with the current format there are matches involving 1vs3, other matches between 1vs2 and finally the 2vs2 combination. This gives rise to unbalanced and unfair eighth notes. Why does a team that finished first have to find a better third place and another first place have to find a second place in the round of 16?"
          ],
          [
           "My wife is polish so I have them as my 2nd team but I find them a tough frustrating watch. I can’t see them doing much unfortunately"
          ],
          [
           "why are you falling for Poland?"
          ],
          [
           "I have a feeling you will end up losing all games :)"
          ],
          [
           "You mean the same Poland that beat Turkey yesterday? I’m only joking, I don’t think they’ll qualify either as a pole (sort of) so I can’t really say anything!"
          ],
          [
           "Similar situation for me and my god it's painful to watch them. Lewandowski only ever getting to score from pens and if they didn't have Szczęsny they wouldn't even be qualifying. Have a glimmer of hope in the young players like Zalewski and Urbański."
          ],
          [
           "If their last several games are anything to go by, he'll be lucky to get 5 touches of the ball each game. It's so frustrating watching this team try to get the ball to him, he deserves better."
          ],
          [
           "Yeh he ends up dropping to deep and they become completely impotent"
          ],
          [
           "perhaps. although my friends arent the best examples"
          ],
          [
           "Must have fell and hit your head"
          ],
          [
           "Now I am ashamed 😩😭"
          ],
          [
           "A total disaster. 7 players were reserves in their own team. What was Montella thinking?"
          ],
          [
           "Greenwood will never wear the shirt again."
          ],
          [
           "Dogshit team but I wouldn't put it past Southgate. Who could beat it? Germany, Spain, Croatia, Italy, Denmark, Netherlands, France, or Portugal. How? England are the second biggest choke artists in Europe after Belgium. It can happen in any number of ways, each more humiliating to consider than the last."
          ],
          [
           "France, Sorry England"
          ],
          [
           "They haven’t won a tournament in 50 years and haven’t won a tournament without cheating in their entire history. I’m sure they’ll lose to someone. Overrated."
          ],
          [
           "Some players on this lineup are not going to get called up"
          ],
          [
           "Bro is an Attacker on and off the field"
          ],
          [
           "He’s certainly a threat…"
          ],
          [
           "Thought the same thing. Not even close to our best starting XI."
          ]
         ],
         "hovertemplate": "Sentiment=%{y}<br>Score=%{x}<br>text=%{customdata[0]}<extra></extra>",
         "legendgroup": "negative",
         "marker": {
          "color": "rgb(228,26,28)",
          "size": 10,
          "symbol": "circle"
         },
         "mode": "markers",
         "name": "negative",
         "orientation": "h",
         "showlegend": true,
         "type": "scatter",
         "x": [
          0.6844116449356079,
          0.9598277807235718,
          0.8931342363357544,
          0.9660218358039856,
          0.8324123620986938,
          0.8596867918968201,
          0.624783992767334,
          0.8007044196128845,
          0.8783512115478516,
          0.6982851624488831,
          0.9508854746818542,
          0.9758205413818359,
          0.7245570421218872,
          0.533424973487854,
          0.9142981767654419,
          0.652633547782898,
          0.8896693587303162,
          0.5283809900283813,
          0.7496997714042664,
          0.8055874705314636,
          0.9516885280609131,
          0.9317435026168823,
          0.9642298817634583,
          0.7606860399246216,
          0.6161172986030579,
          0.6444586515426636,
          0.8554745316505432,
          0.5829156637191772,
          0.7767859101295471,
          0.8316371440887451,
          0.6830209493637085,
          0.8107643127441406,
          0.7363787293434143,
          0.5882992744445801,
          0.7083826065063477,
          0.8561697006225586,
          0.6812360882759094,
          0.4949074983596802,
          0.8452256917953491,
          0.5442541837692261,
          0.5768190026283264,
          0.7472358345985413,
          0.923923671245575,
          0.3987583816051483,
          0.9568700790405273,
          0.7122962474822998,
          0.6905547380447388,
          0.5372357368469238,
          0.3647318482398987,
          0.8344703316688538,
          0.5065611600875854,
          0.9766518473625183,
          0.47808223962783813,
          0.5473706722259521,
          0.7847577929496765,
          0.9228966236114502,
          0.9299363493919373,
          0.7100430727005005,
          0.8075113296508789,
          0.7015340924263,
          0.4922817051410675,
          0.894903302192688,
          0.6957449316978455,
          0.4599994122982025,
          0.5622287392616272,
          0.9567261934280396,
          0.9061763882637024,
          0.8019732236862183,
          0.9464092254638672,
          0.9381622672080994,
          0.9358811378479004,
          0.9311062693595886,
          0.9342103004455566,
          0.6504009366035461,
          0.955229640007019,
          0.9604970812797546,
          0.953597366809845,
          0.9418027400970459,
          0.7613087296485901,
          0.4701424539089203,
          0.8782426118850708,
          0.8318565487861633,
          0.7573547959327698,
          0.5158636569976807,
          0.5144802927970886,
          0.8629124164581299,
          0.9618808627128601,
          0.7559502124786377,
          0.5421459674835205,
          0.877926230430603,
          0.9217843413352966,
          0.8206207752227783,
          0.6940975189208984,
          0.5650840997695923,
          0.7344152927398682,
          0.5859012007713318,
          0.8647587895393372,
          0.8179652094841003,
          0.9507485032081604,
          0.5330899357795715,
          0.9369074106216431,
          0.6564491391181946,
          0.620660126209259,
          0.5919985175132751,
          0.8484643697738647,
          0.9697064757347107,
          0.9546512365341187,
          0.6387255191802979,
          0.5910643339157104,
          0.876249372959137,
          0.524512767791748,
          0.9664314985275269,
          0.7415056228637695,
          0.9192972183227539,
          0.5436335802078247,
          0.9001787304878235,
          0.7054468989372253,
          0.4732016921043396,
          0.7662620544433594,
          0.6899420619010925,
          0.8621405959129333,
          0.7098166942596436,
          0.6652089357376099,
          0.9376557469367981,
          0.8815626502037048,
          0.7171617746353149,
          0.881220817565918,
          0.9488491415977478,
          0.4734457731246948,
          0.9472197890281677,
          0.6760053634643555,
          0.6021092534065247,
          0.49856510758399963,
          0.545840859413147,
          0.6306787729263306,
          0.8357648849487305,
          0.8727406859397888,
          0.9112987518310547,
          0.864264726638794,
          0.923032820224762,
          0.640688419342041,
          0.8861351609230042,
          0.8576114177703857,
          0.48093318939208984,
          0.547768235206604,
          0.7204831838607788,
          0.7751073241233826,
          0.6289926767349243,
          0.6461223363876343,
          0.7336935997009277,
          0.49075764417648315,
          0.5521669387817383,
          0.8906427621841431,
          0.6450778841972351,
          0.4787907302379608,
          0.737764298915863,
          0.974699079990387,
          0.8744116425514221,
          0.962681233882904,
          0.859684944152832,
          0.7018630504608154,
          0.943649172782898,
          0.5384820699691772,
          0.6506232023239136,
          0.58909672498703,
          0.8464059233665466,
          0.7314615845680237,
          0.7631508111953735,
          0.6972702145576477,
          0.5031427145004272,
          0.9657853841781616,
          0.8476840257644653,
          0.83249431848526,
          0.8941887021064758,
          0.5022851228713989,
          0.7317686676979065,
          0.5627927184104919,
          0.7773147821426392,
          0.8076682686805725,
          0.7742295265197754,
          0.6529457569122314,
          0.9218814969062805,
          0.8619846701622009,
          0.9636470079421997,
          0.9704118967056274,
          0.956058919429779,
          0.9432874321937561,
          0.7002882957458496,
          0.9344775676727295,
          0.811246395111084,
          0.48991328477859497,
          0.6574026942253113,
          0.9402020573616028,
          0.7985897064208984,
          0.5604499578475952,
          0.965655505657196,
          0.49017077684402466,
          0.8446922302246094,
          0.8671103119850159,
          0.749474287033081,
          0.8816601037979126,
          0.6266695261001587,
          0.8546184301376343,
          0.8016890287399292,
          0.9352507591247559,
          0.7386693358421326,
          0.7496957778930664,
          0.8765495419502258,
          0.8081269860267639,
          0.7994849681854248,
          0.5545473098754883,
          0.8716006278991699,
          0.5545406341552734,
          0.51345294713974,
          0.554601788520813,
          0.5654162168502808,
          0.7235667705535889,
          0.860733151435852,
          0.8112511038780212,
          0.6657131910324097,
          0.9484803676605225,
          0.8157756328582764,
          0.7274236679077148,
          0.8974123597145081,
          0.7480308413505554,
          0.8008264899253845,
          0.5131685733795166,
          0.6031818389892578,
          0.8096835017204285,
          0.7791486978530884,
          0.5227713584899902,
          0.608397364616394,
          0.9189318418502808,
          0.9123508334159851,
          0.7341286540031433,
          0.8878822922706604,
          0.5553810000419617,
          0.8891512751579285,
          0.6011866331100464,
          0.6018556356430054,
          0.5583208203315735,
          0.6119132041931152
         ],
         "xaxis": "x",
         "y": [
          "negative",
          "negative",
          "negative",
          "negative",
          "negative",
          "negative",
          "negative",
          "negative",
          "negative",
          "negative",
          "negative",
          "negative",
          "negative",
          "negative",
          "negative",
          "negative",
          "negative",
          "negative",
          "negative",
          "negative",
          "negative",
          "negative",
          "negative",
          "negative",
          "negative",
          "negative",
          "negative",
          "negative",
          "negative",
          "negative",
          "negative",
          "negative",
          "negative",
          "negative",
          "negative",
          "negative",
          "negative",
          "negative",
          "negative",
          "negative",
          "negative",
          "negative",
          "negative",
          "negative",
          "negative",
          "negative",
          "negative",
          "negative",
          "negative",
          "negative",
          "negative",
          "negative",
          "negative",
          "negative",
          "negative",
          "negative",
          "negative",
          "negative",
          "negative",
          "negative",
          "negative",
          "negative",
          "negative",
          "negative",
          "negative",
          "negative",
          "negative",
          "negative",
          "negative",
          "negative",
          "negative",
          "negative",
          "negative",
          "negative",
          "negative",
          "negative",
          "negative",
          "negative",
          "negative",
          "negative",
          "negative",
          "negative",
          "negative",
          "negative",
          "negative",
          "negative",
          "negative",
          "negative",
          "negative",
          "negative",
          "negative",
          "negative",
          "negative",
          "negative",
          "negative",
          "negative",
          "negative",
          "negative",
          "negative",
          "negative",
          "negative",
          "negative",
          "negative",
          "negative",
          "negative",
          "negative",
          "negative",
          "negative",
          "negative",
          "negative",
          "negative",
          "negative",
          "negative",
          "negative",
          "negative",
          "negative",
          "negative",
          "negative",
          "negative",
          "negative",
          "negative",
          "negative",
          "negative",
          "negative",
          "negative",
          "negative",
          "negative",
          "negative",
          "negative",
          "negative",
          "negative",
          "negative",
          "negative",
          "negative",
          "negative",
          "negative",
          "negative",
          "negative",
          "negative",
          "negative",
          "negative",
          "negative",
          "negative",
          "negative",
          "negative",
          "negative",
          "negative",
          "negative",
          "negative",
          "negative",
          "negative",
          "negative",
          "negative",
          "negative",
          "negative",
          "negative",
          "negative",
          "negative",
          "negative",
          "negative",
          "negative",
          "negative",
          "negative",
          "negative",
          "negative",
          "negative",
          "negative",
          "negative",
          "negative",
          "negative",
          "negative",
          "negative",
          "negative",
          "negative",
          "negative",
          "negative",
          "negative",
          "negative",
          "negative",
          "negative",
          "negative",
          "negative",
          "negative",
          "negative",
          "negative",
          "negative",
          "negative",
          "negative",
          "negative",
          "negative",
          "negative",
          "negative",
          "negative",
          "negative",
          "negative",
          "negative",
          "negative",
          "negative",
          "negative",
          "negative",
          "negative",
          "negative",
          "negative",
          "negative",
          "negative",
          "negative",
          "negative",
          "negative",
          "negative",
          "negative",
          "negative",
          "negative",
          "negative",
          "negative",
          "negative",
          "negative",
          "negative",
          "negative",
          "negative",
          "negative",
          "negative",
          "negative",
          "negative",
          "negative",
          "negative",
          "negative",
          "negative",
          "negative",
          "negative",
          "negative",
          "negative",
          "negative",
          "negative",
          "negative",
          "negative",
          "negative",
          "negative",
          "negative",
          "negative",
          "negative",
          "negative",
          "negative"
         ],
         "yaxis": "y"
        },
        {
         "customdata": [
          [
           "Fellow fans, this is a friendly reminder to please follow the [Rules](https://www.reddit.com/r/euro2024/about/rules) and [Reddiquette](https://support.reddithelp.com/hc/en-us/articles/205926439-Reddiquette). \n\nPlease also make sure to [Join us on Discord](https://discord.gg/football)\n\n\n*I am a bot, and this action was performed automatically. Please [contact the moderators of this subreddit](/message/compose/?to=/r/euro2024) if you have any questions or concerns.*"
          ],
          [
           "Why does it matter?"
          ],
          [
           "But if the commentary was good there’d be no complaints… you miss the point"
          ],
          [
           "I want to enjoy a game with the mates for the banter- not a commentator having to carry some guy's little sister just because Woke is now the rule."
          ],
          [
           "Sometimes they are more insightful then the dudes who can get a bit too emotional or romantic about how to play, where the woman, especially if they are ex players or current players, tend to be a bit more sober and realistic."
          ],
          [
           "Fellow fans, this is a friendly reminder to please follow the [Rules](https://www.reddit.com/r/euro2024/about/rules) and [Reddiquette](https://support.reddithelp.com/hc/en-us/articles/205926439-Reddiquette). \n\nPlease also make sure to [Join us on Discord](https://discord.gg/football)\n\n\n*I am a bot, and this action was performed automatically. Please [contact the moderators of this subreddit](/message/compose/?to=/r/euro2024) if you have any questions or concerns.*"
          ],
          [
           "We have had it since 1984."
          ],
          [
           "Bruh there is one. Next year in Switzerland"
          ],
          [
           "There is one"
          ],
          [
           "Luis Rubiales? Is that you?"
          ],
          [
           "https://en.m.wikipedia.org/wiki/UEFA_Women's_Championship"
          ],
          [
           "I'm sorry, but are you serious? There is a euro for women. The next one will be next year in Switzerland."
          ],
          [
           "I dont, mate. Maybe we should talk about giving them the vote first..."
          ],
          [
           "Bruh lives in the mines of moria or something 💀"
          ],
          [
           "Hi /u/Ok_Ferret_1020, this submission is waiting for moderator approval, before it can appear on the subreddit. All image submissions are manually checked for low-content submissions. If your submission is removed and you believe your post was removed as a mistake, please [contact the Mod Team via Modmail](https://www.reddit.com/message/compose?to=/r/Euro2024). Thank you!\n\n*I am a bot, and this action was performed automatically. Please [contact the moderators of this subreddit](/message/compose/?to=/r/euro2024) if you have any questions or concerns.*"
          ],
          [
           "Fake story\n\nNo proof? Trust me bro"
          ],
          [
           "Hi /u/Vourinen22, this submission is waiting for moderator approval, before it can appear on the subreddit. All image submissions are manually checked for low-content submissions. If your submission is removed and you believe your post was removed as a mistake, please [contact the Mod Team via Modmail](https://www.reddit.com/message/compose?to=/r/Euro2024). Thank you!\n\n*I am a bot, and this action was performed automatically. Please [contact the moderators of this subreddit](/message/compose/?to=/r/euro2024) if you have any questions or concerns.*"
          ],
          [
           "[deleted]"
          ],
          [
           "proof, that was the email sent as an actual complain to the organisation by one of tge girls affected 🤌🏼🤌🏼"
          ],
          [
           "Police can be authoritarian towards both males and females, what are you on about?"
          ],
          [
           "It's called security for a reason"
          ],
          [
           "Yeah and his collegues would have to be at least somewhat involved, its impossible for nobody to see that at the entrance to the fan zones, there are a lot of people and guards and everything is super public.\n\nSomeone would record it 100% with a phone easily"
          ],
          [
           "Fellow fans, this is a friendly reminder to please follow the [Rules](https://www.reddit.com/r/euro2024/about/rules) and [Reddiquette](https://support.reddithelp.com/hc/en-us/articles/205926439-Reddiquette). \n\nPlease also make sure to [Join us on Discord](https://discord.gg/football)\n\n\n*I am a bot, and this action was performed automatically. Please [contact the moderators of this subreddit](/message/compose/?to=/r/euro2024) if you have any questions or concerns.*"
          ],
          [
           "[removed]"
          ],
          [
           "Germans don’t employ and abuse slaves so Euros for sure 👌"
          ],
          [
           "matches - wc\n\n\neverything else (wgaf) - euro"
          ],
          [
           "Matches side ofc Qatar because it was hosted during winter due to their terrible weather, so players were at the top of their physical condition and could stage better performances, while euros are being played during summer after 60 matches played"
          ],
          [
           "Qatar had better matches but for atmosphere obviously Germany it's actually a proper football country Qatar had to pay fake fans to make it look like there was a good atmosphere that tournament 😂."
          ],
          [
           "Euros are always better than the World Cup, I’m not even European. The vibes are actual football, none of this sports-washing shit from the Middle East or Russia"
          ],
          [
           "Euros"
          ],
          [
           "Qatar was much better. Japan finishing first against Spain and Germany, Qatar losing all their games, Morroco unexpected run, South Korea watching the other game on phones, Ghana being happy while losing because Uruguay was eliminated too. Cameroon beating Brazil, and an amazing final between Mbappe and Messi. Now compare that to England boring games, France reaching semi finals without even scoring from an open play, pointless games because 3 out of 4 team qualify anyways, terrible refs, frustrating VAR, racism, no dark horse story, maybe Turkey, but they did not defeated some powerhouse yet. The only good thing was Georgia win against second team of Portugal and matchday 1 goals, those were really good. But overall, a bad tournament, even the opening song..."
          ],
          [
           "At least in qatar the referees wasnt that bad. Overall in Germany are more \"real\" football fans than in Qatar"
          ],
          [
           "I guess it depends if we are gonna win it or not"
          ],
          [
           "Is Water wet?"
          ],
          [
           "Euro"
          ],
          [
           "The pitches in Qatar were better, but that's about it."
          ],
          [
           "The pitches in Qatar were better, but that's about it."
          ],
          [
           "I think the country killing less people did a better job. Was it Germany? Or how did they build and organise everything?"
          ],
          [
           "I only like Euro games"
          ],
          [
           "Football wise, Qatar was better. Players were fresher as they only played half a season. I think there has been some stinking games at the euros so far as players are knackered"
          ],
          [
           "yall just like the euro vibes more... anything related to the actual games played qatar easily takes it. Its not even close. The games this euro ESPECIALLY the knockouts have been a bore."
          ],
          [
           "The matches at the euros have been a snoozefest."
          ],
          [
           "[removed]"
          ],
          [
           "European or World cup competitions should be hosted by European countries.. Case Closed.."
          ],
          [
           "Qatar World Cup had some insane matches like Saudi vs Argentina, Iran vs US, Portugal vs Morocco, and then the finals which was France vs Argentina."
          ],
          [
           "I agree with the critique to Qatar but let's not pretend the workers in Brasil didn't have to go through similar work conditions back in the time"
          ],
          [
           "At least in qatar the referees wasnt that bad. Overall in Germany are more \"real\" football fans than in Qatar"
          ],
          [
           "At least in qatar the referees wasnt that bad. Overall in Germany are more \"real\" football fans than in Qatar"
          ],
          [
           "At least in qatar the referees wasnt that bad. Overall in Germany are more \"real\" football fans than in Qatar"
          ],
          [
           "At least in qatar the referees wasnt that bad. Overall in Germany are more \"real\" football fans than in Qatar"
          ],
          [
           "At least in qatar the referees wasnt that bad. Overall in Germany are more \"real\" football fans than in Qatar"
          ],
          [
           "Euro 2024 Germany obviously. Not build by slave labour and is a country with Football history."
          ],
          [
           "Call me biased but I liked the tournament where hundreds of workers didn't die in blistering heat having to build stadiums first for the tournament to happen"
          ],
          [
           "Nice joke, the euro is filled with fights and chaos, Germany souls have learned from Qatar on how to organize better. Qatar hosted the best and safest world cup"
          ],
          [
           "At least there were no drunk brits..."
          ],
          [
           "*germans don‘t employ and abuse slaves IN Germany but as long as it‘s in another country in the South or East to make cheap garments and harvest cheap chocolate and bananas it‘s fine 😍"
          ],
          [
           "We do but we call it minimum wage and it’s not as ethnically charged anymore"
          ],
          [
           "Frank-Walter Steinmeier is certainly not going to gift a blanket to squeeze into the worlds picture when the trophy is handed."
          ],
          [
           "[deleted]"
          ],
          [
           "True, but FIFA and UEFA are not angel organizations either."
          ],
          [
           "Were women not allowed to attend in Qatar?"
          ],
          [
           "I barely have to turn the history book pages to see Germanys history…"
          ],
          [
           "Did you just reply to yourself?"
          ],
          [
           "Yes. There are no special moments except Turkey matches and Spain-Germany matches."
          ],
          [
           "I think fan wise Germany is ahead, football wise Var has been a disgrace/ it was better in Qatar."
          ],
          [
           "Yeah who cares about human rights if the footie's good?"
          ],
          [
           "I think everything you said was fair, not sure why down voted especially when no disrespect intended"
          ],
          [
           "Yeah, they even organized the fans."
          ],
          [
           "That’s strong whataboutism"
          ],
          [
           "[removed]"
          ],
          [
           "It’s coming home"
          ],
          [
           "What makes it better?"
          ],
          [
           "[deleted]"
          ],
          [
           "we call it 'DUALE AUSBILDUNG\" 😂"
          ],
          [
           "He should, though. For the memes."
          ],
          [
           "Expert talking....😂😂"
          ],
          [
           "Unnecessary but probably true."
          ],
          [
           "Yeah football culture of drinking and hooliganism is sooo much better in Europe."
          ],
          [
           "There were women in Qatar."
          ],
          [
           "ye they were 😭😭"
          ],
          [
           "Qatari women need permission from their legal guardian ( father/brother/husband)"
          ],
          [
           "LOL. \n\nThen how many deaths and what is an acceptable non-zero amount für you?"
          ],
          [
           "He forgot to switch accounts"
          ],
          [
           "It sure had ethical issues and the games should never have been there but I was just thinking about the matches and how exciting they were."
          ],
          [
           "I think it’s rich for a German to talk like that, considering your history."
          ],
          [
           "I am talking about football, quality of football and organisation which was very good. I can't talk about human rights in Qatar and I can't say that WC in Qatar was bad because of human rights. For me, someone who was watching it on TV, what I saw in my opinion quality of the game was better. And that's the only relevant thing here. We are not talking about human rights."
          ],
          [
           "You were there?"
          ],
          [
           "Germany and Europe was built on the wealth and blood of the eastern world countries."
          ],
          [
           "[deleted]"
          ],
          [
           "[deleted]"
          ],
          [
           "Apart from freedom of religion?"
          ],
          [
           "Well, they knew about the fact that qatar had no stadiums and still gave them the WC ..."
          ],
          [
           "It's a tradition of Reddit."
          ],
          [
           "r/lefttheburneron"
          ],
          [
           "There were plenty of South American, Asian and African fans there. It was only the Europeans who didn’t really travel."
          ],
          [
           "It’s well documented."
          ],
          [
           "sure, it’s the media."
          ],
          [
           "How so?"
          ],
          [
           "I may not care in 20 minutes either tbh"
          ],
          [
           "That was not online, was filmed in Dusseldorf where the English are.\n\nIt is as you say: \"kind of behaved for their standards\"\n\nNothing to be proud of or deserving praise."
          ],
          [
           "Bigger gap between good and bad teams in Africa. I thought you were going to say the atmosphere is better and I’ve never been so wondered what makes it better."
          ],
          [
           "Get used to us, mate! Our population continues to grow while yours continues to decrease 😊\n\n\nThank God most Belgians aren't obnoxious xenophobes like yourself."
          ],
          [
           "yeah you cant say we dont got freedom of religion if you have a lot of mosques and are allowed to call for khalifats at open petitions.  Thats why he cant deny it."
          ],
          [
           "\"All the fans in the middle east\" you mean all 3 of them?? The stadiums had no atmosphere and you could clearly see how many were bought and just put there. Don't get me wrong there are some fans probably there. But compare that to South America, Europe or Africa. Even Japan, Korea, China and Australia have a waaay higher football-fan-density."
          ],
          [
           "The LBGTQ community might disagree."
          ],
          [
           "Here's a sneak peek of /r/LeftTheBurnerOn using the [top posts](https://np.reddit.com/r/LeftTheBurnerOn/top/?sort=top&t=year) of the year!\n\n\\#1: [Whoopsee](https://i.redd.it/fr5kmsx7t3sc1.jpeg) | [66 comments](https://np.reddit.com/r/LeftTheBurnerOn/comments/1bu532x/whoopsee/)  \n\\#2: [Sneako forgot to switch to his fan account](https://i.redd.it/vm5w94pon2nc1.jpeg) | [67 comments](https://np.reddit.com/r/LeftTheBurnerOn/comments/1b9jdgr/sneako_forgot_to_switch_to_his_fan_account/)  \n\\#3: [No way people are this retarded](https://www.reddit.com/gallery/1alrfeb) | [299 comments](https://np.reddit.com/r/LeftTheBurnerOn/comments/1alrfeb/no_way_people_are_this_retarded/)\n\n----\n^^I'm ^^a ^^bot, ^^beep ^^boop ^^| ^^Downvote ^^to ^^remove ^^| ^^[Contact](https://www.reddit.com/message/compose/?to=sneakpeekbot) ^^| ^^[Info](https://np.reddit.com/r/sneakpeekbot/) ^^| ^^[Opt-out](https://np.reddit.com/r/sneakpeekbot/comments/o8wk1r/blacklist_ix/) ^^| ^^[GitHub](https://github.com/ghnr/sneakpeekbot)"
          ],
          [
           "Do you wqtch the euros then?"
          ],
          [
           "Where?"
          ],
          [
           "You know me personally?"
          ],
          [
           "at least they are not right-wing extremist or at least they dont show it publicly"
          ],
          [
           "[removed]"
          ],
          [
           "Long due"
          ],
          [
           "I see"
          ],
          [
           "Could you elaborate on your point then? How is there no freedom of religion?"
          ],
          [
           "Can you name some of these matches so I can see for myself?"
          ],
          [
           "it’s pretty easy to google. \n\nhttps://www.theguardian.com/global-development/2021/feb/23/revealed-migrant-worker-deaths-qatar-fifa-world-cup-2022\n\nhttps://www.hrw.org/news/2022/11/30/qatar-world-cup-chief-publicly-admits-high-migrant-death-tolls"
          ],
          [
           "Sorry. These two cannot be separated. Politics is always present."
          ],
          [
           "When did I say that? I'm just able to read your comments."
          ],
          [
           "I'll already extend my apologies for when we inevitably fumble"
          ],
          [
           "Pot kettle"
          ],
          [
           "Bc its not a genocide."
          ],
          [
           "Getting a result against the Swiss isn’t for everyone….they’re a good team, but England have the quality to beat them. Hoping it isn’t a snoozefest."
          ],
          [
           "You insulting me like you know me personally. I just said that tournament in Qatar was better for me in terms of football quality,it was more entertaining for me. That's just my opinion and nothing more."
          ],
          [
           "Hardly irrelevant is it. Behaviour is behaviour. Regardless of where it is."
          ],
          [
           "Sometimes it's difficult with symbols. They can change their meaning over time. For Erdogan this is an opportunity for a populistic moment he can't miss."
          ],
          [
           "[removed]"
          ],
          [
           "Tony Blair. I don’t need to say anything else"
          ],
          [
           "[removed]"
          ],
          [
           "You're right it's only considered a danger for democracy by the highest organ in Germany responsible for that, the Verfassungsschutz. So it's all fine then."
          ],
          [
           "Tony Blair built the West?"
          ],
          [
           "You could start with how any of this is related to EURO 2024."
          ],
          [
           "Fellow fans, this is a friendly reminder to please follow the [Rules](https://www.reddit.com/r/euro2024/about/rules) and [Reddiquette](https://support.reddithelp.com/hc/en-us/articles/205926439-Reddiquette). \n\nPlease also make sure to [Join us on Discord](https://discord.gg/football)\n\n\n*I am a bot, and this action was performed automatically. Please [contact the moderators of this subreddit](/message/compose/?to=/r/euro2024) if you have any questions or concerns.*"
          ],
          [
           "Nah, too many weak teams and uninteresting matches at that point.\n\n16 was the golden number, simple format, and high level of competition.\n\n24 is still okay, it’s quite nice to see smaller teams make their debut/return, but the quality has been noticeably diluted, plus it has made the format very ugly.\n\n32 teams with the old WC format would fix the issue with the “best 3rd in a group of 4”, but yea, the overall quality would take a massive dip."
          ],
          [
           "24 is fine. Maybe expand to 28 to minimize ‘third place team’ issue. 32 out of 55 will mean more crap teams qualifying."
          ],
          [
           "More teams -> more excitement - not true; won't make things worse to make Euros with 32 teams - also not true; group stages will be way more exciting - you're wrong"
          ],
          [
           "There’s pros and cons to having 16, 24 or 32 teams, which have all been covered here. But for me, the third-place qualification is the killer-con by a country mile, like everyone has said it removes any feeling of jeopardy, so imo it needs to be either 16 or 32 teams to get a proper tournament process. \n\nAlso with the whole process of narrowing down 24 teams to 16 you can’t split the winner/runner-up from each group on either side of the knockout process, i.e. preventing them from meeting again unless they both reach the final."
          ],
          [
           "That would make qualifiers somewhat pointless exhibition games for the top teams. Expanding to 24 teams already made it more certain that the top teams will be present at the final tournament. Still, Europe has a lot of quality and multitude of football fanatic nations. I don't think the quality would drop drastically from the current 24 if changed to 32 teams. It's Europe after all, the home continent of football. Would the likes missing from EURO 2024 really make the quality worse? I highly doubt adding Sweden, Norway, Ireland, Wales, Greece and Russia (yes, I know) make  the standard plummet. After all, it's only 6 spots more.\n\nUEFA has 55 members. Organizing a EURO of 32 teams would improve the chances of smaller football nations like Finland, Iceland, Azerbaijan, Luxembourg or Lithuania of reaching the finals more regularly or even once. Football is the biggest sport in the world and the more can enjoy it, the better, imo (with certain limit ofc). For a smaller country, the significance of reaching a final tournament is beyond describing. I'm a Finn. We reached our first Euros in 2020, partially/plausibly thanks to the enlargement of the tournament."
          ],
          [
           "I would make 24 teams divided into 8 groups of 3. The top 2 pass and then we start with the round of 16, without repechages for the best third-placed teams. First against second in the round of 16. With the current format, 36 matches are played in the group stage to eliminate only 8 teams. With my formula, 24 group stage matches would be played, 12 useless matches less to always eliminate 8 teams. With my format the total matches would be 39 (6 matches for the teams reaching the final) compared to the current 51 total matches (7 matches for the teams reaching the final). If I had to choose between the current 24-team format versus a 32-team format I would prefer the 32-team format. With the 32-team tournament, I would automatically qualify the host country, the reigning champion and the best 13 in the ranking. The remaining 40 UEFA teams would be divided into 10 groups of 4 for the qualifiers."
          ],
          [
           "I think in the future we will have 32 teams and it will use a Nations League system to qualify to have a shorter qualification"
          ],
          [
           "4 groups of 6 teams. Top 2 advance. Means more guarenteed games for every country but not more games overall for those going to the final. 2 out of 6 means every game is extra important."
          ],
          [
           "There are only 55 countries in UEFA\n\nJust do away with qualifiers and have a preliminary round at the start and have a random draw. Top 9 in Fifa rankings go into the main draw. Remaining 46 play a one off knockout game.\n\nThere's your 32.\n\n\nOr.........just go back to 16."
          ],
          [
           "naaah 24 is ok\n\nif anything. UEFA needs more places for the expanded WC"
          ],
          [
           "why dont they do 24 -> 12 teams advance to knockouts, best 4 group winners get a bye"
          ],
          [
           "Keep 24 teams but 8 groups of 3 with only group winners going through to quarter finals or top 2 with a round of 16?"
          ],
          [
           "If you look at the 8 closest teams who missed out they were Norway, Sweden, Greece, Israel, Wales, Luxembourg, Montenegro and Iceland. I don't think the quality would massively drop with those teams in. (Though you're right that it was better with 16 teams.)"
          ],
          [
           "Qualifications should feel pointless to the stronger teams, non of us cares or watches the qualifiers, get as many teams in the tournament as possible"
          ],
          [
           "55 member teams , means at least 40 or 42 teams should qualify for future EURO tournaments to make it fair for every European team."
          ],
          [
           "Agree"
          ],
          [
           "Probably better than the current format in theory but UEFA would never accept a tournament with less matches. Less matches = Less money for Uefa, and football is all about money these days."
          ],
          [
           "If you get out the group stage, you should automatically qualify for the next Euros."
          ],
          [
           "42 teams?!! So only 13 teams wouldn't qualify?! It would remove any jeopardy from qualifying for most teams"
          ],
          [
           "Oh I agree with that. Different competitions running side by side... It's just confusing. I like the IDEA of nations League, matches against similar standard opposition but friendlies allow you to do this, or choose your own level. If there are consequences to these games in the nations League, are teams less likely to experiment, try new players..."
          ],
          [
           "poland will finish second i fell i don’t know why but i feel like they will shock the netherlands"
          ],
          [
           "Fellow fans, this is a friendly reminder to please follow the [Rules](https://www.reddit.com/r/euro2024/about/rules) and [Reddiquette](https://support.reddithelp.com/hc/en-us/articles/205926439-Reddiquette). \n\nPlease also make sure to [Join us on Discord](https://discord.gg/football)\n\n\n*I am a bot, and this action was performed automatically. Please [contact the moderators of this subreddit](/message/compose/?to=/r/euro2024) if you have any questions or concerns.*"
          ],
          [
           "Can you get up?"
          ],
          [
           "Want an ambulance?"
          ],
          [
           "Co Kurwa?"
          ],
          [
           "Poland will finish with 0 points and over -10 unfortunately is my feeling. All 3 opponents are really strong"
          ],
          [
           "They miss Lewa for the first game i dont think so"
          ],
          [
           "In thw group?"
          ],
          [
           "Lewandowski will score 5 goals in 9 minutes in every game."
          ],
          [
           "In thw group?"
          ],
          [
           "I think Austria are more likely to pull an upset"
          ],
          [
           "Isn’t Lewandowski missing the first game already ?"
          ],
          [
           "Ja pierdole, jakie bydle"
          ],
          [
           "♫ If I fell in love with you,\n\nWould you promise to be true\n\nAnd help me understand? ♫"
          ],
          [
           "It's OK if France is still 1"
          ],
          [
           "wdym"
          ],
          [
           "He’s also potentially ruled out of game against Austria so yeap."
          ],
          [
           "He's not even in the top 3 most important players of this team"
          ],
          [
           "You’ll be lucky if he plays 9 minutes"
          ],
          [
           "lol from Italian in group with Spain and Croatia."
          ],
          [
           "You said you fell"
          ],
          [
           "Matty Cash?"
          ],
          [
           "men too"
          ],
          [
           "lmao"
          ],
          [
           "oh never mind i see the mistake 💀"
          ],
          [
           "i said i *feel* not fell"
          ],
          [
           "And rightfully so."
          ],
          [
           "I’m going back"
          ],
          [
           "If you mean watching like this in Tbilisi, then you don’t need tickets. The entrance is free. And if you mean watching it live in Germany, then the official ticket sales are long over. You might try some ticketing sites like viagogo."
          ],
          [
           "After that goal for Portugal I am no longer ashamed to be Polish What was that 🤭"
          ],
          [
           "Fellow fans, this is a friendly reminder to please follow the [Rules](https://www.reddit.com/r/euro2024/about/rules) and [Reddiquette](https://support.reddithelp.com/hc/en-us/articles/205926439-Reddiquette). \n\nPlease also make sure to [Join us on Discord](https://discord.gg/football)\n\n\n*I am a bot, and this action was performed automatically. Please [contact the moderators of this subreddit](/message/compose/?to=/r/euro2024) if you have any questions or concerns.*"
          ],
          [
           "True 😂"
          ],
          [
           "I am a woman 😭"
          ],
          [
           "With Güler on for the last five mins xd"
          ],
          [
           "Fr the guy scored a game winning banger only to get benched in the next game against a much stronger opponent"
          ],
          [
           "You single?. 😆"
          ],
          [
           "Sorry 🤪"
          ],
          [
           "Downvote 😜"
          ],
          [
           "If only we could have told our grandchildren some day 🤷🏼‍♂️😭"
          ],
          [
           "Chill lol she’s just a stranger on the internet for you"
          ],
          [
           "Who in Euro 2024 could beat this England team? And how? "
          ],
          [
           "Greenwood is certainly a threat from an attacking point of view"
          ],
          [
           "Albania decide to pull an Iceland in the ro16"
          ],
          [
           "If I do bets with friends & family I'll probably yolo it on Germany, but my brain tells me that this might be Englands year.\n\nBellingham + Kane alone will be brutal."
          ],
          [
           "Pickford lol 😂"
          ],
          [
           "Hi /u/marxistopportunist, this submission is waiting for moderator approval, before it can appear on the subreddit. All image submissions are manually checked for low-content submissions. If your submission is removed and you believe your post was removed as a mistake, please [contact the Mod Team via Modmail](https://www.reddit.com/message/compose?to=/r/Euro2024). Thank you!\n\n*I am a bot, and this action was performed automatically. Please [contact the moderators of this subreddit](/message/compose/?to=/r/euro2024) if you have any questions or concerns.*"
          ],
          [
           "iceland apparently"
          ],
          [
           "England is almost everytime the strongest on the paper but they never win. I doubt they will win this time, Portugal has a strong squad too, France and Germany won’t give up easily"
          ],
          [
           "France, Portugal, Croatia, and Belgium, the players are good but Southgate has a way of losing"
          ],
          [
           "highly doubt livramento , greenwood , colwill and palmer will be called up"
          ],
          [
           "Especially to women"
          ],
          [
           "Imagine him and Saka pairing up next to Bellingham and Kane\n\nWould be ridiculous.\n\nIf not Greenwood, expect Saka pushed higher and AA behind"
          ],
          [
           "It's been true once or twice before, but never as much as now."
          ],
          [
           "What would having 5 kids have to do with a redemption?"
          ]
         ],
         "hovertemplate": "Sentiment=%{y}<br>Score=%{x}<br>text=%{customdata[0]}<extra></extra>",
         "legendgroup": "neutral",
         "marker": {
          "color": "rgb(55,126,184)",
          "size": 10,
          "symbol": "circle"
         },
         "mode": "markers",
         "name": "neutral",
         "orientation": "h",
         "showlegend": true,
         "type": "scatter",
         "x": [
          0.7179846167564392,
          0.617206871509552,
          0.49606582522392273,
          0.4628812074661255,
          0.5821076035499573,
          0.7179846167564392,
          0.6375588178634644,
          0.7146637439727783,
          0.7200583815574646,
          0.8843174576759338,
          0.8569942712783813,
          0.6560844779014587,
          0.6376821398735046,
          0.5865886807441711,
          0.5976676344871521,
          0.5157402157783508,
          0.5904871225357056,
          0.6524252891540527,
          0.6251445412635803,
          0.680598795413971,
          0.7556318044662476,
          0.5534645915031433,
          0.7179846167564392,
          0.6873845458030701,
          0.6356114149093628,
          0.8337731957435608,
          0.5061480402946472,
          0.46466317772865295,
          0.37908998131752014,
          0.5644172430038452,
          0.4178158640861511,
          0.5355404615402222,
          0.7897912859916687,
          0.85957270860672,
          0.5376807451248169,
          0.5848074555397034,
          0.5848074555397034,
          0.5199788212776184,
          0.472319096326828,
          0.4301602244377136,
          0.4412163496017456,
          0.6691535115242004,
          0.6873845458030701,
          0.7003114223480225,
          0.5292626619338989,
          0.6136468052864075,
          0.5355404615402222,
          0.5355404615402222,
          0.5355404615402222,
          0.5355404615402222,
          0.5355404615402222,
          0.6118325591087341,
          0.4279479682445526,
          0.45820578932762146,
          0.5062838792800903,
          0.5044612288475037,
          0.5420368909835815,
          0.524988055229187,
          0.6524252891540527,
          0.7345539331436157,
          0.5519094467163086,
          0.6482115387916565,
          0.7622127532958984,
          0.7046082615852356,
          0.47189655900001526,
          0.4630317986011505,
          0.589188277721405,
          0.7531073689460754,
          0.6777364611625671,
          0.6873845458030701,
          0.5277237296104431,
          0.4858567416667938,
          0.6524252891540527,
          0.7166142463684082,
          0.6120045185089111,
          0.6878088712692261,
          0.6628777980804443,
          0.3852735757827759,
          0.8919557332992554,
          0.49115118384361267,
          0.8564165830612183,
          0.48970285058021545,
          0.591742753982544,
          0.4502313435077667,
          0.5353407859802246,
          0.4825415313243866,
          0.8374768495559692,
          0.5558218359947205,
          0.6524252891540527,
          0.6524252891540527,
          0.7147600650787354,
          0.5297521352767944,
          0.8413976430892944,
          0.8020595908164978,
          0.6836705207824707,
          0.7576717734336853,
          0.506439208984375,
          0.7630353569984436,
          0.5505381226539612,
          0.5533933043479919,
          0.46612483263015747,
          0.39135095477104187,
          0.5762755274772644,
          0.4726131856441498,
          0.6794530749320984,
          0.508201539516449,
          0.7964975833892822,
          0.7096047401428223,
          0.8269128799438477,
          0.5982199311256409,
          0.6873845458030701,
          0.6714370250701904,
          0.5583219528198242,
          0.6558164358139038,
          0.9349809288978577,
          0.49787020683288574,
          0.5116484761238098,
          0.6799202561378479,
          0.5984899997711182,
          0.7300089001655579,
          0.5409563183784485,
          0.5109647512435913,
          0.4828430414199829,
          0.6058938503265381,
          0.5359719395637512,
          0.6873845458030701,
          0.6340882182121277,
          0.6873845458030701,
          0.5020470023155212,
          0.6577389240264893,
          0.7974138855934143,
          0.7179846167564392,
          0.45988571643829346,
          0.4476530849933624,
          0.4223460555076599,
          0.6687411069869995,
          0.46372273564338684,
          0.7887800335884094,
          0.881022036075592,
          0.5402682423591614,
          0.7779128551483154,
          0.49969881772994995,
          0.7441346645355225,
          0.9236313104629517,
          0.5745928883552551,
          0.48306092619895935,
          0.6657504439353943,
          0.6128664016723633,
          0.4908283054828644,
          0.5123002529144287,
          0.6651883721351624,
          0.553091287612915,
          0.6345592141151428,
          0.7179846167564392,
          0.8079931735992432,
          0.794682502746582,
          0.7690029144287109,
          0.5186768770217896,
          0.5750545859336853,
          0.8482438325881958,
          0.7727441787719727,
          0.8482438325881958,
          0.6206620335578918,
          0.5854923725128174,
          0.8379157185554504,
          0.7370213270187378,
          0.49046915769577026,
          0.6089794039726257,
          0.5416869521141052,
          0.4667467176914215,
          0.7292271256446838,
          0.8238406777381897,
          0.6320850849151611,
          0.8684043288230896,
          0.6725043654441833,
          0.4430140256881714,
          0.46735286712646484,
          0.6035988926887512,
          0.536824643611908,
          0.5308230519294739,
          0.6048275828361511,
          0.5340164303779602,
          0.7179846167564392,
          0.4964338541030884,
          0.6478812098503113,
          0.9096367955207825,
          0.5697371959686279,
          0.6779630184173584,
          0.5234728455543518,
          0.6576163172721863,
          0.6132804155349731,
          0.6254653334617615,
          0.6472862958908081,
          0.6239140629768372,
          0.9210731387138367,
          0.5286943316459656,
          0.4997921884059906,
          0.5875022411346436,
          0.657341718673706,
          0.5333262085914612,
          0.45529088377952576,
          0.6677724719047546,
          0.7906332015991211,
          0.5055935978889465,
          0.7369478940963745,
          0.8083170652389526
         ],
         "xaxis": "x",
         "y": [
          "neutral",
          "neutral",
          "neutral",
          "neutral",
          "neutral",
          "neutral",
          "neutral",
          "neutral",
          "neutral",
          "neutral",
          "neutral",
          "neutral",
          "neutral",
          "neutral",
          "neutral",
          "neutral",
          "neutral",
          "neutral",
          "neutral",
          "neutral",
          "neutral",
          "neutral",
          "neutral",
          "neutral",
          "neutral",
          "neutral",
          "neutral",
          "neutral",
          "neutral",
          "neutral",
          "neutral",
          "neutral",
          "neutral",
          "neutral",
          "neutral",
          "neutral",
          "neutral",
          "neutral",
          "neutral",
          "neutral",
          "neutral",
          "neutral",
          "neutral",
          "neutral",
          "neutral",
          "neutral",
          "neutral",
          "neutral",
          "neutral",
          "neutral",
          "neutral",
          "neutral",
          "neutral",
          "neutral",
          "neutral",
          "neutral",
          "neutral",
          "neutral",
          "neutral",
          "neutral",
          "neutral",
          "neutral",
          "neutral",
          "neutral",
          "neutral",
          "neutral",
          "neutral",
          "neutral",
          "neutral",
          "neutral",
          "neutral",
          "neutral",
          "neutral",
          "neutral",
          "neutral",
          "neutral",
          "neutral",
          "neutral",
          "neutral",
          "neutral",
          "neutral",
          "neutral",
          "neutral",
          "neutral",
          "neutral",
          "neutral",
          "neutral",
          "neutral",
          "neutral",
          "neutral",
          "neutral",
          "neutral",
          "neutral",
          "neutral",
          "neutral",
          "neutral",
          "neutral",
          "neutral",
          "neutral",
          "neutral",
          "neutral",
          "neutral",
          "neutral",
          "neutral",
          "neutral",
          "neutral",
          "neutral",
          "neutral",
          "neutral",
          "neutral",
          "neutral",
          "neutral",
          "neutral",
          "neutral",
          "neutral",
          "neutral",
          "neutral",
          "neutral",
          "neutral",
          "neutral",
          "neutral",
          "neutral",
          "neutral",
          "neutral",
          "neutral",
          "neutral",
          "neutral",
          "neutral",
          "neutral",
          "neutral",
          "neutral",
          "neutral",
          "neutral",
          "neutral",
          "neutral",
          "neutral",
          "neutral",
          "neutral",
          "neutral",
          "neutral",
          "neutral",
          "neutral",
          "neutral",
          "neutral",
          "neutral",
          "neutral",
          "neutral",
          "neutral",
          "neutral",
          "neutral",
          "neutral",
          "neutral",
          "neutral",
          "neutral",
          "neutral",
          "neutral",
          "neutral",
          "neutral",
          "neutral",
          "neutral",
          "neutral",
          "neutral",
          "neutral",
          "neutral",
          "neutral",
          "neutral",
          "neutral",
          "neutral",
          "neutral",
          "neutral",
          "neutral",
          "neutral",
          "neutral",
          "neutral",
          "neutral",
          "neutral",
          "neutral",
          "neutral",
          "neutral",
          "neutral",
          "neutral",
          "neutral",
          "neutral",
          "neutral",
          "neutral",
          "neutral",
          "neutral",
          "neutral",
          "neutral",
          "neutral",
          "neutral",
          "neutral",
          "neutral",
          "neutral",
          "neutral",
          "neutral",
          "neutral",
          "neutral",
          "neutral",
          "neutral",
          "neutral",
          "neutral",
          "neutral",
          "neutral",
          "neutral",
          "neutral"
         ],
         "yaxis": "y"
        },
        {
         "customdata": [
          [
           "What counts its whether they know what they're talking about, not their gender. The German TV channels have been using male and female experts and commentators and I found them all equally insightful"
          ],
          [
           "I absolutely love and cherish ladies as well as their voices - except for this one.\n\nRight now -> Portugal vs Slovenia - the assistant lady commentary has nothing to contribute to this exciting game except repeating / screaming the same thing the guy already said a few seconds earlier."
          ],
          [
           "It’s the way women commentary is\n\nPersonally I want footballers who are men and who had good careers (regardless of their skin)"
          ],
          [
           "yall think we should have euro for women? i think it would be good especially for women"
          ],
          [
           "The women brought it home btw 🏴󠁧󠁢󠁥󠁮󠁧󠁿 "
          ],
          [
           "\"Skirt is for women\" sign but blank for memes. Do with it what you will. Have fun."
          ],
          [
           "😂😂😂 of course. Nice try"
          ],
          [
           "Euro 2024 Germany vs World Cup 2022 Qatar Honest opinion on which you think has been better and why?\n\nI know we still haven't finished with the Euros however in my honest opinion the euros have been far far better!"
          ],
          [
           "Germany wasn’t just better than Qatar. They’ve had the best competition for YEARS. \n\nThe fans have been amazing and gotten along well and the German fans have been great but the people loving their lives in the host cities have just been… amazing. \n\nThey’ve been a vibe and mostly very welcoming, not sure how much saxophone guy helped but he’s been everywhere"
          ],
          [
           "Euro 2024 is much more fun than the Qatar PR spectacle in 2022. First, being hosted in a European country allows fans to actually celebrate and party in the stadiums and fan zones. Second, we're spared all the annoying FIFA & Qatar PR nonsense and the unbearablely disgusting Gianni Infantino. Everyone felt that the 2022 FIFA World Cup was just a gigantic whitewashing PR stunt for Qatar."
          ],
          [
           "Euros 2024 ofc, for me this euros is more enjoyable than 2022 world Cup bcz of the Summer. And so i can watch all the game"
          ],
          [
           "Even if Southgate coached all teams and every single game ended 0:0, It would still beat Qatar simply because there are Fans and Germany is a great host country"
          ],
          [
           "Women being able to attend is pretty neat."
          ],
          [
           "Well you can quibble about what has the higher standard of football, but I always like setting the teams from other continents. I don't have enough time to follow them so it's nice when they show up.\n\nIn terms of excitement they're pretty similar."
          ],
          [
           "The World cup matches were much more exciting so far. So as a spectator from the couch 2022 wins vs 2024. If you're a fan that bought tickets to the game then 2022 probably is much less fun"
          ],
          [
           "World Cup was full of exciting games. The final was probably the most exciting game I’ve watched in a while. The Euros have had some extremely boring games. England, France, and Portugal have basically put me to sleep every time I watched them. That never happened during the World Cup."
          ],
          [
           "Euros for me too, the fans have been amazing (apart from a few issues), happiness all around the place, drinks, sun, way less strict rules to be followed. The whole vibe itself has been much better in my opinion!"
          ],
          [
           "Euros times billion.\n\nI went with the tartan army and had one of the best experiences of my entire life... And I'm 38 lol."
          ],
          [
           "Honestly the group stage of the EC this years was better but the semifinals of WC in Qatar were better so far."
          ],
          [
           "Better matches Qatar. Better fan culture and overall mood Germany."
          ],
          [
           "I been to both wc2022 and euro2024. Overall Qatar was far far better. Better organised (fans going & leaving the stadiums), better transportation, entertainment before & after the matches, more variety of merchandising. Games were better too. \n\nMetro this way."
          ],
          [
           "Wolrd cup 2022 and its not even close the entertainment from the games was far higher."
          ],
          [
           "Qatar was a 100x times better, literally no exciting games this euros except for Turkey"
          ],
          [
           "Tournament as a whole including the atmosphere etc then the euros by far\n\nBut quality and enjoyment of the matches then the world cup was much better"
          ],
          [
           "The vibes are probably better in Germany but I have to say the World Cup games were more entertaining "
          ],
          [
           "The vibes. I’m not there physically but I can feel the energy from fans around. \n\nSummer time tournament is 100% better too"
          ],
          [
           "Although the 2022 World Cup created unforgettable moments but Euro 2024 is better in terms of fans and atmosphere. (Yeah, I know some fans are toxic, but I'm talking about those other than them.)"
          ],
          [
           "Euro. Reason: We made it past the group stages..."
          ],
          [
           "Germany may have not won the cup, but they have definitely won best host for the euro cups"
          ],
          [
           "Football wise maybe Qatar, but the better tournament Germany"
          ],
          [
           "football wise Qatar was better. everything besides the football, Germany is better"
          ],
          [
           "World Cup by far. However, instead of focusing on shortcomings I do my best to enjoy both to the fullest."
          ],
          [
           "Are people really saying this Euros is better than the previous World Cup, which is arguably one of the best in decades…what am I reading"
          ],
          [
           "Much better games in Qatar."
          ],
          [
           "Literally the best competition since 2014 overall"
          ],
          [
           "Ur telling me an amazing final, arg vs netherlands, a beautiful bycicle kick, japan and moroccos masterclass,  isnt enough to prove you jow shit the euros is?"
          ],
          [
           "Quality of football was higher in Qatar and that's the only important thing for me."
          ],
          [
           "Weather was better in Qatar"
          ],
          [
           "Qatar. One of the best World Cups IMO and the greatest final in my lifetime. \n\nNot sure why you're comparing a Euro to a World Cup, other than to fish for certain comments regarding Qatar."
          ],
          [
           "Qatar was comfortably better \n\nIt was so easy to get it around the place and the games were so well organised. No fan issues\n\nAtmospheres were brilliant too"
          ],
          [
           "Qatar World Cup was the best World Cup ever, whether you guys like it or not, if anything it shows how double-standard the west is !!"
          ],
          [
           "Qatar world cup was way more exciting. Euros have been drab - so many 0-0. Only team worth watching has been Spain."
          ],
          [
           "The game quality was far superior in Qatar the Organization and structure also. Germany had ofc the better Atmosphere and Fan Support"
          ],
          [
           "I enjoyed watching the games more in Qatar (on TV obviously), the standard has been poor so far this euros.\n\nPolitically, it’s been much better in Germany. Too many human rights issues associated with the Qatar event."
          ],
          [
           "In terms of football it is much the same. Argentina v France final was great and seeing Messi win the World Cup will be a moment in football history. \n\nIn terms of host nation, a lot of people were against Qatar on both footballing and political reasons."
          ],
          [
           "respectfully f. wc 2k22 qatar, no soul. germany and most european countries are perfect choice of venues and accessability for fans"
          ],
          [
           "I enjoyed both Qatar and Germany"
          ],
          [
           "Germany > Qatar but at the same time, the World Cup was more exciting to watch"
          ],
          [
           "The Euros are always better just cause there’s a lot of deadwood teams in the World Cup who qualify because of their location not on skill.\n\nThe worse European teams at the Euros usually have players you recognise or more familiarity.\n\nWhen it gets to the later stages and it’s the good African teams as South Americans teams against the top European teams it gets more interesting.\n\nAlso generally the Euros are held in closer and better places which allows more fans to attend and build the atmosphere"
          ],
          [
           "Loved so far the vibe of the Euro, a wonderfull fest around the sport"
          ],
          [
           "Afcon was way better"
          ],
          [
           "also independent on countries: (alltough quite rainy) summer >>>>december\n\njust more fun going out to the town in a tshirt enjoy some beers than in cold winter"
          ],
          [
           "Yeah let's be clear the matches were much better in 22, this has been a very underwhelming euros in that sense. But I don't care, overall is still far far better in Germany."
          ],
          [
           "Neither does the ivory coast which gave us a great Afcon"
          ],
          [
           "But let's be clear, the matches were definitely more entertaining in Qatar.\n\n\nAlso, for me, having a wc begin just after my birthday and run up to just before Xmas was awesome. My gf had to put up with all the Xmas decorations being wc themed. Our Christmas tree had all the competing teams flags on it. I had a great time."
          ],
          [
           "The fake fans was basically the local workers when teams arrived\n\nFan support was fantastic when the actual tournament began."
          ],
          [
           "Yeah, it's always sunny in the desert - perfect footy weather."
          ],
          [
           "In terms of football the Qatar world cup was much better. There were so many close and exciting games. Honestly the best international Football tournament I've seen (watched since 2006).  \n\nIn terms of fans and overall vibe then this Euro wins by a mile. In Qatar there were only a couple countries with good fans (Argentina, Saudi Arabia and Morocco come to mind) while in Germany there were so many and the vibes were amazing."
          ],
          [
           "Makes it a little more enjoyable bro I’m not gonna lie"
          ],
          [
           "Call me biased but I find the more important competition with the greatest final ever a bit better than watching Germany lose at home. Also congrats on being virtuous and better than everyone, still watched it though didn’t you?"
          ],
          [
           "Yeah, they are truly coming around."
          ],
          [
           "Germany very fair and democratic for using Qatari Sponsors and Chinese sponsors. Also very democratic for helpikg to palestine"
          ],
          [
           "Well nothing is perfect, I loved the tournament so far."
          ],
          [
           "Congrats, but irrelevant."
          ],
          [
           "Qatar doesn’t have slaves. And hardly anyone died. That’s what conditions are like in every developing country in the world - actually probably better than most"
          ],
          [
           "Euro 2024 as a tournament vibe overall has been the best since euro 96.\n\nSo ignore the cretins claiming the soulless Qatar tournament was better because the games were good. \n\nThere was ZERO vibe at Qatar. \n\nThere has been peak drama in the games at this tournament, some of the knockout games have been boring but a lot of the group games were awesome.\n\nGermany as a whole have put on an absolutely incredible tournament, amazing vibes, hardly any trouble at all.\n\nAbsolutely wonderful."
          ],
          [
           "Exactly\n\nIt was phenomenal. People said they never felt so safe. As long as you behave, it's literally one of the safest places in the world"
          ],
          [
           "Best tournament ever for me was the Brazil World Cup except the semi final and final."
          ],
          [
           "Honestly, it feels good getting along. There is always national embarrassment when it happens. Whenever I’ve been at the football I always try to be extra nice to break the stigma 😭"
          ],
          [
           "More entertaining more upsets more goals better matches overall"
          ],
          [
           "Great for the Brits, they get to enjoy their classic summer even abroad"
          ],
          [
           "Also our fans have actually been, dare I say, good? The Cologne(?) police even praised them!"
          ],
          [
           "I mean, it was nice for all the fans in the middle east to be able to go watch some high quality football. As an armchair tournament watcher, I had a great time watching a festive world cup at home. Quality of the football was consistently high across every game. \n\nI get that isn't the way most fans like to watch football, and that things being raucous is part of the fun for most, but I'm more interested in how some dudes move the ball around a pitch. Qatar wc was great for that."
          ],
          [
           "Just a bit of banter ☺️\n\nWas hoping you'd have made it out of group but was always gonna a tough one."
          ],
          [
           "I’m so glad for this thread making it clear that it was always about xenophobia. Educate yourself."
          ],
          [
           "I know  lol\n\nJust doing it to see what he says\n\nIt was the safest it has ever been at a major tournament in qatar"
          ],
          [
           "Got you! I had a hard time enjoying the matches but I agree they were more exciting"
          ],
          [
           "Good on you! I’ve met a couple of really nice British fans like you before… they had funny accents, were talking a lot about “freedom” and had beautiful skirts on!"
          ],
          [
           "Frankfurt here. English fans were just fun, without the bad bits. Great guests in our city all around."
          ],
          [
           "Because of the honking or the whistles in the stadium? Or anything you have to add? Might be biased but surely as a neutral, the matches from Turkiye were one of the most fun to watch no?"
          ],
          [
           "You can understand from my other reply that it is no bad feelings. I love Germany. Almost more than Turkey even though I only lived here for such a short time as a student lol. Also what would I be butthurt about exactly?"
          ],
          [
           "You do what you want.\n\nMy country invented football a long time ago. (Yes scotland alongside England)\n\nCrowds used to be up to 100,000 plus. This is the way football has always been watched, with a great vibrant atmosphere. \n\nThat's the heritage of the game. \n\nIf you don't respect heritage that's your issue."
          ],
          [
           "Yep, no problem, it was sore but funny."
          ],
          [
           "I can agree with that"
          ],
          [
           "Atmposphere on africa is great only in north african countries when there is two north african clubs playing eacother or in these countries derbies (these matches do compete atmosphere wise) but at the NT level there is no comparison in atmosphere."
          ],
          [
           "As is known by everyone, everywhere. \n\nAll I am trying to point out is that the quality of football was excellent. Highest I've seen at an international tournament, likely because it was mid season."
          ],
          [
           "You'll be able to have a good laugh at England in a few hours."
          ],
          [
           "Have a nice weekend 👍"
          ],
          [
           "The Euros should be expanded to 32 teams In my opinion, the current Euros format is fine yet somewhat flawed through the fact that some big teams miss out, while the group stage lacks danger (e.g. 2/3 of teams make it through to the Last 16). This can be fixed by expanding the competition to 32 teams, which is beneficial for a number of reasons:\n\n1)More teams means more excitement. More teams/games at the Euros would make the tournament very exciting, particularly if teams that have never qualified before get in. Additionally, it’s worth pointing out that the standard of football in Europe is incredible. Wales, for instance, reached the 2016 semis but won’t be at this Euros, so expanding the competition won’t devalue the final product.\n\n2)It won’t make things any worse. 24 to 32 won’t really change the format too much, as instead of it being 6 groups of 4 followed by the Last 16, it will now be 8 groups of 4 followed by the Last 16, which brings me on to my 3rd and final point…\n\n3)The group stages will be way more exciting. There is little jeopardy currently as so many of the 3rd place teams go through, but having 32->16 would mean only the top 2 go through, making things much more exciting in the groups, whilst still allowing the knockouts to function as they currently do.\n\nOverall, the Euros was great when it was 16 teams, but if you’re expanding the competition to 24, you might as well expand it a bit further and make it 32, for the reasons I’ve listed (as well as given that with FIFA increasing the World Cup teams it makes sense to increase the Euro teams). I think 32 teams will become a reality, maybe at Euro 2032. What are your thoughts?"
          ],
          [
           "32 teams works better as a tournament, number splits nicely into the knockouts.  I agree that 24 just doesn't work, the 'best 3rd place' thing does, as you say, remove any jeopardy. It means there are no more 'group of death' as all the big teams can still go through. For example, at euro 2020 France, Germany and Portugal were all in the same group and all went through.\n\n\nProblem with 32 teams is that there are 55 uefa members.....so over half the teams would be qualifying for the euros. It would make qualification quite easy and feel pointless for stronger nations, and would mean there are a lot of weaker teams in the tournament.\n\n\nImo 16 is perfect. Gave us a really high quality tournament."
          ],
          [
           "24 is better than 32"
          ],
          [
           "Just to throw this in the discussion: everyone saying that having 32 teams would reduce the level of quality, yes of course, but that's a given for whenever you increase the number. And if you look at the expanded 2026 World Cup with 48 teams, the average ELO rating across the hypothetical best selection would be almost exactly equal to the average rating of the best 32 Euro teams. \n\nSo, a 32-team Euro competition would pretty much marry the 48-team World Cup in terms of group-stage quality. And it'd be more *inclusive*, which I think is a good thing, I'd love to see more countries get a chance to get a piece of the action. The World Cup cuts out most Euro nations, so this would give more of a balance to that. Think about it this way: The Copa America is *completely* inclusive to the organising body, CONMEBOL. \n\n32 UEFA teams out of 55 feels right, because that way *most* nations are there."
          ],
          [
           "As you said, for me 16 teams was the perfect format.\n\nAs downsizing the euros it's not possible as UEFA members won't allow it....I think the best solution to get rid of the best third teams nonsense is to increase it to 32 teams.\n\nAnd instead of having long qualifications....I would do the nations league every year and use it as a qualification system for the Euros. It's what they use right now in women's Euros and it works pretty well."
          ],
          [
           "Why? It’s perfect the way it is. Gives every team a chance to qualify. Even if you lose first to games 1-0, if you get a big result the 3ed game you will most likely qualify."
          ],
          [
           "The Women’s Euros effectively has this at the moment and it seems to be working well"
          ],
          [
           "This is the best fix. I was begging for the coming World Cup to do the same with 48 teams, but alas..."
          ],
          [
           "yes this is best"
          ],
          [
           "Hope u ok"
          ],
          [
           "My dog is Polish so I hope so"
          ],
          [
           "Poland is not bad but in a tough group. I m still considering a polish defender. U are welcome to join my mini league: hEjR4L"
          ],
          [
           "I think Netherlands will finish 3rd too but imo Austria has bigger chances of taking the 2nd place"
          ],
          [
           "Am Polish 🇵🇱, can confirm 👌"
          ],
          [
           "idk, the women there are beautiful"
          ],
          [
           "Football is the greatest sport in the world."
          ],
          [
           "The atmosphere looks fantastic for watching the match. The energy and excitement of the fans 🔥.\nI also want to watch, can you guide how to book tickets."
          ],
          [
           "Never be ashamed to be Polish. Your women are absolutely superb 👌🏽💯"
          ],
          [
           "Oh 😂well then in that case well done!"
          ],
          [
           "Well this has to be one of the weirdest and funniest interactions I’ve seen on reddit"
          ],
          [
           "Even if he has 5 kids with his missus and becomes the most valuable player on the planet?"
          ]
         ],
         "hovertemplate": "Sentiment=%{y}<br>Score=%{x}<br>text=%{customdata[0]}<extra></extra>",
         "legendgroup": "positive",
         "marker": {
          "color": "rgb(77,175,74)",
          "size": 10,
          "symbol": "circle"
         },
         "mode": "markers",
         "name": "positive",
         "orientation": "h",
         "showlegend": true,
         "type": "scatter",
         "x": [
          0.7126445770263672,
          0.7970508337020874,
          0.5616422891616821,
          0.7190050482749939,
          0.6825491786003113,
          0.6069917678833008,
          0.8073827028274536,
          0.5759267210960388,
          0.9835790991783142,
          0.4085959494113922,
          0.9423792958259583,
          0.7410125136375427,
          0.9755422472953796,
          0.8805779218673706,
          0.6121122241020203,
          0.4074569642543793,
          0.9881653785705566,
          0.9848917722702026,
          0.9161284565925598,
          0.8123098015785217,
          0.9435496926307678,
          0.6011018753051758,
          0.7176352143287659,
          0.7204111218452454,
          0.8398739695549011,
          0.970109224319458,
          0.5853933095932007,
          0.6723042130470276,
          0.8223745822906494,
          0.6071087718009949,
          0.7747795581817627,
          0.8674283623695374,
          0.5131353735923767,
          0.7651985883712769,
          0.9537034630775452,
          0.4158061444759369,
          0.9149767160415649,
          0.8832119107246399,
          0.61221843957901,
          0.9614098072052002,
          0.835707426071167,
          0.6807044148445129,
          0.8204089999198914,
          0.4990926682949066,
          0.6145867109298706,
          0.8236538171768188,
          0.9698197245597839,
          0.9499812722206116,
          0.822176456451416,
          0.9861704111099243,
          0.7383741140365601,
          0.8592991232872009,
          0.6211875081062317,
          0.6244659423828125,
          0.9851299524307251,
          0.49863454699516296,
          0.9492291808128357,
          0.9856363534927368,
          0.9250152111053467,
          0.6375539898872375,
          0.699093222618103,
          0.49880844354629517,
          0.9307765960693359,
          0.5708892345428467,
          0.5065920352935791,
          0.9642719030380249,
          0.9422461986541748,
          0.9746725559234619,
          0.7870718836784363,
          0.76100754737854,
          0.977959394454956,
          0.9750886559486389,
          0.8595654964447021,
          0.508327305316925,
          0.7996280193328857,
          0.6182499527931213,
          0.7039937973022461,
          0.9852361679077148,
          0.9656917452812195,
          0.8469957113265991,
          0.7956006526947021,
          0.4780867099761963,
          0.894588828086853,
          0.6070952415466309,
          0.811403214931488,
          0.9230154156684875,
          0.8612871766090393,
          0.9785789847373962,
          0.7505537867546082,
          0.441286563873291,
          0.48421284556388855,
          0.656626284122467,
          0.6642724871635437,
          0.8242693543434143,
          0.9287870526313782,
          0.4473317861557007,
          0.97850501537323,
          0.5360020995140076,
          0.7552233338356018,
          0.8117825984954834,
          0.5342994332313538,
          0.6343538761138916,
          0.9282984733581543,
          0.9843475818634033,
          0.9855663776397705,
          0.9611293077468872,
          0.8401072025299072,
          0.6219742894172668,
          0.5843008756637573
         ],
         "xaxis": "x",
         "y": [
          "positive",
          "positive",
          "positive",
          "positive",
          "positive",
          "positive",
          "positive",
          "positive",
          "positive",
          "positive",
          "positive",
          "positive",
          "positive",
          "positive",
          "positive",
          "positive",
          "positive",
          "positive",
          "positive",
          "positive",
          "positive",
          "positive",
          "positive",
          "positive",
          "positive",
          "positive",
          "positive",
          "positive",
          "positive",
          "positive",
          "positive",
          "positive",
          "positive",
          "positive",
          "positive",
          "positive",
          "positive",
          "positive",
          "positive",
          "positive",
          "positive",
          "positive",
          "positive",
          "positive",
          "positive",
          "positive",
          "positive",
          "positive",
          "positive",
          "positive",
          "positive",
          "positive",
          "positive",
          "positive",
          "positive",
          "positive",
          "positive",
          "positive",
          "positive",
          "positive",
          "positive",
          "positive",
          "positive",
          "positive",
          "positive",
          "positive",
          "positive",
          "positive",
          "positive",
          "positive",
          "positive",
          "positive",
          "positive",
          "positive",
          "positive",
          "positive",
          "positive",
          "positive",
          "positive",
          "positive",
          "positive",
          "positive",
          "positive",
          "positive",
          "positive",
          "positive",
          "positive",
          "positive",
          "positive",
          "positive",
          "positive",
          "positive",
          "positive",
          "positive",
          "positive",
          "positive",
          "positive",
          "positive",
          "positive",
          "positive",
          "positive",
          "positive",
          "positive",
          "positive",
          "positive",
          "positive",
          "positive",
          "positive",
          "positive"
         ],
         "yaxis": "y"
        }
       ],
       "layout": {
        "legend": {
         "title": {
          "text": "Sentiment"
         },
         "tracegroupgap": 0
        },
        "template": {
         "data": {
          "bar": [
           {
            "error_x": {
             "color": "#2a3f5f"
            },
            "error_y": {
             "color": "#2a3f5f"
            },
            "marker": {
             "line": {
              "color": "#E5ECF6",
              "width": 0.5
             },
             "pattern": {
              "fillmode": "overlay",
              "size": 10,
              "solidity": 0.2
             }
            },
            "type": "bar"
           }
          ],
          "barpolar": [
           {
            "marker": {
             "line": {
              "color": "#E5ECF6",
              "width": 0.5
             },
             "pattern": {
              "fillmode": "overlay",
              "size": 10,
              "solidity": 0.2
             }
            },
            "type": "barpolar"
           }
          ],
          "carpet": [
           {
            "aaxis": {
             "endlinecolor": "#2a3f5f",
             "gridcolor": "white",
             "linecolor": "white",
             "minorgridcolor": "white",
             "startlinecolor": "#2a3f5f"
            },
            "baxis": {
             "endlinecolor": "#2a3f5f",
             "gridcolor": "white",
             "linecolor": "white",
             "minorgridcolor": "white",
             "startlinecolor": "#2a3f5f"
            },
            "type": "carpet"
           }
          ],
          "choropleth": [
           {
            "colorbar": {
             "outlinewidth": 0,
             "ticks": ""
            },
            "type": "choropleth"
           }
          ],
          "contour": [
           {
            "colorbar": {
             "outlinewidth": 0,
             "ticks": ""
            },
            "colorscale": [
             [
              0,
              "#0d0887"
             ],
             [
              0.1111111111111111,
              "#46039f"
             ],
             [
              0.2222222222222222,
              "#7201a8"
             ],
             [
              0.3333333333333333,
              "#9c179e"
             ],
             [
              0.4444444444444444,
              "#bd3786"
             ],
             [
              0.5555555555555556,
              "#d8576b"
             ],
             [
              0.6666666666666666,
              "#ed7953"
             ],
             [
              0.7777777777777778,
              "#fb9f3a"
             ],
             [
              0.8888888888888888,
              "#fdca26"
             ],
             [
              1,
              "#f0f921"
             ]
            ],
            "type": "contour"
           }
          ],
          "contourcarpet": [
           {
            "colorbar": {
             "outlinewidth": 0,
             "ticks": ""
            },
            "type": "contourcarpet"
           }
          ],
          "heatmap": [
           {
            "colorbar": {
             "outlinewidth": 0,
             "ticks": ""
            },
            "colorscale": [
             [
              0,
              "#0d0887"
             ],
             [
              0.1111111111111111,
              "#46039f"
             ],
             [
              0.2222222222222222,
              "#7201a8"
             ],
             [
              0.3333333333333333,
              "#9c179e"
             ],
             [
              0.4444444444444444,
              "#bd3786"
             ],
             [
              0.5555555555555556,
              "#d8576b"
             ],
             [
              0.6666666666666666,
              "#ed7953"
             ],
             [
              0.7777777777777778,
              "#fb9f3a"
             ],
             [
              0.8888888888888888,
              "#fdca26"
             ],
             [
              1,
              "#f0f921"
             ]
            ],
            "type": "heatmap"
           }
          ],
          "heatmapgl": [
           {
            "colorbar": {
             "outlinewidth": 0,
             "ticks": ""
            },
            "colorscale": [
             [
              0,
              "#0d0887"
             ],
             [
              0.1111111111111111,
              "#46039f"
             ],
             [
              0.2222222222222222,
              "#7201a8"
             ],
             [
              0.3333333333333333,
              "#9c179e"
             ],
             [
              0.4444444444444444,
              "#bd3786"
             ],
             [
              0.5555555555555556,
              "#d8576b"
             ],
             [
              0.6666666666666666,
              "#ed7953"
             ],
             [
              0.7777777777777778,
              "#fb9f3a"
             ],
             [
              0.8888888888888888,
              "#fdca26"
             ],
             [
              1,
              "#f0f921"
             ]
            ],
            "type": "heatmapgl"
           }
          ],
          "histogram": [
           {
            "marker": {
             "pattern": {
              "fillmode": "overlay",
              "size": 10,
              "solidity": 0.2
             }
            },
            "type": "histogram"
           }
          ],
          "histogram2d": [
           {
            "colorbar": {
             "outlinewidth": 0,
             "ticks": ""
            },
            "colorscale": [
             [
              0,
              "#0d0887"
             ],
             [
              0.1111111111111111,
              "#46039f"
             ],
             [
              0.2222222222222222,
              "#7201a8"
             ],
             [
              0.3333333333333333,
              "#9c179e"
             ],
             [
              0.4444444444444444,
              "#bd3786"
             ],
             [
              0.5555555555555556,
              "#d8576b"
             ],
             [
              0.6666666666666666,
              "#ed7953"
             ],
             [
              0.7777777777777778,
              "#fb9f3a"
             ],
             [
              0.8888888888888888,
              "#fdca26"
             ],
             [
              1,
              "#f0f921"
             ]
            ],
            "type": "histogram2d"
           }
          ],
          "histogram2dcontour": [
           {
            "colorbar": {
             "outlinewidth": 0,
             "ticks": ""
            },
            "colorscale": [
             [
              0,
              "#0d0887"
             ],
             [
              0.1111111111111111,
              "#46039f"
             ],
             [
              0.2222222222222222,
              "#7201a8"
             ],
             [
              0.3333333333333333,
              "#9c179e"
             ],
             [
              0.4444444444444444,
              "#bd3786"
             ],
             [
              0.5555555555555556,
              "#d8576b"
             ],
             [
              0.6666666666666666,
              "#ed7953"
             ],
             [
              0.7777777777777778,
              "#fb9f3a"
             ],
             [
              0.8888888888888888,
              "#fdca26"
             ],
             [
              1,
              "#f0f921"
             ]
            ],
            "type": "histogram2dcontour"
           }
          ],
          "mesh3d": [
           {
            "colorbar": {
             "outlinewidth": 0,
             "ticks": ""
            },
            "type": "mesh3d"
           }
          ],
          "parcoords": [
           {
            "line": {
             "colorbar": {
              "outlinewidth": 0,
              "ticks": ""
             }
            },
            "type": "parcoords"
           }
          ],
          "pie": [
           {
            "automargin": true,
            "type": "pie"
           }
          ],
          "scatter": [
           {
            "fillpattern": {
             "fillmode": "overlay",
             "size": 10,
             "solidity": 0.2
            },
            "type": "scatter"
           }
          ],
          "scatter3d": [
           {
            "line": {
             "colorbar": {
              "outlinewidth": 0,
              "ticks": ""
             }
            },
            "marker": {
             "colorbar": {
              "outlinewidth": 0,
              "ticks": ""
             }
            },
            "type": "scatter3d"
           }
          ],
          "scattercarpet": [
           {
            "marker": {
             "colorbar": {
              "outlinewidth": 0,
              "ticks": ""
             }
            },
            "type": "scattercarpet"
           }
          ],
          "scattergeo": [
           {
            "marker": {
             "colorbar": {
              "outlinewidth": 0,
              "ticks": ""
             }
            },
            "type": "scattergeo"
           }
          ],
          "scattergl": [
           {
            "marker": {
             "colorbar": {
              "outlinewidth": 0,
              "ticks": ""
             }
            },
            "type": "scattergl"
           }
          ],
          "scattermapbox": [
           {
            "marker": {
             "colorbar": {
              "outlinewidth": 0,
              "ticks": ""
             }
            },
            "type": "scattermapbox"
           }
          ],
          "scatterpolar": [
           {
            "marker": {
             "colorbar": {
              "outlinewidth": 0,
              "ticks": ""
             }
            },
            "type": "scatterpolar"
           }
          ],
          "scatterpolargl": [
           {
            "marker": {
             "colorbar": {
              "outlinewidth": 0,
              "ticks": ""
             }
            },
            "type": "scatterpolargl"
           }
          ],
          "scatterternary": [
           {
            "marker": {
             "colorbar": {
              "outlinewidth": 0,
              "ticks": ""
             }
            },
            "type": "scatterternary"
           }
          ],
          "surface": [
           {
            "colorbar": {
             "outlinewidth": 0,
             "ticks": ""
            },
            "colorscale": [
             [
              0,
              "#0d0887"
             ],
             [
              0.1111111111111111,
              "#46039f"
             ],
             [
              0.2222222222222222,
              "#7201a8"
             ],
             [
              0.3333333333333333,
              "#9c179e"
             ],
             [
              0.4444444444444444,
              "#bd3786"
             ],
             [
              0.5555555555555556,
              "#d8576b"
             ],
             [
              0.6666666666666666,
              "#ed7953"
             ],
             [
              0.7777777777777778,
              "#fb9f3a"
             ],
             [
              0.8888888888888888,
              "#fdca26"
             ],
             [
              1,
              "#f0f921"
             ]
            ],
            "type": "surface"
           }
          ],
          "table": [
           {
            "cells": {
             "fill": {
              "color": "#EBF0F8"
             },
             "line": {
              "color": "white"
             }
            },
            "header": {
             "fill": {
              "color": "#C8D4E3"
             },
             "line": {
              "color": "white"
             }
            },
            "type": "table"
           }
          ]
         },
         "layout": {
          "annotationdefaults": {
           "arrowcolor": "#2a3f5f",
           "arrowhead": 0,
           "arrowwidth": 1
          },
          "autotypenumbers": "strict",
          "coloraxis": {
           "colorbar": {
            "outlinewidth": 0,
            "ticks": ""
           }
          },
          "colorscale": {
           "diverging": [
            [
             0,
             "#8e0152"
            ],
            [
             0.1,
             "#c51b7d"
            ],
            [
             0.2,
             "#de77ae"
            ],
            [
             0.3,
             "#f1b6da"
            ],
            [
             0.4,
             "#fde0ef"
            ],
            [
             0.5,
             "#f7f7f7"
            ],
            [
             0.6,
             "#e6f5d0"
            ],
            [
             0.7,
             "#b8e186"
            ],
            [
             0.8,
             "#7fbc41"
            ],
            [
             0.9,
             "#4d9221"
            ],
            [
             1,
             "#276419"
            ]
           ],
           "sequential": [
            [
             0,
             "#0d0887"
            ],
            [
             0.1111111111111111,
             "#46039f"
            ],
            [
             0.2222222222222222,
             "#7201a8"
            ],
            [
             0.3333333333333333,
             "#9c179e"
            ],
            [
             0.4444444444444444,
             "#bd3786"
            ],
            [
             0.5555555555555556,
             "#d8576b"
            ],
            [
             0.6666666666666666,
             "#ed7953"
            ],
            [
             0.7777777777777778,
             "#fb9f3a"
            ],
            [
             0.8888888888888888,
             "#fdca26"
            ],
            [
             1,
             "#f0f921"
            ]
           ],
           "sequentialminus": [
            [
             0,
             "#0d0887"
            ],
            [
             0.1111111111111111,
             "#46039f"
            ],
            [
             0.2222222222222222,
             "#7201a8"
            ],
            [
             0.3333333333333333,
             "#9c179e"
            ],
            [
             0.4444444444444444,
             "#bd3786"
            ],
            [
             0.5555555555555556,
             "#d8576b"
            ],
            [
             0.6666666666666666,
             "#ed7953"
            ],
            [
             0.7777777777777778,
             "#fb9f3a"
            ],
            [
             0.8888888888888888,
             "#fdca26"
            ],
            [
             1,
             "#f0f921"
            ]
           ]
          },
          "colorway": [
           "#636efa",
           "#EF553B",
           "#00cc96",
           "#ab63fa",
           "#FFA15A",
           "#19d3f3",
           "#FF6692",
           "#B6E880",
           "#FF97FF",
           "#FECB52"
          ],
          "font": {
           "color": "#2a3f5f"
          },
          "geo": {
           "bgcolor": "white",
           "lakecolor": "white",
           "landcolor": "#E5ECF6",
           "showlakes": true,
           "showland": true,
           "subunitcolor": "white"
          },
          "hoverlabel": {
           "align": "left"
          },
          "hovermode": "closest",
          "mapbox": {
           "style": "light"
          },
          "paper_bgcolor": "white",
          "plot_bgcolor": "#E5ECF6",
          "polar": {
           "angularaxis": {
            "gridcolor": "white",
            "linecolor": "white",
            "ticks": ""
           },
           "bgcolor": "#E5ECF6",
           "radialaxis": {
            "gridcolor": "white",
            "linecolor": "white",
            "ticks": ""
           }
          },
          "scene": {
           "xaxis": {
            "backgroundcolor": "#E5ECF6",
            "gridcolor": "white",
            "gridwidth": 2,
            "linecolor": "white",
            "showbackground": true,
            "ticks": "",
            "zerolinecolor": "white"
           },
           "yaxis": {
            "backgroundcolor": "#E5ECF6",
            "gridcolor": "white",
            "gridwidth": 2,
            "linecolor": "white",
            "showbackground": true,
            "ticks": "",
            "zerolinecolor": "white"
           },
           "zaxis": {
            "backgroundcolor": "#E5ECF6",
            "gridcolor": "white",
            "gridwidth": 2,
            "linecolor": "white",
            "showbackground": true,
            "ticks": "",
            "zerolinecolor": "white"
           }
          },
          "shapedefaults": {
           "line": {
            "color": "#2a3f5f"
           }
          },
          "ternary": {
           "aaxis": {
            "gridcolor": "white",
            "linecolor": "white",
            "ticks": ""
           },
           "baxis": {
            "gridcolor": "white",
            "linecolor": "white",
            "ticks": ""
           },
           "bgcolor": "#E5ECF6",
           "caxis": {
            "gridcolor": "white",
            "linecolor": "white",
            "ticks": ""
           }
          },
          "title": {
           "x": 0.05
          },
          "xaxis": {
           "automargin": true,
           "gridcolor": "white",
           "linecolor": "white",
           "ticks": "",
           "title": {
            "standoff": 15
           },
           "zerolinecolor": "white",
           "zerolinewidth": 2
          },
          "yaxis": {
           "automargin": true,
           "gridcolor": "white",
           "linecolor": "white",
           "ticks": "",
           "title": {
            "standoff": 15
           },
           "zerolinecolor": "white",
           "zerolinewidth": 2
          }
         }
        },
        "title": {
         "text": "Sentiment Scores by Text"
        },
        "xaxis": {
         "anchor": "y",
         "domain": [
          0,
          1
         ],
         "title": {
          "text": "Score"
         }
        },
        "yaxis": {
         "anchor": "x",
         "categoryarray": [
          "positive",
          "neutral",
          "negative"
         ],
         "categoryorder": "total descending",
         "domain": [
          0,
          1
         ],
         "title": {
          "text": "Sentiment"
         }
        }
       }
      }
     },
     "metadata": {},
     "output_type": "display_data"
    }
   ],
   "source": [
    "fig_scatter = px.scatter(df, x='sentiment_score', y='text', color='sentiment_label',\n",
    "                         title='Sentiment Scores by Text',\n",
    "                         labels={'sentiment_score': 'Score', 'sentiment_label': 'Sentiment'},\n",
    "                         hover_data=['text'],\n",
    "                         color_discrete_sequence=px.colors.qualitative.Set1)\n",
    "fig_scatter.update_traces(marker=dict(size=5), selector=dict(mode='markers'))\n",
    "fig_scatter.show()\n",
    "\n",
    "# Diagrama de dispersión para visualizar los scores de los sentimientos\n",
    "fig_scatter = px.scatter(df, x='sentiment_score', y='sentiment_label', color='sentiment_label',\n",
    "                         title='Sentiment Scores by Text',\n",
    "                         labels={'sentiment_score': 'Score', 'sentiment_label': 'Sentiment'},\n",
    "                         hover_data=['text'],\n",
    "                         color_discrete_sequence=px.colors.qualitative.Set1)\n",
    "fig_scatter.update_traces(marker=dict(size=10), selector=dict(mode='markers'))\n",
    "fig_scatter.update_layout(yaxis={'categoryorder':'total descending'})\n",
    "fig_scatter.show()\n"
   ]
  },
  {
   "cell_type": "markdown",
   "metadata": {},
   "source": [
    "Pie Chart"
   ]
  },
  {
   "cell_type": "code",
   "execution_count": 17,
   "metadata": {},
   "outputs": [
    {
     "data": {
      "application/vnd.plotly.v1+json": {
       "config": {
        "plotlyServerURL": "https://plot.ly"
       },
       "data": [
        {
         "domain": {
          "x": [
           0,
           1
          ],
          "y": [
           0,
           1
          ]
         },
         "hovertemplate": "sentiment_label=%{label}<extra></extra>",
         "labels": [
          "negative",
          "neutral",
          "positive",
          "neutral",
          "negative",
          "negative",
          "negative",
          "negative",
          "negative",
          "positive",
          "neutral",
          "neutral",
          "positive",
          "neutral",
          "negative",
          "negative",
          "negative",
          "negative",
          "negative",
          "negative",
          "negative",
          "negative",
          "negative",
          "negative",
          "negative",
          "negative",
          "negative",
          "negative",
          "negative",
          "negative",
          "negative",
          "negative",
          "negative",
          "positive",
          "neutral",
          "neutral",
          "neutral",
          "neutral",
          "negative",
          "neutral",
          "negative",
          "neutral",
          "neutral",
          "positive",
          "neutral",
          "neutral",
          "negative",
          "positive",
          "neutral",
          "negative",
          "neutral",
          "positive",
          "negative",
          "negative",
          "negative",
          "negative",
          "neutral",
          "negative",
          "neutral",
          "negative",
          "neutral",
          "negative",
          "negative",
          "negative",
          "negative",
          "neutral",
          "neutral",
          "negative",
          "neutral",
          "positive",
          "neutral",
          "positive",
          "neutral",
          "neutral",
          "positive",
          "neutral",
          "positive",
          "positive",
          "negative",
          "negative",
          "negative",
          "negative",
          "positive",
          "neutral",
          "negative",
          "positive",
          "negative",
          "positive",
          "positive",
          "positive",
          "positive",
          "negative",
          "positive",
          "negative",
          "neutral",
          "positive",
          "neutral",
          "negative",
          "negative",
          "positive",
          "positive",
          "negative",
          "negative",
          "neutral",
          "neutral",
          "positive",
          "negative",
          "negative",
          "positive",
          "neutral",
          "neutral",
          "neutral",
          "negative",
          "neutral",
          "negative",
          "positive",
          "positive",
          "neutral",
          "neutral",
          "positive",
          "negative",
          "neutral",
          "negative",
          "positive",
          "positive",
          "negative",
          "negative",
          "positive",
          "neutral",
          "negative",
          "positive",
          "negative",
          "positive",
          "negative",
          "neutral",
          "negative",
          "positive",
          "positive",
          "neutral",
          "negative",
          "positive",
          "negative",
          "positive",
          "neutral",
          "negative",
          "positive",
          "negative",
          "neutral",
          "positive",
          "positive",
          "positive",
          "negative",
          "positive",
          "positive",
          "positive",
          "neutral",
          "positive",
          "positive",
          "neutral",
          "neutral",
          "neutral",
          "positive",
          "positive",
          "negative",
          "negative",
          "neutral",
          "neutral",
          "neutral",
          "neutral",
          "positive",
          "neutral",
          "negative",
          "negative",
          "positive",
          "negative",
          "negative",
          "negative",
          "negative",
          "negative",
          "negative",
          "neutral",
          "negative",
          "positive",
          "neutral",
          "positive",
          "positive",
          "positive",
          "neutral",
          "negative",
          "neutral",
          "positive",
          "neutral",
          "negative",
          "neutral",
          "neutral",
          "negative",
          "positive",
          "negative",
          "negative",
          "negative",
          "neutral",
          "neutral",
          "neutral",
          "negative",
          "neutral",
          "neutral",
          "positive",
          "neutral",
          "negative",
          "negative",
          "negative",
          "neutral",
          "negative",
          "neutral",
          "neutral",
          "negative",
          "positive",
          "negative",
          "positive",
          "neutral",
          "negative",
          "positive",
          "positive",
          "neutral",
          "negative",
          "positive",
          "neutral",
          "neutral",
          "negative",
          "negative",
          "negative",
          "negative",
          "positive",
          "negative",
          "negative",
          "neutral",
          "negative",
          "negative",
          "negative",
          "neutral",
          "neutral",
          "neutral",
          "negative",
          "negative",
          "neutral",
          "neutral",
          "positive",
          "negative",
          "negative",
          "neutral",
          "neutral",
          "negative",
          "neutral",
          "negative",
          "positive",
          "neutral",
          "neutral",
          "negative",
          "positive",
          "neutral",
          "positive",
          "negative",
          "negative",
          "neutral",
          "neutral",
          "neutral",
          "neutral",
          "positive",
          "positive",
          "negative",
          "negative",
          "negative",
          "negative",
          "neutral",
          "neutral",
          "positive",
          "positive",
          "positive",
          "negative",
          "positive",
          "negative",
          "negative",
          "negative",
          "negative",
          "negative",
          "neutral",
          "negative",
          "negative",
          "negative",
          "negative",
          "negative",
          "negative",
          "positive",
          "negative",
          "positive",
          "negative",
          "negative",
          "neutral",
          "neutral",
          "positive",
          "negative",
          "positive",
          "negative",
          "negative",
          "negative",
          "neutral",
          "neutral",
          "positive",
          "neutral",
          "negative",
          "neutral",
          "negative",
          "negative",
          "negative",
          "neutral",
          "neutral",
          "negative",
          "neutral",
          "positive",
          "neutral",
          "negative",
          "positive",
          "positive",
          "neutral",
          "negative",
          "negative",
          "negative",
          "neutral",
          "negative",
          "positive",
          "negative",
          "negative",
          "neutral",
          "positive",
          "negative",
          "positive",
          "positive",
          "negative",
          "neutral",
          "negative",
          "neutral",
          "neutral",
          "neutral",
          "negative",
          "neutral",
          "negative",
          "negative",
          "negative",
          "negative",
          "positive",
          "negative",
          "neutral",
          "negative",
          "negative",
          "neutral",
          "negative",
          "neutral",
          "neutral",
          "negative",
          "negative",
          "neutral",
          "negative",
          "positive",
          "negative",
          "negative",
          "neutral",
          "negative",
          "positive",
          "negative",
          "neutral",
          "neutral",
          "neutral",
          "negative",
          "negative",
          "negative",
          "neutral",
          "negative",
          "negative",
          "neutral",
          "negative",
          "negative",
          "negative",
          "negative",
          "negative",
          "neutral",
          "negative",
          "negative",
          "negative",
          "neutral",
          "negative",
          "negative",
          "positive",
          "neutral",
          "negative",
          "neutral",
          "neutral",
          "negative",
          "negative",
          "negative",
          "negative",
          "negative",
          "negative",
          "negative",
          "negative",
          "negative",
          "negative",
          "negative",
          "negative",
          "negative",
          "negative",
          "negative",
          "negative",
          "negative",
          "neutral",
          "negative",
          "negative",
          "neutral",
          "negative",
          "negative",
          "negative",
          "negative",
          "negative",
          "negative",
          "negative",
          "neutral",
          "neutral",
          "neutral",
          "neutral",
          "positive",
          "neutral",
          "neutral",
          "negative",
          "negative",
          "positive",
          "negative",
          "neutral",
          "positive",
          "negative",
          "neutral",
          "positive",
          "neutral",
          "neutral",
          "neutral",
          "neutral",
          "positive",
          "neutral",
          "neutral",
          "negative",
          "neutral",
          "negative",
          "negative",
          "neutral",
          "neutral",
          "negative",
          "positive",
          "neutral",
          "negative",
          "neutral",
          "neutral",
          "neutral",
          "negative",
          "neutral",
          "positive",
          "negative",
          "positive",
          "positive",
          "negative",
          "negative",
          "neutral",
          "neutral",
          "neutral",
          "negative",
          "neutral",
          "neutral",
          "neutral",
          "positive",
          "positive",
          "neutral",
          "neutral",
          "neutral",
          "neutral",
          "negative",
          "neutral",
          "negative",
          "neutral",
          "neutral",
          "neutral",
          "neutral",
          "neutral",
          "positive",
          "negative",
          "neutral",
          "neutral",
          "positive",
          "neutral",
          "positive",
          "negative",
          "neutral",
          "neutral",
          "negative",
          "positive",
          "neutral",
          "negative",
          "neutral",
          "neutral",
          "neutral",
          "negative",
          "neutral",
          "neutral",
          "neutral",
          "neutral",
          "negative",
          "neutral",
          "negative",
          "positive",
          "positive",
          "neutral",
          "neutral",
          "neutral",
          "neutral",
          "negative",
          "neutral",
          "positive",
          "negative",
          "neutral",
          "neutral",
          "positive",
          "neutral",
          "neutral",
          "neutral",
          "neutral",
          "positive",
          "neutral",
          "neutral",
          "neutral",
          "negative",
          "neutral",
          "neutral",
          "negative",
          "neutral",
          "neutral",
          "negative",
          "negative",
          "neutral",
          "neutral",
          "neutral",
          "neutral",
          "neutral",
          "negative",
          "positive",
          "negative",
          "neutral",
          "neutral",
          "negative",
          "neutral",
          "negative",
          "neutral"
         ],
         "legendgroup": "",
         "name": "",
         "showlegend": true,
         "type": "pie"
        }
       ],
       "layout": {
        "legend": {
         "tracegroupgap": 0
        },
        "piecolorway": [
         "rgb(102, 197, 204)",
         "rgb(246, 207, 113)",
         "rgb(248, 156, 116)",
         "rgb(220, 176, 242)",
         "rgb(135, 197, 95)",
         "rgb(158, 185, 243)",
         "rgb(254, 136, 177)",
         "rgb(201, 219, 116)",
         "rgb(139, 224, 164)",
         "rgb(180, 151, 231)",
         "rgb(179, 179, 179)"
        ],
        "template": {
         "data": {
          "bar": [
           {
            "error_x": {
             "color": "#2a3f5f"
            },
            "error_y": {
             "color": "#2a3f5f"
            },
            "marker": {
             "line": {
              "color": "#E5ECF6",
              "width": 0.5
             },
             "pattern": {
              "fillmode": "overlay",
              "size": 10,
              "solidity": 0.2
             }
            },
            "type": "bar"
           }
          ],
          "barpolar": [
           {
            "marker": {
             "line": {
              "color": "#E5ECF6",
              "width": 0.5
             },
             "pattern": {
              "fillmode": "overlay",
              "size": 10,
              "solidity": 0.2
             }
            },
            "type": "barpolar"
           }
          ],
          "carpet": [
           {
            "aaxis": {
             "endlinecolor": "#2a3f5f",
             "gridcolor": "white",
             "linecolor": "white",
             "minorgridcolor": "white",
             "startlinecolor": "#2a3f5f"
            },
            "baxis": {
             "endlinecolor": "#2a3f5f",
             "gridcolor": "white",
             "linecolor": "white",
             "minorgridcolor": "white",
             "startlinecolor": "#2a3f5f"
            },
            "type": "carpet"
           }
          ],
          "choropleth": [
           {
            "colorbar": {
             "outlinewidth": 0,
             "ticks": ""
            },
            "type": "choropleth"
           }
          ],
          "contour": [
           {
            "colorbar": {
             "outlinewidth": 0,
             "ticks": ""
            },
            "colorscale": [
             [
              0,
              "#0d0887"
             ],
             [
              0.1111111111111111,
              "#46039f"
             ],
             [
              0.2222222222222222,
              "#7201a8"
             ],
             [
              0.3333333333333333,
              "#9c179e"
             ],
             [
              0.4444444444444444,
              "#bd3786"
             ],
             [
              0.5555555555555556,
              "#d8576b"
             ],
             [
              0.6666666666666666,
              "#ed7953"
             ],
             [
              0.7777777777777778,
              "#fb9f3a"
             ],
             [
              0.8888888888888888,
              "#fdca26"
             ],
             [
              1,
              "#f0f921"
             ]
            ],
            "type": "contour"
           }
          ],
          "contourcarpet": [
           {
            "colorbar": {
             "outlinewidth": 0,
             "ticks": ""
            },
            "type": "contourcarpet"
           }
          ],
          "heatmap": [
           {
            "colorbar": {
             "outlinewidth": 0,
             "ticks": ""
            },
            "colorscale": [
             [
              0,
              "#0d0887"
             ],
             [
              0.1111111111111111,
              "#46039f"
             ],
             [
              0.2222222222222222,
              "#7201a8"
             ],
             [
              0.3333333333333333,
              "#9c179e"
             ],
             [
              0.4444444444444444,
              "#bd3786"
             ],
             [
              0.5555555555555556,
              "#d8576b"
             ],
             [
              0.6666666666666666,
              "#ed7953"
             ],
             [
              0.7777777777777778,
              "#fb9f3a"
             ],
             [
              0.8888888888888888,
              "#fdca26"
             ],
             [
              1,
              "#f0f921"
             ]
            ],
            "type": "heatmap"
           }
          ],
          "heatmapgl": [
           {
            "colorbar": {
             "outlinewidth": 0,
             "ticks": ""
            },
            "colorscale": [
             [
              0,
              "#0d0887"
             ],
             [
              0.1111111111111111,
              "#46039f"
             ],
             [
              0.2222222222222222,
              "#7201a8"
             ],
             [
              0.3333333333333333,
              "#9c179e"
             ],
             [
              0.4444444444444444,
              "#bd3786"
             ],
             [
              0.5555555555555556,
              "#d8576b"
             ],
             [
              0.6666666666666666,
              "#ed7953"
             ],
             [
              0.7777777777777778,
              "#fb9f3a"
             ],
             [
              0.8888888888888888,
              "#fdca26"
             ],
             [
              1,
              "#f0f921"
             ]
            ],
            "type": "heatmapgl"
           }
          ],
          "histogram": [
           {
            "marker": {
             "pattern": {
              "fillmode": "overlay",
              "size": 10,
              "solidity": 0.2
             }
            },
            "type": "histogram"
           }
          ],
          "histogram2d": [
           {
            "colorbar": {
             "outlinewidth": 0,
             "ticks": ""
            },
            "colorscale": [
             [
              0,
              "#0d0887"
             ],
             [
              0.1111111111111111,
              "#46039f"
             ],
             [
              0.2222222222222222,
              "#7201a8"
             ],
             [
              0.3333333333333333,
              "#9c179e"
             ],
             [
              0.4444444444444444,
              "#bd3786"
             ],
             [
              0.5555555555555556,
              "#d8576b"
             ],
             [
              0.6666666666666666,
              "#ed7953"
             ],
             [
              0.7777777777777778,
              "#fb9f3a"
             ],
             [
              0.8888888888888888,
              "#fdca26"
             ],
             [
              1,
              "#f0f921"
             ]
            ],
            "type": "histogram2d"
           }
          ],
          "histogram2dcontour": [
           {
            "colorbar": {
             "outlinewidth": 0,
             "ticks": ""
            },
            "colorscale": [
             [
              0,
              "#0d0887"
             ],
             [
              0.1111111111111111,
              "#46039f"
             ],
             [
              0.2222222222222222,
              "#7201a8"
             ],
             [
              0.3333333333333333,
              "#9c179e"
             ],
             [
              0.4444444444444444,
              "#bd3786"
             ],
             [
              0.5555555555555556,
              "#d8576b"
             ],
             [
              0.6666666666666666,
              "#ed7953"
             ],
             [
              0.7777777777777778,
              "#fb9f3a"
             ],
             [
              0.8888888888888888,
              "#fdca26"
             ],
             [
              1,
              "#f0f921"
             ]
            ],
            "type": "histogram2dcontour"
           }
          ],
          "mesh3d": [
           {
            "colorbar": {
             "outlinewidth": 0,
             "ticks": ""
            },
            "type": "mesh3d"
           }
          ],
          "parcoords": [
           {
            "line": {
             "colorbar": {
              "outlinewidth": 0,
              "ticks": ""
             }
            },
            "type": "parcoords"
           }
          ],
          "pie": [
           {
            "automargin": true,
            "type": "pie"
           }
          ],
          "scatter": [
           {
            "fillpattern": {
             "fillmode": "overlay",
             "size": 10,
             "solidity": 0.2
            },
            "type": "scatter"
           }
          ],
          "scatter3d": [
           {
            "line": {
             "colorbar": {
              "outlinewidth": 0,
              "ticks": ""
             }
            },
            "marker": {
             "colorbar": {
              "outlinewidth": 0,
              "ticks": ""
             }
            },
            "type": "scatter3d"
           }
          ],
          "scattercarpet": [
           {
            "marker": {
             "colorbar": {
              "outlinewidth": 0,
              "ticks": ""
             }
            },
            "type": "scattercarpet"
           }
          ],
          "scattergeo": [
           {
            "marker": {
             "colorbar": {
              "outlinewidth": 0,
              "ticks": ""
             }
            },
            "type": "scattergeo"
           }
          ],
          "scattergl": [
           {
            "marker": {
             "colorbar": {
              "outlinewidth": 0,
              "ticks": ""
             }
            },
            "type": "scattergl"
           }
          ],
          "scattermapbox": [
           {
            "marker": {
             "colorbar": {
              "outlinewidth": 0,
              "ticks": ""
             }
            },
            "type": "scattermapbox"
           }
          ],
          "scatterpolar": [
           {
            "marker": {
             "colorbar": {
              "outlinewidth": 0,
              "ticks": ""
             }
            },
            "type": "scatterpolar"
           }
          ],
          "scatterpolargl": [
           {
            "marker": {
             "colorbar": {
              "outlinewidth": 0,
              "ticks": ""
             }
            },
            "type": "scatterpolargl"
           }
          ],
          "scatterternary": [
           {
            "marker": {
             "colorbar": {
              "outlinewidth": 0,
              "ticks": ""
             }
            },
            "type": "scatterternary"
           }
          ],
          "surface": [
           {
            "colorbar": {
             "outlinewidth": 0,
             "ticks": ""
            },
            "colorscale": [
             [
              0,
              "#0d0887"
             ],
             [
              0.1111111111111111,
              "#46039f"
             ],
             [
              0.2222222222222222,
              "#7201a8"
             ],
             [
              0.3333333333333333,
              "#9c179e"
             ],
             [
              0.4444444444444444,
              "#bd3786"
             ],
             [
              0.5555555555555556,
              "#d8576b"
             ],
             [
              0.6666666666666666,
              "#ed7953"
             ],
             [
              0.7777777777777778,
              "#fb9f3a"
             ],
             [
              0.8888888888888888,
              "#fdca26"
             ],
             [
              1,
              "#f0f921"
             ]
            ],
            "type": "surface"
           }
          ],
          "table": [
           {
            "cells": {
             "fill": {
              "color": "#EBF0F8"
             },
             "line": {
              "color": "white"
             }
            },
            "header": {
             "fill": {
              "color": "#C8D4E3"
             },
             "line": {
              "color": "white"
             }
            },
            "type": "table"
           }
          ]
         },
         "layout": {
          "annotationdefaults": {
           "arrowcolor": "#2a3f5f",
           "arrowhead": 0,
           "arrowwidth": 1
          },
          "autotypenumbers": "strict",
          "coloraxis": {
           "colorbar": {
            "outlinewidth": 0,
            "ticks": ""
           }
          },
          "colorscale": {
           "diverging": [
            [
             0,
             "#8e0152"
            ],
            [
             0.1,
             "#c51b7d"
            ],
            [
             0.2,
             "#de77ae"
            ],
            [
             0.3,
             "#f1b6da"
            ],
            [
             0.4,
             "#fde0ef"
            ],
            [
             0.5,
             "#f7f7f7"
            ],
            [
             0.6,
             "#e6f5d0"
            ],
            [
             0.7,
             "#b8e186"
            ],
            [
             0.8,
             "#7fbc41"
            ],
            [
             0.9,
             "#4d9221"
            ],
            [
             1,
             "#276419"
            ]
           ],
           "sequential": [
            [
             0,
             "#0d0887"
            ],
            [
             0.1111111111111111,
             "#46039f"
            ],
            [
             0.2222222222222222,
             "#7201a8"
            ],
            [
             0.3333333333333333,
             "#9c179e"
            ],
            [
             0.4444444444444444,
             "#bd3786"
            ],
            [
             0.5555555555555556,
             "#d8576b"
            ],
            [
             0.6666666666666666,
             "#ed7953"
            ],
            [
             0.7777777777777778,
             "#fb9f3a"
            ],
            [
             0.8888888888888888,
             "#fdca26"
            ],
            [
             1,
             "#f0f921"
            ]
           ],
           "sequentialminus": [
            [
             0,
             "#0d0887"
            ],
            [
             0.1111111111111111,
             "#46039f"
            ],
            [
             0.2222222222222222,
             "#7201a8"
            ],
            [
             0.3333333333333333,
             "#9c179e"
            ],
            [
             0.4444444444444444,
             "#bd3786"
            ],
            [
             0.5555555555555556,
             "#d8576b"
            ],
            [
             0.6666666666666666,
             "#ed7953"
            ],
            [
             0.7777777777777778,
             "#fb9f3a"
            ],
            [
             0.8888888888888888,
             "#fdca26"
            ],
            [
             1,
             "#f0f921"
            ]
           ]
          },
          "colorway": [
           "#636efa",
           "#EF553B",
           "#00cc96",
           "#ab63fa",
           "#FFA15A",
           "#19d3f3",
           "#FF6692",
           "#B6E880",
           "#FF97FF",
           "#FECB52"
          ],
          "font": {
           "color": "#2a3f5f"
          },
          "geo": {
           "bgcolor": "white",
           "lakecolor": "white",
           "landcolor": "#E5ECF6",
           "showlakes": true,
           "showland": true,
           "subunitcolor": "white"
          },
          "hoverlabel": {
           "align": "left"
          },
          "hovermode": "closest",
          "mapbox": {
           "style": "light"
          },
          "paper_bgcolor": "white",
          "plot_bgcolor": "#E5ECF6",
          "polar": {
           "angularaxis": {
            "gridcolor": "white",
            "linecolor": "white",
            "ticks": ""
           },
           "bgcolor": "#E5ECF6",
           "radialaxis": {
            "gridcolor": "white",
            "linecolor": "white",
            "ticks": ""
           }
          },
          "scene": {
           "xaxis": {
            "backgroundcolor": "#E5ECF6",
            "gridcolor": "white",
            "gridwidth": 2,
            "linecolor": "white",
            "showbackground": true,
            "ticks": "",
            "zerolinecolor": "white"
           },
           "yaxis": {
            "backgroundcolor": "#E5ECF6",
            "gridcolor": "white",
            "gridwidth": 2,
            "linecolor": "white",
            "showbackground": true,
            "ticks": "",
            "zerolinecolor": "white"
           },
           "zaxis": {
            "backgroundcolor": "#E5ECF6",
            "gridcolor": "white",
            "gridwidth": 2,
            "linecolor": "white",
            "showbackground": true,
            "ticks": "",
            "zerolinecolor": "white"
           }
          },
          "shapedefaults": {
           "line": {
            "color": "#2a3f5f"
           }
          },
          "ternary": {
           "aaxis": {
            "gridcolor": "white",
            "linecolor": "white",
            "ticks": ""
           },
           "baxis": {
            "gridcolor": "white",
            "linecolor": "white",
            "ticks": ""
           },
           "bgcolor": "#E5ECF6",
           "caxis": {
            "gridcolor": "white",
            "linecolor": "white",
            "ticks": ""
           }
          },
          "title": {
           "x": 0.05
          },
          "xaxis": {
           "automargin": true,
           "gridcolor": "white",
           "linecolor": "white",
           "ticks": "",
           "title": {
            "standoff": 15
           },
           "zerolinecolor": "white",
           "zerolinewidth": 2
          },
          "yaxis": {
           "automargin": true,
           "gridcolor": "white",
           "linecolor": "white",
           "ticks": "",
           "title": {
            "standoff": 15
           },
           "zerolinecolor": "white",
           "zerolinewidth": 2
          }
         }
        },
        "title": {
         "text": "Proportion of Sentiments"
        }
       }
      }
     },
     "metadata": {},
     "output_type": "display_data"
    }
   ],
   "source": [
    "fig_pie = px.pie(df, names='sentiment_label', title='Proportion of Sentiments',\n",
    "                 color_discrete_sequence=px.colors.qualitative.Pastel)\n",
    "fig_pie.show()"
   ]
  },
  {
   "cell_type": "markdown",
   "metadata": {},
   "source": [
    "Box Plot"
   ]
  },
  {
   "cell_type": "code",
   "execution_count": 18,
   "metadata": {},
   "outputs": [
    {
     "data": {
      "application/vnd.plotly.v1+json": {
       "config": {
        "plotlyServerURL": "https://plot.ly"
       },
       "data": [
        {
         "alignmentgroup": "True",
         "hovertemplate": "Sentiment=%{x}<br>Score=%{y}<extra></extra>",
         "legendgroup": "negative",
         "marker": {
          "color": "rgb(229, 134, 6)"
         },
         "name": "negative",
         "notched": false,
         "offsetgroup": "negative",
         "orientation": "v",
         "showlegend": true,
         "type": "box",
         "x": [
          "negative",
          "negative",
          "negative",
          "negative",
          "negative",
          "negative",
          "negative",
          "negative",
          "negative",
          "negative",
          "negative",
          "negative",
          "negative",
          "negative",
          "negative",
          "negative",
          "negative",
          "negative",
          "negative",
          "negative",
          "negative",
          "negative",
          "negative",
          "negative",
          "negative",
          "negative",
          "negative",
          "negative",
          "negative",
          "negative",
          "negative",
          "negative",
          "negative",
          "negative",
          "negative",
          "negative",
          "negative",
          "negative",
          "negative",
          "negative",
          "negative",
          "negative",
          "negative",
          "negative",
          "negative",
          "negative",
          "negative",
          "negative",
          "negative",
          "negative",
          "negative",
          "negative",
          "negative",
          "negative",
          "negative",
          "negative",
          "negative",
          "negative",
          "negative",
          "negative",
          "negative",
          "negative",
          "negative",
          "negative",
          "negative",
          "negative",
          "negative",
          "negative",
          "negative",
          "negative",
          "negative",
          "negative",
          "negative",
          "negative",
          "negative",
          "negative",
          "negative",
          "negative",
          "negative",
          "negative",
          "negative",
          "negative",
          "negative",
          "negative",
          "negative",
          "negative",
          "negative",
          "negative",
          "negative",
          "negative",
          "negative",
          "negative",
          "negative",
          "negative",
          "negative",
          "negative",
          "negative",
          "negative",
          "negative",
          "negative",
          "negative",
          "negative",
          "negative",
          "negative",
          "negative",
          "negative",
          "negative",
          "negative",
          "negative",
          "negative",
          "negative",
          "negative",
          "negative",
          "negative",
          "negative",
          "negative",
          "negative",
          "negative",
          "negative",
          "negative",
          "negative",
          "negative",
          "negative",
          "negative",
          "negative",
          "negative",
          "negative",
          "negative",
          "negative",
          "negative",
          "negative",
          "negative",
          "negative",
          "negative",
          "negative",
          "negative",
          "negative",
          "negative",
          "negative",
          "negative",
          "negative",
          "negative",
          "negative",
          "negative",
          "negative",
          "negative",
          "negative",
          "negative",
          "negative",
          "negative",
          "negative",
          "negative",
          "negative",
          "negative",
          "negative",
          "negative",
          "negative",
          "negative",
          "negative",
          "negative",
          "negative",
          "negative",
          "negative",
          "negative",
          "negative",
          "negative",
          "negative",
          "negative",
          "negative",
          "negative",
          "negative",
          "negative",
          "negative",
          "negative",
          "negative",
          "negative",
          "negative",
          "negative",
          "negative",
          "negative",
          "negative",
          "negative",
          "negative",
          "negative",
          "negative",
          "negative",
          "negative",
          "negative",
          "negative",
          "negative",
          "negative",
          "negative",
          "negative",
          "negative",
          "negative",
          "negative",
          "negative",
          "negative",
          "negative",
          "negative",
          "negative",
          "negative",
          "negative",
          "negative",
          "negative",
          "negative",
          "negative",
          "negative",
          "negative",
          "negative",
          "negative",
          "negative",
          "negative",
          "negative",
          "negative",
          "negative",
          "negative",
          "negative",
          "negative",
          "negative",
          "negative",
          "negative",
          "negative",
          "negative",
          "negative",
          "negative",
          "negative",
          "negative",
          "negative",
          "negative",
          "negative",
          "negative",
          "negative",
          "negative",
          "negative",
          "negative",
          "negative",
          "negative",
          "negative",
          "negative",
          "negative",
          "negative"
         ],
         "x0": " ",
         "xaxis": "x",
         "y": [
          0.6844116449356079,
          0.9598277807235718,
          0.8931342363357544,
          0.9660218358039856,
          0.8324123620986938,
          0.8596867918968201,
          0.624783992767334,
          0.8007044196128845,
          0.8783512115478516,
          0.6982851624488831,
          0.9508854746818542,
          0.9758205413818359,
          0.7245570421218872,
          0.533424973487854,
          0.9142981767654419,
          0.652633547782898,
          0.8896693587303162,
          0.5283809900283813,
          0.7496997714042664,
          0.8055874705314636,
          0.9516885280609131,
          0.9317435026168823,
          0.9642298817634583,
          0.7606860399246216,
          0.6161172986030579,
          0.6444586515426636,
          0.8554745316505432,
          0.5829156637191772,
          0.7767859101295471,
          0.8316371440887451,
          0.6830209493637085,
          0.8107643127441406,
          0.7363787293434143,
          0.5882992744445801,
          0.7083826065063477,
          0.8561697006225586,
          0.6812360882759094,
          0.4949074983596802,
          0.8452256917953491,
          0.5442541837692261,
          0.5768190026283264,
          0.7472358345985413,
          0.923923671245575,
          0.3987583816051483,
          0.9568700790405273,
          0.7122962474822998,
          0.6905547380447388,
          0.5372357368469238,
          0.3647318482398987,
          0.8344703316688538,
          0.5065611600875854,
          0.9766518473625183,
          0.47808223962783813,
          0.5473706722259521,
          0.7847577929496765,
          0.9228966236114502,
          0.9299363493919373,
          0.7100430727005005,
          0.8075113296508789,
          0.7015340924263,
          0.4922817051410675,
          0.894903302192688,
          0.6957449316978455,
          0.4599994122982025,
          0.5622287392616272,
          0.9567261934280396,
          0.9061763882637024,
          0.8019732236862183,
          0.9464092254638672,
          0.9381622672080994,
          0.9358811378479004,
          0.9311062693595886,
          0.9342103004455566,
          0.6504009366035461,
          0.955229640007019,
          0.9604970812797546,
          0.953597366809845,
          0.9418027400970459,
          0.7613087296485901,
          0.4701424539089203,
          0.8782426118850708,
          0.8318565487861633,
          0.7573547959327698,
          0.5158636569976807,
          0.5144802927970886,
          0.8629124164581299,
          0.9618808627128601,
          0.7559502124786377,
          0.5421459674835205,
          0.877926230430603,
          0.9217843413352966,
          0.8206207752227783,
          0.6940975189208984,
          0.5650840997695923,
          0.7344152927398682,
          0.5859012007713318,
          0.8647587895393372,
          0.8179652094841003,
          0.9507485032081604,
          0.5330899357795715,
          0.9369074106216431,
          0.6564491391181946,
          0.620660126209259,
          0.5919985175132751,
          0.8484643697738647,
          0.9697064757347107,
          0.9546512365341187,
          0.6387255191802979,
          0.5910643339157104,
          0.876249372959137,
          0.524512767791748,
          0.9664314985275269,
          0.7415056228637695,
          0.9192972183227539,
          0.5436335802078247,
          0.9001787304878235,
          0.7054468989372253,
          0.4732016921043396,
          0.7662620544433594,
          0.6899420619010925,
          0.8621405959129333,
          0.7098166942596436,
          0.6652089357376099,
          0.9376557469367981,
          0.8815626502037048,
          0.7171617746353149,
          0.881220817565918,
          0.9488491415977478,
          0.4734457731246948,
          0.9472197890281677,
          0.6760053634643555,
          0.6021092534065247,
          0.49856510758399963,
          0.545840859413147,
          0.6306787729263306,
          0.8357648849487305,
          0.8727406859397888,
          0.9112987518310547,
          0.864264726638794,
          0.923032820224762,
          0.640688419342041,
          0.8861351609230042,
          0.8576114177703857,
          0.48093318939208984,
          0.547768235206604,
          0.7204831838607788,
          0.7751073241233826,
          0.6289926767349243,
          0.6461223363876343,
          0.7336935997009277,
          0.49075764417648315,
          0.5521669387817383,
          0.8906427621841431,
          0.6450778841972351,
          0.4787907302379608,
          0.737764298915863,
          0.974699079990387,
          0.8744116425514221,
          0.962681233882904,
          0.859684944152832,
          0.7018630504608154,
          0.943649172782898,
          0.5384820699691772,
          0.6506232023239136,
          0.58909672498703,
          0.8464059233665466,
          0.7314615845680237,
          0.7631508111953735,
          0.6972702145576477,
          0.5031427145004272,
          0.9657853841781616,
          0.8476840257644653,
          0.83249431848526,
          0.8941887021064758,
          0.5022851228713989,
          0.7317686676979065,
          0.5627927184104919,
          0.7773147821426392,
          0.8076682686805725,
          0.7742295265197754,
          0.6529457569122314,
          0.9218814969062805,
          0.8619846701622009,
          0.9636470079421997,
          0.9704118967056274,
          0.956058919429779,
          0.9432874321937561,
          0.7002882957458496,
          0.9344775676727295,
          0.811246395111084,
          0.48991328477859497,
          0.6574026942253113,
          0.9402020573616028,
          0.7985897064208984,
          0.5604499578475952,
          0.965655505657196,
          0.49017077684402466,
          0.8446922302246094,
          0.8671103119850159,
          0.749474287033081,
          0.8816601037979126,
          0.6266695261001587,
          0.8546184301376343,
          0.8016890287399292,
          0.9352507591247559,
          0.7386693358421326,
          0.7496957778930664,
          0.8765495419502258,
          0.8081269860267639,
          0.7994849681854248,
          0.5545473098754883,
          0.8716006278991699,
          0.5545406341552734,
          0.51345294713974,
          0.554601788520813,
          0.5654162168502808,
          0.7235667705535889,
          0.860733151435852,
          0.8112511038780212,
          0.6657131910324097,
          0.9484803676605225,
          0.8157756328582764,
          0.7274236679077148,
          0.8974123597145081,
          0.7480308413505554,
          0.8008264899253845,
          0.5131685733795166,
          0.6031818389892578,
          0.8096835017204285,
          0.7791486978530884,
          0.5227713584899902,
          0.608397364616394,
          0.9189318418502808,
          0.9123508334159851,
          0.7341286540031433,
          0.8878822922706604,
          0.5553810000419617,
          0.8891512751579285,
          0.6011866331100464,
          0.6018556356430054,
          0.5583208203315735,
          0.6119132041931152
         ],
         "y0": " ",
         "yaxis": "y"
        },
        {
         "alignmentgroup": "True",
         "hovertemplate": "Sentiment=%{x}<br>Score=%{y}<extra></extra>",
         "legendgroup": "neutral",
         "marker": {
          "color": "rgb(93, 105, 177)"
         },
         "name": "neutral",
         "notched": false,
         "offsetgroup": "neutral",
         "orientation": "v",
         "showlegend": true,
         "type": "box",
         "x": [
          "neutral",
          "neutral",
          "neutral",
          "neutral",
          "neutral",
          "neutral",
          "neutral",
          "neutral",
          "neutral",
          "neutral",
          "neutral",
          "neutral",
          "neutral",
          "neutral",
          "neutral",
          "neutral",
          "neutral",
          "neutral",
          "neutral",
          "neutral",
          "neutral",
          "neutral",
          "neutral",
          "neutral",
          "neutral",
          "neutral",
          "neutral",
          "neutral",
          "neutral",
          "neutral",
          "neutral",
          "neutral",
          "neutral",
          "neutral",
          "neutral",
          "neutral",
          "neutral",
          "neutral",
          "neutral",
          "neutral",
          "neutral",
          "neutral",
          "neutral",
          "neutral",
          "neutral",
          "neutral",
          "neutral",
          "neutral",
          "neutral",
          "neutral",
          "neutral",
          "neutral",
          "neutral",
          "neutral",
          "neutral",
          "neutral",
          "neutral",
          "neutral",
          "neutral",
          "neutral",
          "neutral",
          "neutral",
          "neutral",
          "neutral",
          "neutral",
          "neutral",
          "neutral",
          "neutral",
          "neutral",
          "neutral",
          "neutral",
          "neutral",
          "neutral",
          "neutral",
          "neutral",
          "neutral",
          "neutral",
          "neutral",
          "neutral",
          "neutral",
          "neutral",
          "neutral",
          "neutral",
          "neutral",
          "neutral",
          "neutral",
          "neutral",
          "neutral",
          "neutral",
          "neutral",
          "neutral",
          "neutral",
          "neutral",
          "neutral",
          "neutral",
          "neutral",
          "neutral",
          "neutral",
          "neutral",
          "neutral",
          "neutral",
          "neutral",
          "neutral",
          "neutral",
          "neutral",
          "neutral",
          "neutral",
          "neutral",
          "neutral",
          "neutral",
          "neutral",
          "neutral",
          "neutral",
          "neutral",
          "neutral",
          "neutral",
          "neutral",
          "neutral",
          "neutral",
          "neutral",
          "neutral",
          "neutral",
          "neutral",
          "neutral",
          "neutral",
          "neutral",
          "neutral",
          "neutral",
          "neutral",
          "neutral",
          "neutral",
          "neutral",
          "neutral",
          "neutral",
          "neutral",
          "neutral",
          "neutral",
          "neutral",
          "neutral",
          "neutral",
          "neutral",
          "neutral",
          "neutral",
          "neutral",
          "neutral",
          "neutral",
          "neutral",
          "neutral",
          "neutral",
          "neutral",
          "neutral",
          "neutral",
          "neutral",
          "neutral",
          "neutral",
          "neutral",
          "neutral",
          "neutral",
          "neutral",
          "neutral",
          "neutral",
          "neutral",
          "neutral",
          "neutral",
          "neutral",
          "neutral",
          "neutral",
          "neutral",
          "neutral",
          "neutral",
          "neutral",
          "neutral",
          "neutral",
          "neutral",
          "neutral",
          "neutral",
          "neutral",
          "neutral",
          "neutral",
          "neutral",
          "neutral",
          "neutral",
          "neutral",
          "neutral",
          "neutral",
          "neutral",
          "neutral",
          "neutral",
          "neutral",
          "neutral",
          "neutral",
          "neutral",
          "neutral",
          "neutral",
          "neutral",
          "neutral",
          "neutral",
          "neutral",
          "neutral",
          "neutral",
          "neutral",
          "neutral",
          "neutral",
          "neutral",
          "neutral",
          "neutral"
         ],
         "x0": " ",
         "xaxis": "x",
         "y": [
          0.7179846167564392,
          0.617206871509552,
          0.49606582522392273,
          0.4628812074661255,
          0.5821076035499573,
          0.7179846167564392,
          0.6375588178634644,
          0.7146637439727783,
          0.7200583815574646,
          0.8843174576759338,
          0.8569942712783813,
          0.6560844779014587,
          0.6376821398735046,
          0.5865886807441711,
          0.5976676344871521,
          0.5157402157783508,
          0.5904871225357056,
          0.6524252891540527,
          0.6251445412635803,
          0.680598795413971,
          0.7556318044662476,
          0.5534645915031433,
          0.7179846167564392,
          0.6873845458030701,
          0.6356114149093628,
          0.8337731957435608,
          0.5061480402946472,
          0.46466317772865295,
          0.37908998131752014,
          0.5644172430038452,
          0.4178158640861511,
          0.5355404615402222,
          0.7897912859916687,
          0.85957270860672,
          0.5376807451248169,
          0.5848074555397034,
          0.5848074555397034,
          0.5199788212776184,
          0.472319096326828,
          0.4301602244377136,
          0.4412163496017456,
          0.6691535115242004,
          0.6873845458030701,
          0.7003114223480225,
          0.5292626619338989,
          0.6136468052864075,
          0.5355404615402222,
          0.5355404615402222,
          0.5355404615402222,
          0.5355404615402222,
          0.5355404615402222,
          0.6118325591087341,
          0.4279479682445526,
          0.45820578932762146,
          0.5062838792800903,
          0.5044612288475037,
          0.5420368909835815,
          0.524988055229187,
          0.6524252891540527,
          0.7345539331436157,
          0.5519094467163086,
          0.6482115387916565,
          0.7622127532958984,
          0.7046082615852356,
          0.47189655900001526,
          0.4630317986011505,
          0.589188277721405,
          0.7531073689460754,
          0.6777364611625671,
          0.6873845458030701,
          0.5277237296104431,
          0.4858567416667938,
          0.6524252891540527,
          0.7166142463684082,
          0.6120045185089111,
          0.6878088712692261,
          0.6628777980804443,
          0.3852735757827759,
          0.8919557332992554,
          0.49115118384361267,
          0.8564165830612183,
          0.48970285058021545,
          0.591742753982544,
          0.4502313435077667,
          0.5353407859802246,
          0.4825415313243866,
          0.8374768495559692,
          0.5558218359947205,
          0.6524252891540527,
          0.6524252891540527,
          0.7147600650787354,
          0.5297521352767944,
          0.8413976430892944,
          0.8020595908164978,
          0.6836705207824707,
          0.7576717734336853,
          0.506439208984375,
          0.7630353569984436,
          0.5505381226539612,
          0.5533933043479919,
          0.46612483263015747,
          0.39135095477104187,
          0.5762755274772644,
          0.4726131856441498,
          0.6794530749320984,
          0.508201539516449,
          0.7964975833892822,
          0.7096047401428223,
          0.8269128799438477,
          0.5982199311256409,
          0.6873845458030701,
          0.6714370250701904,
          0.5583219528198242,
          0.6558164358139038,
          0.9349809288978577,
          0.49787020683288574,
          0.5116484761238098,
          0.6799202561378479,
          0.5984899997711182,
          0.7300089001655579,
          0.5409563183784485,
          0.5109647512435913,
          0.4828430414199829,
          0.6058938503265381,
          0.5359719395637512,
          0.6873845458030701,
          0.6340882182121277,
          0.6873845458030701,
          0.5020470023155212,
          0.6577389240264893,
          0.7974138855934143,
          0.7179846167564392,
          0.45988571643829346,
          0.4476530849933624,
          0.4223460555076599,
          0.6687411069869995,
          0.46372273564338684,
          0.7887800335884094,
          0.881022036075592,
          0.5402682423591614,
          0.7779128551483154,
          0.49969881772994995,
          0.7441346645355225,
          0.9236313104629517,
          0.5745928883552551,
          0.48306092619895935,
          0.6657504439353943,
          0.6128664016723633,
          0.4908283054828644,
          0.5123002529144287,
          0.6651883721351624,
          0.553091287612915,
          0.6345592141151428,
          0.7179846167564392,
          0.8079931735992432,
          0.794682502746582,
          0.7690029144287109,
          0.5186768770217896,
          0.5750545859336853,
          0.8482438325881958,
          0.7727441787719727,
          0.8482438325881958,
          0.6206620335578918,
          0.5854923725128174,
          0.8379157185554504,
          0.7370213270187378,
          0.49046915769577026,
          0.6089794039726257,
          0.5416869521141052,
          0.4667467176914215,
          0.7292271256446838,
          0.8238406777381897,
          0.6320850849151611,
          0.8684043288230896,
          0.6725043654441833,
          0.4430140256881714,
          0.46735286712646484,
          0.6035988926887512,
          0.536824643611908,
          0.5308230519294739,
          0.6048275828361511,
          0.5340164303779602,
          0.7179846167564392,
          0.4964338541030884,
          0.6478812098503113,
          0.9096367955207825,
          0.5697371959686279,
          0.6779630184173584,
          0.5234728455543518,
          0.6576163172721863,
          0.6132804155349731,
          0.6254653334617615,
          0.6472862958908081,
          0.6239140629768372,
          0.9210731387138367,
          0.5286943316459656,
          0.4997921884059906,
          0.5875022411346436,
          0.657341718673706,
          0.5333262085914612,
          0.45529088377952576,
          0.6677724719047546,
          0.7906332015991211,
          0.5055935978889465,
          0.7369478940963745,
          0.8083170652389526
         ],
         "y0": " ",
         "yaxis": "y"
        },
        {
         "alignmentgroup": "True",
         "hovertemplate": "Sentiment=%{x}<br>Score=%{y}<extra></extra>",
         "legendgroup": "positive",
         "marker": {
          "color": "rgb(82, 188, 163)"
         },
         "name": "positive",
         "notched": false,
         "offsetgroup": "positive",
         "orientation": "v",
         "showlegend": true,
         "type": "box",
         "x": [
          "positive",
          "positive",
          "positive",
          "positive",
          "positive",
          "positive",
          "positive",
          "positive",
          "positive",
          "positive",
          "positive",
          "positive",
          "positive",
          "positive",
          "positive",
          "positive",
          "positive",
          "positive",
          "positive",
          "positive",
          "positive",
          "positive",
          "positive",
          "positive",
          "positive",
          "positive",
          "positive",
          "positive",
          "positive",
          "positive",
          "positive",
          "positive",
          "positive",
          "positive",
          "positive",
          "positive",
          "positive",
          "positive",
          "positive",
          "positive",
          "positive",
          "positive",
          "positive",
          "positive",
          "positive",
          "positive",
          "positive",
          "positive",
          "positive",
          "positive",
          "positive",
          "positive",
          "positive",
          "positive",
          "positive",
          "positive",
          "positive",
          "positive",
          "positive",
          "positive",
          "positive",
          "positive",
          "positive",
          "positive",
          "positive",
          "positive",
          "positive",
          "positive",
          "positive",
          "positive",
          "positive",
          "positive",
          "positive",
          "positive",
          "positive",
          "positive",
          "positive",
          "positive",
          "positive",
          "positive",
          "positive",
          "positive",
          "positive",
          "positive",
          "positive",
          "positive",
          "positive",
          "positive",
          "positive",
          "positive",
          "positive",
          "positive",
          "positive",
          "positive",
          "positive",
          "positive",
          "positive",
          "positive",
          "positive",
          "positive",
          "positive",
          "positive",
          "positive",
          "positive",
          "positive",
          "positive",
          "positive",
          "positive",
          "positive"
         ],
         "x0": " ",
         "xaxis": "x",
         "y": [
          0.7126445770263672,
          0.7970508337020874,
          0.5616422891616821,
          0.7190050482749939,
          0.6825491786003113,
          0.6069917678833008,
          0.8073827028274536,
          0.5759267210960388,
          0.9835790991783142,
          0.4085959494113922,
          0.9423792958259583,
          0.7410125136375427,
          0.9755422472953796,
          0.8805779218673706,
          0.6121122241020203,
          0.4074569642543793,
          0.9881653785705566,
          0.9848917722702026,
          0.9161284565925598,
          0.8123098015785217,
          0.9435496926307678,
          0.6011018753051758,
          0.7176352143287659,
          0.7204111218452454,
          0.8398739695549011,
          0.970109224319458,
          0.5853933095932007,
          0.6723042130470276,
          0.8223745822906494,
          0.6071087718009949,
          0.7747795581817627,
          0.8674283623695374,
          0.5131353735923767,
          0.7651985883712769,
          0.9537034630775452,
          0.4158061444759369,
          0.9149767160415649,
          0.8832119107246399,
          0.61221843957901,
          0.9614098072052002,
          0.835707426071167,
          0.6807044148445129,
          0.8204089999198914,
          0.4990926682949066,
          0.6145867109298706,
          0.8236538171768188,
          0.9698197245597839,
          0.9499812722206116,
          0.822176456451416,
          0.9861704111099243,
          0.7383741140365601,
          0.8592991232872009,
          0.6211875081062317,
          0.6244659423828125,
          0.9851299524307251,
          0.49863454699516296,
          0.9492291808128357,
          0.9856363534927368,
          0.9250152111053467,
          0.6375539898872375,
          0.699093222618103,
          0.49880844354629517,
          0.9307765960693359,
          0.5708892345428467,
          0.5065920352935791,
          0.9642719030380249,
          0.9422461986541748,
          0.9746725559234619,
          0.7870718836784363,
          0.76100754737854,
          0.977959394454956,
          0.9750886559486389,
          0.8595654964447021,
          0.508327305316925,
          0.7996280193328857,
          0.6182499527931213,
          0.7039937973022461,
          0.9852361679077148,
          0.9656917452812195,
          0.8469957113265991,
          0.7956006526947021,
          0.4780867099761963,
          0.894588828086853,
          0.6070952415466309,
          0.811403214931488,
          0.9230154156684875,
          0.8612871766090393,
          0.9785789847373962,
          0.7505537867546082,
          0.441286563873291,
          0.48421284556388855,
          0.656626284122467,
          0.6642724871635437,
          0.8242693543434143,
          0.9287870526313782,
          0.4473317861557007,
          0.97850501537323,
          0.5360020995140076,
          0.7552233338356018,
          0.8117825984954834,
          0.5342994332313538,
          0.6343538761138916,
          0.9282984733581543,
          0.9843475818634033,
          0.9855663776397705,
          0.9611293077468872,
          0.8401072025299072,
          0.6219742894172668,
          0.5843008756637573
         ],
         "y0": " ",
         "yaxis": "y"
        }
       ],
       "layout": {
        "boxmode": "overlay",
        "legend": {
         "title": {
          "text": "Sentiment"
         },
         "tracegroupgap": 0
        },
        "template": {
         "data": {
          "bar": [
           {
            "error_x": {
             "color": "#2a3f5f"
            },
            "error_y": {
             "color": "#2a3f5f"
            },
            "marker": {
             "line": {
              "color": "#E5ECF6",
              "width": 0.5
             },
             "pattern": {
              "fillmode": "overlay",
              "size": 10,
              "solidity": 0.2
             }
            },
            "type": "bar"
           }
          ],
          "barpolar": [
           {
            "marker": {
             "line": {
              "color": "#E5ECF6",
              "width": 0.5
             },
             "pattern": {
              "fillmode": "overlay",
              "size": 10,
              "solidity": 0.2
             }
            },
            "type": "barpolar"
           }
          ],
          "carpet": [
           {
            "aaxis": {
             "endlinecolor": "#2a3f5f",
             "gridcolor": "white",
             "linecolor": "white",
             "minorgridcolor": "white",
             "startlinecolor": "#2a3f5f"
            },
            "baxis": {
             "endlinecolor": "#2a3f5f",
             "gridcolor": "white",
             "linecolor": "white",
             "minorgridcolor": "white",
             "startlinecolor": "#2a3f5f"
            },
            "type": "carpet"
           }
          ],
          "choropleth": [
           {
            "colorbar": {
             "outlinewidth": 0,
             "ticks": ""
            },
            "type": "choropleth"
           }
          ],
          "contour": [
           {
            "colorbar": {
             "outlinewidth": 0,
             "ticks": ""
            },
            "colorscale": [
             [
              0,
              "#0d0887"
             ],
             [
              0.1111111111111111,
              "#46039f"
             ],
             [
              0.2222222222222222,
              "#7201a8"
             ],
             [
              0.3333333333333333,
              "#9c179e"
             ],
             [
              0.4444444444444444,
              "#bd3786"
             ],
             [
              0.5555555555555556,
              "#d8576b"
             ],
             [
              0.6666666666666666,
              "#ed7953"
             ],
             [
              0.7777777777777778,
              "#fb9f3a"
             ],
             [
              0.8888888888888888,
              "#fdca26"
             ],
             [
              1,
              "#f0f921"
             ]
            ],
            "type": "contour"
           }
          ],
          "contourcarpet": [
           {
            "colorbar": {
             "outlinewidth": 0,
             "ticks": ""
            },
            "type": "contourcarpet"
           }
          ],
          "heatmap": [
           {
            "colorbar": {
             "outlinewidth": 0,
             "ticks": ""
            },
            "colorscale": [
             [
              0,
              "#0d0887"
             ],
             [
              0.1111111111111111,
              "#46039f"
             ],
             [
              0.2222222222222222,
              "#7201a8"
             ],
             [
              0.3333333333333333,
              "#9c179e"
             ],
             [
              0.4444444444444444,
              "#bd3786"
             ],
             [
              0.5555555555555556,
              "#d8576b"
             ],
             [
              0.6666666666666666,
              "#ed7953"
             ],
             [
              0.7777777777777778,
              "#fb9f3a"
             ],
             [
              0.8888888888888888,
              "#fdca26"
             ],
             [
              1,
              "#f0f921"
             ]
            ],
            "type": "heatmap"
           }
          ],
          "heatmapgl": [
           {
            "colorbar": {
             "outlinewidth": 0,
             "ticks": ""
            },
            "colorscale": [
             [
              0,
              "#0d0887"
             ],
             [
              0.1111111111111111,
              "#46039f"
             ],
             [
              0.2222222222222222,
              "#7201a8"
             ],
             [
              0.3333333333333333,
              "#9c179e"
             ],
             [
              0.4444444444444444,
              "#bd3786"
             ],
             [
              0.5555555555555556,
              "#d8576b"
             ],
             [
              0.6666666666666666,
              "#ed7953"
             ],
             [
              0.7777777777777778,
              "#fb9f3a"
             ],
             [
              0.8888888888888888,
              "#fdca26"
             ],
             [
              1,
              "#f0f921"
             ]
            ],
            "type": "heatmapgl"
           }
          ],
          "histogram": [
           {
            "marker": {
             "pattern": {
              "fillmode": "overlay",
              "size": 10,
              "solidity": 0.2
             }
            },
            "type": "histogram"
           }
          ],
          "histogram2d": [
           {
            "colorbar": {
             "outlinewidth": 0,
             "ticks": ""
            },
            "colorscale": [
             [
              0,
              "#0d0887"
             ],
             [
              0.1111111111111111,
              "#46039f"
             ],
             [
              0.2222222222222222,
              "#7201a8"
             ],
             [
              0.3333333333333333,
              "#9c179e"
             ],
             [
              0.4444444444444444,
              "#bd3786"
             ],
             [
              0.5555555555555556,
              "#d8576b"
             ],
             [
              0.6666666666666666,
              "#ed7953"
             ],
             [
              0.7777777777777778,
              "#fb9f3a"
             ],
             [
              0.8888888888888888,
              "#fdca26"
             ],
             [
              1,
              "#f0f921"
             ]
            ],
            "type": "histogram2d"
           }
          ],
          "histogram2dcontour": [
           {
            "colorbar": {
             "outlinewidth": 0,
             "ticks": ""
            },
            "colorscale": [
             [
              0,
              "#0d0887"
             ],
             [
              0.1111111111111111,
              "#46039f"
             ],
             [
              0.2222222222222222,
              "#7201a8"
             ],
             [
              0.3333333333333333,
              "#9c179e"
             ],
             [
              0.4444444444444444,
              "#bd3786"
             ],
             [
              0.5555555555555556,
              "#d8576b"
             ],
             [
              0.6666666666666666,
              "#ed7953"
             ],
             [
              0.7777777777777778,
              "#fb9f3a"
             ],
             [
              0.8888888888888888,
              "#fdca26"
             ],
             [
              1,
              "#f0f921"
             ]
            ],
            "type": "histogram2dcontour"
           }
          ],
          "mesh3d": [
           {
            "colorbar": {
             "outlinewidth": 0,
             "ticks": ""
            },
            "type": "mesh3d"
           }
          ],
          "parcoords": [
           {
            "line": {
             "colorbar": {
              "outlinewidth": 0,
              "ticks": ""
             }
            },
            "type": "parcoords"
           }
          ],
          "pie": [
           {
            "automargin": true,
            "type": "pie"
           }
          ],
          "scatter": [
           {
            "fillpattern": {
             "fillmode": "overlay",
             "size": 10,
             "solidity": 0.2
            },
            "type": "scatter"
           }
          ],
          "scatter3d": [
           {
            "line": {
             "colorbar": {
              "outlinewidth": 0,
              "ticks": ""
             }
            },
            "marker": {
             "colorbar": {
              "outlinewidth": 0,
              "ticks": ""
             }
            },
            "type": "scatter3d"
           }
          ],
          "scattercarpet": [
           {
            "marker": {
             "colorbar": {
              "outlinewidth": 0,
              "ticks": ""
             }
            },
            "type": "scattercarpet"
           }
          ],
          "scattergeo": [
           {
            "marker": {
             "colorbar": {
              "outlinewidth": 0,
              "ticks": ""
             }
            },
            "type": "scattergeo"
           }
          ],
          "scattergl": [
           {
            "marker": {
             "colorbar": {
              "outlinewidth": 0,
              "ticks": ""
             }
            },
            "type": "scattergl"
           }
          ],
          "scattermapbox": [
           {
            "marker": {
             "colorbar": {
              "outlinewidth": 0,
              "ticks": ""
             }
            },
            "type": "scattermapbox"
           }
          ],
          "scatterpolar": [
           {
            "marker": {
             "colorbar": {
              "outlinewidth": 0,
              "ticks": ""
             }
            },
            "type": "scatterpolar"
           }
          ],
          "scatterpolargl": [
           {
            "marker": {
             "colorbar": {
              "outlinewidth": 0,
              "ticks": ""
             }
            },
            "type": "scatterpolargl"
           }
          ],
          "scatterternary": [
           {
            "marker": {
             "colorbar": {
              "outlinewidth": 0,
              "ticks": ""
             }
            },
            "type": "scatterternary"
           }
          ],
          "surface": [
           {
            "colorbar": {
             "outlinewidth": 0,
             "ticks": ""
            },
            "colorscale": [
             [
              0,
              "#0d0887"
             ],
             [
              0.1111111111111111,
              "#46039f"
             ],
             [
              0.2222222222222222,
              "#7201a8"
             ],
             [
              0.3333333333333333,
              "#9c179e"
             ],
             [
              0.4444444444444444,
              "#bd3786"
             ],
             [
              0.5555555555555556,
              "#d8576b"
             ],
             [
              0.6666666666666666,
              "#ed7953"
             ],
             [
              0.7777777777777778,
              "#fb9f3a"
             ],
             [
              0.8888888888888888,
              "#fdca26"
             ],
             [
              1,
              "#f0f921"
             ]
            ],
            "type": "surface"
           }
          ],
          "table": [
           {
            "cells": {
             "fill": {
              "color": "#EBF0F8"
             },
             "line": {
              "color": "white"
             }
            },
            "header": {
             "fill": {
              "color": "#C8D4E3"
             },
             "line": {
              "color": "white"
             }
            },
            "type": "table"
           }
          ]
         },
         "layout": {
          "annotationdefaults": {
           "arrowcolor": "#2a3f5f",
           "arrowhead": 0,
           "arrowwidth": 1
          },
          "autotypenumbers": "strict",
          "coloraxis": {
           "colorbar": {
            "outlinewidth": 0,
            "ticks": ""
           }
          },
          "colorscale": {
           "diverging": [
            [
             0,
             "#8e0152"
            ],
            [
             0.1,
             "#c51b7d"
            ],
            [
             0.2,
             "#de77ae"
            ],
            [
             0.3,
             "#f1b6da"
            ],
            [
             0.4,
             "#fde0ef"
            ],
            [
             0.5,
             "#f7f7f7"
            ],
            [
             0.6,
             "#e6f5d0"
            ],
            [
             0.7,
             "#b8e186"
            ],
            [
             0.8,
             "#7fbc41"
            ],
            [
             0.9,
             "#4d9221"
            ],
            [
             1,
             "#276419"
            ]
           ],
           "sequential": [
            [
             0,
             "#0d0887"
            ],
            [
             0.1111111111111111,
             "#46039f"
            ],
            [
             0.2222222222222222,
             "#7201a8"
            ],
            [
             0.3333333333333333,
             "#9c179e"
            ],
            [
             0.4444444444444444,
             "#bd3786"
            ],
            [
             0.5555555555555556,
             "#d8576b"
            ],
            [
             0.6666666666666666,
             "#ed7953"
            ],
            [
             0.7777777777777778,
             "#fb9f3a"
            ],
            [
             0.8888888888888888,
             "#fdca26"
            ],
            [
             1,
             "#f0f921"
            ]
           ],
           "sequentialminus": [
            [
             0,
             "#0d0887"
            ],
            [
             0.1111111111111111,
             "#46039f"
            ],
            [
             0.2222222222222222,
             "#7201a8"
            ],
            [
             0.3333333333333333,
             "#9c179e"
            ],
            [
             0.4444444444444444,
             "#bd3786"
            ],
            [
             0.5555555555555556,
             "#d8576b"
            ],
            [
             0.6666666666666666,
             "#ed7953"
            ],
            [
             0.7777777777777778,
             "#fb9f3a"
            ],
            [
             0.8888888888888888,
             "#fdca26"
            ],
            [
             1,
             "#f0f921"
            ]
           ]
          },
          "colorway": [
           "#636efa",
           "#EF553B",
           "#00cc96",
           "#ab63fa",
           "#FFA15A",
           "#19d3f3",
           "#FF6692",
           "#B6E880",
           "#FF97FF",
           "#FECB52"
          ],
          "font": {
           "color": "#2a3f5f"
          },
          "geo": {
           "bgcolor": "white",
           "lakecolor": "white",
           "landcolor": "#E5ECF6",
           "showlakes": true,
           "showland": true,
           "subunitcolor": "white"
          },
          "hoverlabel": {
           "align": "left"
          },
          "hovermode": "closest",
          "mapbox": {
           "style": "light"
          },
          "paper_bgcolor": "white",
          "plot_bgcolor": "#E5ECF6",
          "polar": {
           "angularaxis": {
            "gridcolor": "white",
            "linecolor": "white",
            "ticks": ""
           },
           "bgcolor": "#E5ECF6",
           "radialaxis": {
            "gridcolor": "white",
            "linecolor": "white",
            "ticks": ""
           }
          },
          "scene": {
           "xaxis": {
            "backgroundcolor": "#E5ECF6",
            "gridcolor": "white",
            "gridwidth": 2,
            "linecolor": "white",
            "showbackground": true,
            "ticks": "",
            "zerolinecolor": "white"
           },
           "yaxis": {
            "backgroundcolor": "#E5ECF6",
            "gridcolor": "white",
            "gridwidth": 2,
            "linecolor": "white",
            "showbackground": true,
            "ticks": "",
            "zerolinecolor": "white"
           },
           "zaxis": {
            "backgroundcolor": "#E5ECF6",
            "gridcolor": "white",
            "gridwidth": 2,
            "linecolor": "white",
            "showbackground": true,
            "ticks": "",
            "zerolinecolor": "white"
           }
          },
          "shapedefaults": {
           "line": {
            "color": "#2a3f5f"
           }
          },
          "ternary": {
           "aaxis": {
            "gridcolor": "white",
            "linecolor": "white",
            "ticks": ""
           },
           "baxis": {
            "gridcolor": "white",
            "linecolor": "white",
            "ticks": ""
           },
           "bgcolor": "#E5ECF6",
           "caxis": {
            "gridcolor": "white",
            "linecolor": "white",
            "ticks": ""
           }
          },
          "title": {
           "x": 0.05
          },
          "xaxis": {
           "automargin": true,
           "gridcolor": "white",
           "linecolor": "white",
           "ticks": "",
           "title": {
            "standoff": 15
           },
           "zerolinecolor": "white",
           "zerolinewidth": 2
          },
          "yaxis": {
           "automargin": true,
           "gridcolor": "white",
           "linecolor": "white",
           "ticks": "",
           "title": {
            "standoff": 15
           },
           "zerolinecolor": "white",
           "zerolinewidth": 2
          }
         }
        },
        "title": {
         "text": "Distribution of Sentiment Scores"
        },
        "xaxis": {
         "anchor": "y",
         "categoryarray": [
          "negative",
          "neutral",
          "positive"
         ],
         "categoryorder": "array",
         "domain": [
          0,
          1
         ],
         "title": {
          "text": "Sentiment"
         }
        },
        "yaxis": {
         "anchor": "x",
         "domain": [
          0,
          1
         ],
         "title": {
          "text": "Score"
         }
        }
       }
      }
     },
     "metadata": {},
     "output_type": "display_data"
    }
   ],
   "source": [
    "fig_box = px.box(df, x='sentiment_label', y='sentiment_score', color='sentiment_label',\n",
    "                 title='Distribution of Sentiment Scores',\n",
    "                 labels={'sentiment_label': 'Sentiment', 'sentiment_score': 'Score'},\n",
    "                 color_discrete_sequence=px.colors.qualitative.Vivid)\n",
    "fig_box.show()\n"
   ]
  },
  {
   "cell_type": "markdown",
   "metadata": {},
   "source": [
    "## 8. Conclusions\n",
    "\n",
    "Through this analysis, we can draw several key conclusions about the public perception of women's participation in football during Euro 2024:\n",
    "\n",
    "Distribution of Sentiments: Most of the analyzed texts exhibit a neutral sentiment, followed by positive and then negative sentiments.\n",
    "\n",
    "Proportion of Sentiments: The pie chart clearly shows the proportion of each sentiment type, indicating that the perception is mostly neutral or positive.\n",
    "\n",
    "Sentiment Scores: The box plot shows the distribution of sentiment scores, indicating variability within each sentiment category.\n",
    "\n",
    "This analysis provides a clear view of how the participation of women in football during Euro 2024 is perceived on the Reddit platform, helping guide future strategies and communications in the sports and social spheres."
   ]
  }
 ],
 "metadata": {
  "kernelspec": {
   "display_name": "myenv",
   "language": "python",
   "name": "python3"
  },
  "language_info": {
   "codemirror_mode": {
    "name": "ipython",
    "version": 3
   },
   "file_extension": ".py",
   "mimetype": "text/x-python",
   "name": "python",
   "nbconvert_exporter": "python",
   "pygments_lexer": "ipython3",
   "version": "3.12.4"
  }
 },
 "nbformat": 4,
 "nbformat_minor": 2
}
